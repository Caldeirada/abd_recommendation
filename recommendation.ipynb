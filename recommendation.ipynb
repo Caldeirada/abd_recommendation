{
 "cells": [
  {
   "cell_type": "markdown",
   "metadata": {},
   "source": [
    "# Initial Setup"
   ]
  },
  {
   "cell_type": "code",
   "execution_count": 2,
   "metadata": {},
   "outputs": [],
   "source": [
    "# basic imports \n",
    "\n",
    "import os # OS e.g directory structure\n",
    "import sys\n",
    "import numpy as np # linear algebra\n",
    "import scipy as sc  # scientific computing\n",
    "import pandas as pd # data processing, file I/O\n",
    "import seaborn as sns  # visualization\n",
    "import matplotlib.pyplot as plt # visualization\n",
    "import warnings\n",
    "warnings.filterwarnings(\"ignore\")"
   ]
  },
  {
   "cell_type": "code",
   "execution_count": 3,
   "metadata": {},
   "outputs": [],
   "source": [
    "# Spark related imports\n",
    "\n",
    "from pyspark.sql import SparkSession, Row\n",
    "from pyspark.sql.functions import *\n",
    "from pyspark.sql.types import *\n",
    "\n",
    "from pyspark.ml.feature import StringIndexer\n",
    "from pyspark.ml.fpm import FPGrowth\n",
    "from pyspark.ml.fpm import PrefixSpan\n",
    "from pyspark.ml.evaluation import RegressionEvaluator"
   ]
  },
  {
   "cell_type": "markdown",
   "metadata": {},
   "source": [
    "\n",
    "# Data Exploration"
   ]
  },
  {
   "cell_type": "code",
   "execution_count": null,
   "metadata": {},
   "outputs": [],
   "source": [
    "! echo \"Oct-2019\"\n",
    "! head -n 5 dataset/2019-Oct.csv\n",
    "! tail -n 5 dataset/2019-Oct.csv\n",
    "! echo \"Nov-2019\"\n",
    "! head -n 5 dataset/2019-Nov.csv\n",
    "! tail -n 5 dataset/2019-Nov.csv"
   ]
  },
  {
   "cell_type": "code",
   "execution_count": 4,
   "metadata": {},
   "outputs": [],
   "source": [
    "from pyspark.sql import SparkSession\n",
    "\n",
    "spark = SparkSession.builder.appName(\"abd_recommendation\").getOrCreate()"
   ]
  },
  {
   "cell_type": "code",
   "execution_count": 5,
   "metadata": {},
   "outputs": [],
   "source": [
    "sales = spark.read.csv(\"dataset/2019-*-small.csv\", header=\"true\", inferSchema=\"true\", sep=\",\")\n",
    "#sales_nov = spark.read.csv(\"dataset/2019-Nov-small.csv\", header=\"true\", inferSchema=\"true\", sep=\",\")"
   ]
  },
  {
   "cell_type": "code",
   "execution_count": 6,
   "metadata": {},
   "outputs": [
    {
     "name": "stdout",
     "output_type": "stream",
     "text": [
      "root\n",
      " |-- event_time: string (nullable = true)\n",
      " |-- event_type: string (nullable = true)\n",
      " |-- product_id: integer (nullable = true)\n",
      " |-- category_id: long (nullable = true)\n",
      " |-- category_code: string (nullable = true)\n",
      " |-- brand: string (nullable = true)\n",
      " |-- price: double (nullable = true)\n",
      " |-- user_id: integer (nullable = true)\n",
      " |-- user_session: string (nullable = true)\n",
      "\n"
     ]
    },
    {
     "data": {
      "text/plain": [
       "199998"
      ]
     },
     "execution_count": 6,
     "metadata": {},
     "output_type": "execute_result"
    }
   ],
   "source": [
    "#sales_oct.printSchema()\n",
    "#so = sales_oct.count()\n",
    "\n",
    "#sales_nov.printSchema()\n",
    "#sv = sales_nov.count()\n",
    "\n",
    "sales.printSchema()\n",
    "sales.count()"
   ]
  },
  {
   "cell_type": "code",
   "execution_count": 9,
   "metadata": {},
   "outputs": [
    {
     "name": "stdout",
     "output_type": "stream",
     "text": [
      "+----------+------+\n",
      "|event_type|count |\n",
      "+----------+------+\n",
      "|purchase  |3077  |\n",
      "|view      |194617|\n",
      "|cart      |2304  |\n",
      "+----------+------+\n",
      "\n"
     ]
    }
   ],
   "source": [
    "sales.groupBy('event_type').count().show(truncate=False)"
   ]
  },
  {
   "cell_type": "code",
   "execution_count": 7,
   "metadata": {},
   "outputs": [
    {
     "name": "stdout",
     "output_type": "stream",
     "text": [
      "+----------+----------+----------+-----------+-------------+-----+-----+-------+------------+\n",
      "|event_time|event_type|product_id|category_id|category_code|brand|price|user_id|user_session|\n",
      "+----------+----------+----------+-----------+-------------+-----+-----+-------+------------+\n",
      "|         0|         0|         0|          0|        66427|30168|    0|      0|           0|\n",
      "+----------+----------+----------+-----------+-------------+-----+-----+-------+------------+\n",
      "\n"
     ]
    }
   ],
   "source": [
    "# https://stackoverflow.com/questions/40163106/cannot-find-col-function-in-pyspark\n",
    "\n",
    "sales.select([count(when(isnan(c) | col(c).isNull(), c)).alias(c) for c in sales.columns]).show()"
   ]
  },
  {
   "cell_type": "code",
   "execution_count": 10,
   "metadata": {},
   "outputs": [
    {
     "name": "stdout",
     "output_type": "stream",
     "text": [
      "+-------------+-----+\n",
      "|brand        |count|\n",
      "+-------------+-----+\n",
      "|yokohama     |672  |\n",
      "|welss        |17   |\n",
      "|tuffoni      |10   |\n",
      "|tmnt         |1    |\n",
      "|serebro      |14   |\n",
      "|edifier      |11   |\n",
      "|globo        |1    |\n",
      "|tega         |1    |\n",
      "|sonel        |34   |\n",
      "|nutricia     |13   |\n",
      "|bombbar      |4    |\n",
      "|alutec       |9    |\n",
      "|goo.n        |6    |\n",
      "|keenway      |5    |\n",
      "|sigma        |10   |\n",
      "|nocnezna     |1    |\n",
      "|trianglegroup|2    |\n",
      "|fitwell      |2    |\n",
      "|belaakalitva |2    |\n",
      "|ariston      |346  |\n",
      "+-------------+-----+\n",
      "only showing top 20 rows\n",
      "\n"
     ]
    }
   ],
   "source": [
    "sales.groupBy('brand').count().show(truncate=False)"
   ]
  },
  {
   "cell_type": "code",
   "execution_count": 11,
   "metadata": {},
   "outputs": [
    {
     "name": "stdout",
     "output_type": "stream",
     "text": [
      "+-------+-----------------+\n",
      "|summary|            price|\n",
      "+-------+-----------------+\n",
      "|  count|           199998|\n",
      "|   mean|284.1862630626338|\n",
      "| stddev|351.4834010830769|\n",
      "|    min|              0.0|\n",
      "|    max|          2574.07|\n",
      "+-------+-----------------+\n",
      "\n"
     ]
    }
   ],
   "source": [
    "sales.describe(\"price\").show()"
   ]
  },
  {
   "cell_type": "code",
   "execution_count": null,
   "metadata": {},
   "outputs": [],
   "source": [
    "no_price = sales.select('*').where(col('price')==0)\n",
    "no_price.show()\n",
    "no_price.count()"
   ]
  },
  {
   "cell_type": "markdown",
   "metadata": {},
   "source": [
    "Groupby user session using market basket since we have not user valuation"
   ]
  },
  {
   "cell_type": "code",
   "execution_count": null,
   "metadata": {},
   "outputs": [],
   "source": [
    "# https://stackoverflow.com/questions/48406304/groupby-and-concat-array-columns-pyspark\n",
    "sales.groupBy(\"event_type\",'user_session').agg(collect_list('product_id').alias('products')).show(20, truncate=False)"
   ]
  },
  {
   "cell_type": "code",
   "execution_count": null,
   "metadata": {},
   "outputs": [],
   "source": [
    "sales.select(\"event_type\").distinct().show(truncate=False)"
   ]
  },
  {
   "cell_type": "code",
   "execution_count": null,
   "metadata": {
    "scrolled": false
   },
   "outputs": [],
   "source": [
    "sales.select(\"category_code\").distinct().show()"
   ]
  },
  {
   "cell_type": "markdown",
   "metadata": {},
   "source": [
    "Drop column event_time, price and category_code"
   ]
  },
  {
   "cell_type": "code",
   "execution_count": 12,
   "metadata": {},
   "outputs": [],
   "source": [
    "sales_short = sales.drop(\"price\", \"event_time\", \"category_code\")"
   ]
  },
  {
   "cell_type": "code",
   "execution_count": null,
   "metadata": {},
   "outputs": [],
   "source": [
    "sales_short.printSchema()"
   ]
  },
  {
   "cell_type": "code",
   "execution_count": 13,
   "metadata": {},
   "outputs": [
    {
     "name": "stdout",
     "output_type": "stream",
     "text": [
      "duplicate rows = 120652\n"
     ]
    }
   ],
   "source": [
    "df_user_brand = sales_short.select('user_id','brand')\n",
    "print(f'duplicate rows = {df_user_brand.count()-df_user_brand.dropDuplicates().count()}')\n",
    "df_user_brand = df_user_brand.dropDuplicates()\n",
    "\n",
    "#indexer = StringIndexer(inputCol=\"category_id\", outputCol=\"category_id-Index\")\n",
    "#df_user_cat_id_indexed = indexer.fit(df_user_cat_id).transform(df_user_cat_id)"
   ]
  },
  {
   "cell_type": "markdown",
   "metadata": {},
   "source": [
    "recomendation based on brand, product viewd and purchased"
   ]
  },
  {
   "cell_type": "code",
   "execution_count": 19,
   "metadata": {},
   "outputs": [
    {
     "name": "stdout",
     "output_type": "stream",
     "text": [
      "root\n",
      " |-- user_id: integer (nullable = true)\n",
      " |-- products: array (nullable = true)\n",
      " |    |-- element: integer (containsNull = false)\n",
      "\n"
     ]
    }
   ],
   "source": [
    "df_s_b = sales_short.select(\"user_id\", \"product_id\")\n",
    "df_s_b = df_s_b.dropDuplicates()\n",
    "\n",
    "\n",
    "\n",
    "df_session_basket = df_s_b.groupBy('user_id').agg(collect_list('product_id').alias('products'))\n",
    "df_session_basket.printSchema()"
   ]
  },
  {
   "cell_type": "code",
   "execution_count": 21,
   "metadata": {},
   "outputs": [
    {
     "name": "stdout",
     "output_type": "stream",
     "text": [
      "+-------+----------+\n",
      "|user_id|product_id|\n",
      "+-------+----------+\n",
      "|      0|         0|\n",
      "+-------+----------+\n",
      "\n"
     ]
    }
   ],
   "source": [
    "df_s_b.select([count(when(isnan(c) | col(c).isNull(), c)).alias(c) for c in df_s_b.columns]).show()"
   ]
  },
  {
   "cell_type": "code",
   "execution_count": 20,
   "metadata": {},
   "outputs": [
    {
     "name": "stdout",
     "output_type": "stream",
     "text": [
      "+---------+--------------------+\n",
      "|  user_id|            products|\n",
      "+---------+--------------------+\n",
      "|445162060|  [2601695, 2602161]|\n",
      "|509481306|           [3500116]|\n",
      "|512366675|[4700634, 4700542...|\n",
      "|512513760|[4802159, 2840077...|\n",
      "|512552482|[22700420, 227000...|\n",
      "|512697003|[17300211, 173007...|\n",
      "|512818893|[15700033, 15700074]|\n",
      "|512907846|          [12100020]|\n",
      "|512975815|          [18100019]|\n",
      "|513101609|[13103078, 50600021]|\n",
      "|513136911|[1005153, 6300731...|\n",
      "|513161211|          [22000069]|\n",
      "|513165061|[26004578, 260059...|\n",
      "|513168011|  [1004720, 1004875]|\n",
      "|513172205|           [4100339]|\n",
      "|513216657|           [1005117]|\n",
      "|513247621|[31401133, 15100147]|\n",
      "|513266555|[12300559, 123009...|\n",
      "|513291250|          [12500691]|\n",
      "|513360681|[15700176, 480397...|\n",
      "+---------+--------------------+\n",
      "only showing top 20 rows\n",
      "\n"
     ]
    }
   ],
   "source": [
    "df_session_basket.show()"
   ]
  },
  {
   "cell_type": "code",
   "execution_count": 15,
   "metadata": {},
   "outputs": [
    {
     "name": "stdout",
     "output_type": "stream",
     "text": [
      "root\n",
      " |-- user_id: integer (nullable = true)\n",
      " |-- products: array (nullable = true)\n",
      " |    |-- element: string (containsNull = false)\n",
      "\n"
     ]
    }
   ],
   "source": [
    "df_user_basket = df_user_brand.groupBy('user_id').agg(collect_list('brand').alias('products'))\n",
    "df_user_basket.printSchema()"
   ]
  },
  {
   "cell_type": "code",
   "execution_count": 58,
   "metadata": {},
   "outputs": [
    {
     "name": "stdout",
     "output_type": "stream",
     "text": [
      "+---------+--------------------+\n",
      "|  user_id|            products|\n",
      "+---------+--------------------+\n",
      "|445162060|    [flama, shivaki]|\n",
      "|509481306|          [moulinex]|\n",
      "|512366675|[anytek, incar, i...|\n",
      "|512513760|        [jbl, baden]|\n",
      "|512552482|[bosch, marshal, ...|\n",
      "|512697003|[lanvin, versace,...|\n",
      "|512818893|                  []|\n",
      "|512907846|              [zinc]|\n",
      "|512975815|           [tarkett]|\n",
      "|513101609|     [trebl, denzel]|\n",
      "|513136911|[braun, xiaomi, v...|\n",
      "|513161211|           [higashi]|\n",
      "|513165061|                  []|\n",
      "|513168011|   [huawei, samsung]|\n",
      "|513172205|         [microsoft]|\n",
      "|513216657|             [apple]|\n",
      "|513247621|  [lider, pasabahce]|\n",
      "|513266555|[makita, dewalt, ...|\n",
      "|513291250|             [bosch]|\n",
      "|513360681|  [bts, samsung, sv]|\n",
      "+---------+--------------------+\n",
      "only showing top 20 rows\n",
      "\n"
     ]
    },
    {
     "data": {
      "text/plain": [
       "40822"
      ]
     },
     "execution_count": 58,
     "metadata": {},
     "output_type": "execute_result"
    }
   ],
   "source": [
    "df_user_basket.show()\n",
    "df_session_basket.count()"
   ]
  },
  {
   "cell_type": "code",
   "execution_count": 22,
   "metadata": {},
   "outputs": [],
   "source": [
    "fpGrowth = FPGrowth(itemsCol=\"products\", minSupport=0.001, minConfidence=0.001)\n",
    "model = fpGrowth.fit(df_session_basket)"
   ]
  },
  {
   "cell_type": "code",
   "execution_count": 42,
   "metadata": {},
   "outputs": [
    {
     "name": "stdout",
     "output_type": "stream",
     "text": [
      "+------------------+----+\n",
      "|             items|freq|\n",
      "+------------------+----+\n",
      "|         [1004655]|  57|\n",
      "|         [1005115]|1233|\n",
      "|         [1004856]|1229|\n",
      "|[1004856, 1005115]|  46|\n",
      "|         [4803879]|  57|\n",
      "|         [1004767]| 999|\n",
      "|[1004767, 1004856]| 167|\n",
      "|[1004767, 1005115]|  42|\n",
      "|        [28718083]|  57|\n",
      "|         [1005105]| 769|\n",
      "|[1005105, 1005115]| 241|\n",
      "|         [1002099]|  57|\n",
      "|         [1004249]| 641|\n",
      "|[1004249, 1005105]|  62|\n",
      "|[1004249, 1005115]| 159|\n",
      "|         [1003709]|  57|\n",
      "|         [1004870]| 607|\n",
      "|[1004870, 1004767]| 149|\n",
      "|[1004870, 1004856]|  81|\n",
      "|         [1003712]|  57|\n",
      "+------------------+----+\n",
      "only showing top 20 rows\n",
      "\n",
      "+------------------+----------+--------------------+------------------+\n",
      "|        antecedent|consequent|          confidence|              lift|\n",
      "+------------------+----------+--------------------+------------------+\n",
      "|         [1004857]| [1004856]| 0.45161290322580644|15.000603690385574|\n",
      "|         [1002544]| [1004249]| 0.11844660194174757|  7.54325613801251|\n",
      "|         [1002544]| [1005115]|  0.1436893203883495| 4.757246907455964|\n",
      "|         [1002544]| [1002524]| 0.13203883495145632|16.739407827293014|\n",
      "|         [1002544]| [1002633]|  0.1145631067961165| 15.96141687928692|\n",
      "|         [1002544]| [1003306]| 0.08349514563106795|12.670776338109503|\n",
      "|         [1005161]| [1005160]| 0.31788079470198677| 44.28849761544199|\n",
      "|         [1005105]| [1005115]| 0.31339401820546164| 10.37580747054611|\n",
      "|         [1005105]| [1004249]| 0.08062418725617686| 5.134540674214745|\n",
      "|         [1005105]| [1005135]| 0.11053315994798439|11.569704244606713|\n",
      "|         [1005105]| [1003317]| 0.05851755526657997| 7.631960514671974|\n",
      "|         [1005105]| [1005132]|0.053315994798439535|15.771489417839845|\n",
      "|         [1004903]| [1004856]| 0.23563218390804597| 7.826669659474574|\n",
      "|[1004767, 1004856]| [1004833]|   0.281437125748503| 19.98056756053111|\n",
      "|         [1005116]| [1005115]| 0.24757281553398058| 8.196607847305884|\n",
      "|         [4804055]| [4804056]|  0.4105691056910569| 35.35918150320744|\n",
      "|         [1004839]| [1004838]| 0.45555555555555555|   67.379307568438|\n",
      "|         [1004246]| [1004249]| 0.25961538461538464|16.533571342853715|\n",
      "|         [1004246]| [1004258]| 0.21634615384615385| 28.30667529585799|\n",
      "|         [1005135]| [1005105]| 0.21794871794871795|11.569704244606717|\n",
      "+------------------+----------+--------------------+------------------+\n",
      "only showing top 20 rows\n",
      "\n",
      "+---------+--------------------+----------+\n",
      "|  user_id|            products|prediction|\n",
      "+---------+--------------------+----------+\n",
      "|445162060|  [2601695, 2602161]|        []|\n",
      "|509481306|           [3500116]|        []|\n",
      "|512366675|[4700634, 4700542...|        []|\n",
      "|512513760|[4802159, 2840077...|        []|\n",
      "|512552482|[22700420, 227000...|        []|\n",
      "|512697003|[17300211, 173007...|        []|\n",
      "|512818893|[15700033, 15700074]|        []|\n",
      "|512907846|          [12100020]|        []|\n",
      "|512975815|          [18100019]|        []|\n",
      "|513101609|[13103078, 50600021]|        []|\n",
      "|513136911|[1005153, 6300731...|        []|\n",
      "|513161211|          [22000069]|        []|\n",
      "|513165061|[26004578, 260059...|        []|\n",
      "|513168011|  [1004720, 1004875]|        []|\n",
      "|513172205|           [4100339]|        []|\n",
      "|513216657|           [1005117]|        []|\n",
      "|513247621|[31401133, 15100147]|        []|\n",
      "|513266555|[12300559, 123009...|        []|\n",
      "|513291250|          [12500691]|        []|\n",
      "|513360681|[15700176, 480397...|        []|\n",
      "+---------+--------------------+----------+\n",
      "only showing top 20 rows\n",
      "\n"
     ]
    }
   ],
   "source": [
    "# session vs product? sessions vs brand?\n",
    "\n",
    "#predictions = model.transform(dftest)\n",
    "#predictions.show(truncate=False)\n",
    "\n",
    "# Display frequent itemsets.\n",
    "model.freqItemsets.show()\n",
    "\n",
    "# Display generated association rules.\n",
    "model.associationRules.show()\n",
    "\n",
    "# transform examines the input items against all the association rules and summarize the\n",
    "# consequents as prediction\n",
    "model.transform(df_session_basket).show()"
   ]
  },
  {
   "cell_type": "code",
   "execution_count": 43,
   "metadata": {},
   "outputs": [
    {
     "name": "stdout",
     "output_type": "stream",
     "text": [
      "+---------+--------------------+--------------------+\n",
      "|  user_id|            products|          prediction|\n",
      "+---------+--------------------+--------------------+\n",
      "|513431118|  [1003312, 1004246]|  [1004249, 1004258]|\n",
      "|513595928|           [1003317]|[1004249, 1005105...|\n",
      "|513818082|           [1004249]|[1005105, 1005115...|\n",
      "|514569249|  [1005115, 1002629]|[1004856, 1004767...|\n",
      "|514714578|           [1004249]|[1005105, 1005115...|\n",
      "|514764444|           [1004857]|           [1004856]|\n",
      "|515687124|[3601127, 2702590...|           [3600666]|\n",
      "|517267340|[1004768, 1004871...|[1004856, 1005115...|\n",
      "|517341202|           [1002544]|[1004249, 1005115...|\n",
      "|517450831|[1004767, 1004209...|[1004856, 1005115...|\n",
      "|517531224|[1005177, 1004653...|[1004873, 1005105...|\n",
      "|517644942|[1004856, 1004836...|[1005115, 1004249...|\n",
      "|518413677|  [1004873, 1002544]|[1004249, 1005115...|\n",
      "|518619616|[1005100, 1004857...|[1004833, 1004836...|\n",
      "|518638475|  [1004873, 1004659]|[1004767, 1004870...|\n",
      "|518740148|           [1004839]|           [1004838]|\n",
      "|519812976|           [1005105]|[1005115, 1004249...|\n",
      "|524938674|[1004751, 1004767...|[1004856, 1005115...|\n",
      "|526715786|           [4802036]|           [4804056]|\n",
      "|529079049|[1003318, 1003316...|[1004856, 1004767...|\n",
      "+---------+--------------------+--------------------+\n",
      "only showing top 20 rows\n",
      "\n"
     ]
    }
   ],
   "source": [
    "model.transform(df_session_basket).where(filter_len(col(\"prediction\"),lit(1))).show()"
   ]
  },
  {
   "cell_type": "code",
   "execution_count": 62,
   "metadata": {},
   "outputs": [
    {
     "name": "stdout",
     "output_type": "stream",
     "text": [
      "+----------+----------+-------------------+------------------+\n",
      "|antecedent|consequent|         confidence|              lift|\n",
      "+----------+----------+-------------------+------------------+\n",
      "| [1004246]| [1004249]|0.25961538461538464|16.533571342853715|\n",
      "| [1004246]| [1004258]|0.21634615384615385| 28.30667529585799|\n",
      "+----------+----------+-------------------+------------------+\n",
      "\n",
      "+----------+----------+----------+----+\n",
      "|antecedent|consequent|confidence|lift|\n",
      "+----------+----------+----------+----+\n",
      "+----------+----------+----------+----+\n",
      "\n",
      "+------------------+----+\n",
      "|             items|freq|\n",
      "+------------------+----+\n",
      "|[1004857, 1004856]|  70|\n",
      "+------------------+----+\n",
      "\n",
      "+---------+----+\n",
      "|    items|freq|\n",
      "+---------+----+\n",
      "|[1004857]| 155|\n",
      "+---------+----+\n",
      "\n",
      "+---------+----+\n",
      "|    items|freq|\n",
      "+---------+----+\n",
      "|[1004856]|1229|\n",
      "+---------+----+\n",
      "\n"
     ]
    }
   ],
   "source": [
    "#1003312\n",
    "model.associationRules.where(col(\"antecedent\")==array([lit(1004246)])).show()\n",
    "model.associationRules.where(col(\"antecedent\")==array([lit(1003312)])).show()\n",
    "\n",
    "model.freqItemsets.where(col(\"items\")==array([lit(1004857),lit(1004856)])).show()\n",
    "model.freqItemsets.where(col(\"items\")==array([lit(1004857)])).show()\n",
    "model.freqItemsets.where(col(\"items\")==array([lit(1004856)])).show()"
   ]
  },
  {
   "cell_type": "code",
   "execution_count": 57,
   "metadata": {},
   "outputs": [
    {
     "name": "stdout",
     "output_type": "stream",
     "text": [
      "+------------------+----------+-------------------+------------------+\n",
      "|        antecedent|consequent|         confidence|              lift|\n",
      "+------------------+----------+-------------------+------------------+\n",
      "|         [3600666]| [3600661]| 0.5316455696202531|126.17927583161611|\n",
      "|[1004833, 1004767]| [1004856]|0.46078431372549017|15.305237798943825|\n",
      "|         [1004839]| [1004838]|0.45555555555555555|   67.379307568438|\n",
      "|         [1004857]| [1004856]|0.45161290322580644|15.000603690385574|\n",
      "|         [4804055]| [4804056]| 0.4105691056910569| 35.35918150320744|\n",
      "|         [1004858]| [1004856]|              0.375| 12.45585842148088|\n",
      "|         [4802036]| [4804056]|0.36904761904761907|31.783252963632712|\n",
      "|         [1004768]| [1004767]|0.35428571428571426|14.477128557128555|\n",
      "|         [1005098]| [1004856]| 0.3493150684931507|11.602717433708216|\n",
      "|         [1005100]| [1004856]| 0.3301282051282051|10.965413824038722|\n",
      "|         [1005104]| [1005115]|0.32642487046632124|10.807231193979048|\n",
      "|         [1005239]| [1005160]|0.32075471698113206|44.688904630047006|\n",
      "|         [1005161]| [1005160]|0.31788079470198677| 44.28849761544199|\n",
      "|         [1005105]| [1005115]|0.31339401820546164| 10.37580747054611|\n",
      "|         [1005159]| [1005160]| 0.3106060606060606| 43.27495087392698|\n",
      "|         [1004833]| [1004856]| 0.3095652173913043|  10.2824013867761|\n",
      "|         [1004237]| [1005115]| 0.3018867924528302| 9.994827770891673|\n",
      "|         [1003317]| [1005115]| 0.3003194888178914| 9.942937690611487|\n",
      "|         [1005132]| [1005105]| 0.2971014492753623|15.771489417839845|\n",
      "|         [1004781]| [1004785]|0.29508196721311475| 38.48509925103441|\n",
      "+------------------+----------+-------------------+------------------+\n",
      "only showing top 20 rows\n",
      "\n",
      "+----------+----------+--------------------+------------------+\n",
      "|antecedent|consequent|          confidence|              lift|\n",
      "+----------+----------+--------------------+------------------+\n",
      "| [1005115]| [1004856]|  0.0373073803730738|1.2391878613422447|\n",
      "| [1004856]| [1005115]| 0.03742880390561432| 1.239187861342245|\n",
      "| [1005115]| [1004767]|  0.0340632603406326|1.3919223359612654|\n",
      "| [1004767]| [1005115]|0.042042042042042045|1.3919223359612656|\n",
      "| [1004856]| [1004873]| 0.03336045565500407|3.2194811365214564|\n",
      "| [1004873]| [1004856]| 0.09692671394799054|3.2194811365214564|\n",
      "| [1004856]| [1004870]| 0.06590724165988608| 4.432397724942124|\n",
      "| [1004870]| [1004856]| 0.13344316309719934| 4.432397724942125|\n",
      "| [1002544]| [1005115]|  0.1436893203883495| 4.757246907455964|\n",
      "| [1005115]| [1002544]| 0.06001622060016221| 4.757246907455965|\n",
      "| [1002524]| [1005115]| 0.15217391304347827|  5.03815367255545|\n",
      "| [1005115]| [1002524]|0.039740470397404706|  5.03815367255545|\n",
      "| [1005105]| [1004249]| 0.08062418725617686| 5.134540674214745|\n",
      "| [1004249]| [1005105]|  0.0967238689547582| 5.134540674214746|\n",
      "| [1002633]| [1005115]| 0.15699658703071673| 5.197822121466276|\n",
      "| [1005115]| [1002633]|  0.0373073803730738| 5.197822121466276|\n",
      "| [1004836]| [1004856]| 0.16374269005847952| 5.438815373122255|\n",
      "| [1004856]| [1004836]|0.045565500406834825| 5.438815373122255|\n",
      "| [1004856]| [1004767]| 0.13588283157038242| 5.552561511878029|\n",
      "| [1004767]| [1004856]| 0.16716716716716717|  5.55256151187803|\n",
      "+----------+----------+--------------------+------------------+\n",
      "only showing top 20 rows\n",
      "\n"
     ]
    }
   ],
   "source": [
    "model.associationRules.orderBy(col(\"confidence\").desc()).show()\n",
    "model.associationRules.orderBy(col(\"lift\").asc()).show()"
   ]
  },
  {
   "cell_type": "code",
   "execution_count": null,
   "metadata": {},
   "outputs": [],
   "source": []
  },
  {
   "cell_type": "code",
   "execution_count": 1,
   "metadata": {},
   "outputs": [
    {
     "ename": "NameError",
     "evalue": "name 'df_user_basket' is not defined",
     "output_type": "error",
     "traceback": [
      "\u001b[0;31m---------------------------------------------------------------------------\u001b[0m",
      "\u001b[0;31mNameError\u001b[0m                                 Traceback (most recent call last)",
      "\u001b[0;32m<ipython-input-1-338e2fc17152>\u001b[0m in \u001b[0;36m<module>\u001b[0;34m\u001b[0m\n\u001b[1;32m     12\u001b[0m     \u001b[0mcols\u001b[0m \u001b[0;34m=\u001b[0m \u001b[0mudf\u001b[0m\u001b[0;34m(\u001b[0m\u001b[0mcontains_all\u001b[0m\u001b[0;34m,\u001b[0m \u001b[0mBooleanType\u001b[0m\u001b[0;34m(\u001b[0m\u001b[0;34m)\u001b[0m\u001b[0;34m)\u001b[0m\u001b[0;34m\u001b[0m\u001b[0;34m\u001b[0m\u001b[0m\n\u001b[1;32m     13\u001b[0m \u001b[0;34m\u001b[0m\u001b[0m\n\u001b[0;32m---> 14\u001b[0;31m     \u001b[0ma\u001b[0m\u001b[0;34m.\u001b[0m\u001b[0mappend\u001b[0m\u001b[0;34m(\u001b[0m\u001b[0;34m[\u001b[0m\u001b[0mb\u001b[0m\u001b[0;34m,\u001b[0m\u001b[0mdf_user_basket\u001b[0m\u001b[0;34m.\u001b[0m\u001b[0mselect\u001b[0m\u001b[0;34m(\u001b[0m\u001b[0;34m\"*\"\u001b[0m\u001b[0;34m)\u001b[0m\u001b[0;34m.\u001b[0m\u001b[0mwhere\u001b[0m\u001b[0;34m(\u001b[0m\u001b[0mcols\u001b[0m\u001b[0;34m(\u001b[0m\u001b[0mcol\u001b[0m\u001b[0;34m(\u001b[0m\u001b[0;34m\"products\"\u001b[0m\u001b[0;34m)\u001b[0m\u001b[0;34m)\u001b[0m\u001b[0;34m)\u001b[0m\u001b[0;34m.\u001b[0m\u001b[0mcount\u001b[0m\u001b[0;34m(\u001b[0m\u001b[0;34m)\u001b[0m\u001b[0;34m]\u001b[0m\u001b[0;34m)\u001b[0m\u001b[0;34m\u001b[0m\u001b[0;34m\u001b[0m\u001b[0m\n\u001b[0m\u001b[1;32m     15\u001b[0m \u001b[0;34m\u001b[0m\u001b[0m\n\u001b[1;32m     16\u001b[0m \u001b[0mdf_user_basket\u001b[0m\u001b[0;34m.\u001b[0m\u001b[0mwithColumn\u001b[0m\u001b[0;34m(\u001b[0m\u001b[0;34m\"contains\"\u001b[0m\u001b[0;34m,\u001b[0m \u001b[0mcols\u001b[0m\u001b[0;34m(\u001b[0m\u001b[0mcol\u001b[0m\u001b[0;34m(\u001b[0m\u001b[0;34m\"products\"\u001b[0m\u001b[0;34m)\u001b[0m\u001b[0;34m)\u001b[0m\u001b[0;34m)\u001b[0m\u001b[0;34m.\u001b[0m\u001b[0mwhere\u001b[0m\u001b[0;34m(\u001b[0m\u001b[0mcol\u001b[0m\u001b[0;34m(\u001b[0m\u001b[0;34m\"contains\"\u001b[0m\u001b[0;34m)\u001b[0m\u001b[0;34m==\u001b[0m\u001b[0;34m\"true\"\u001b[0m\u001b[0;34m)\u001b[0m\u001b[0;34m.\u001b[0m\u001b[0mshow\u001b[0m\u001b[0;34m(\u001b[0m\u001b[0;34m)\u001b[0m\u001b[0;34m\u001b[0m\u001b[0;34m\u001b[0m\u001b[0m\n",
      "\u001b[0;31mNameError\u001b[0m: name 'df_user_basket' is not defined"
     ]
    }
   ],
   "source": [
    "from pyspark.sql.functions import udf\n",
    "from pyspark.sql.types import StructType, StructField, IntegerType, FloatType, StringType, BooleanType\n",
    "\n",
    "brand = [[\"samsung\", \"xiaomi\"],[\"samsung\", \"apple\"],[\"meizu\", \"honor\"]]\n",
    "\n",
    "a=[]\n",
    "for b in brand:\n",
    "    def contains_all(x):\n",
    "        if x is not None:\n",
    "            return set(b).issubset(set(x))\n",
    "\n",
    "    cols = udf(contains_all, BooleanType())\n",
    "\n",
    "    a.append([b,df_user_basket.select(\"*\").where(cols(col(\"products\"))).count()])\n",
    "\n",
    "df_user_basket.withColumn(\"contains\", cols(col(\"products\"))).where(col(\"contains\")==\"true\").show()\n",
    "print(df_user_basket.withColumn(\"contains\", cols(col(\"products\"))).where(col(\"contains\")==\"true\").count())"
   ]
  },
  {
   "cell_type": "code",
   "execution_count": 29,
   "metadata": {},
   "outputs": [],
   "source": [
    "from itertools import combinations\n",
    "import threading\n",
    "\n",
    "def contains_all(x,y):\n",
    "    print(x)\n",
    "    print(type(x))\n",
    "    print(y)\n",
    "    if x is not None:\n",
    "        return set(y).issubset(set(x))\n",
    "\n",
    "def get_subsets(x, c):\n",
    "    return [list(i) for i in combinations(x, c )]\n",
    "\n",
    "def filter_len(x,c):\n",
    "    return len(x) >= c\n",
    "    \n",
    "cols = udf(contains_all, BooleanType())\n",
    "subset = udf(get_subsets, ArrayType(StringType()))\n",
    "filter_len = udf(filter_len, BooleanType())\n",
    "\n",
    "def t(items, df):\n",
    "    a=[]\n",
    "    for b in items:\n",
    "        a.append((b,df.select(\"*\").where(cols(col(\"basket\"),array([lit(i) for i in b]))).count()))\n",
    "        print(a[len(a)-1])\n",
    "\n",
    "    return a\n",
    "\n",
    "def apriori(dataframe, item_column, user_column, min_support):\n",
    "    #list of items\n",
    "    items = dataframe.groupBy(item_column).count()\n",
    "\n",
    "    #create basket\n",
    "    df_user_basket = dataframe.groupBy(user_column).agg(collect_list(item_column).alias('basket'))\n",
    "    \n",
    "    accepted_items = items.select(\"*\").where(col(\"count\")>min_support)\n",
    "    #primeira\n",
    "    items_pairs = []\n",
    "    items_as_array = accepted_items.select(item_column).collect()\n",
    "    count = accepted_items.count()\n",
    "    for i in range(count):\n",
    "        for j in range(i+1, count):\n",
    "            items_pairs.append([items_as_array[i].brand, items_as_array[j].brand])\n",
    "    \n",
    "    # remover single items\n",
    "    # TODO\n",
    "    basket_temp = df_user_basket.select(\"*\").filter(size(col(\"basket\")) > 1)\n",
    "    t(items_pairs[0][0],basket_temp)\n",
    "    '''x1 = threading.Thread(target=t, args=(i1, basket_temp))\n",
    "    x2 = threading.Thread(target=t, args=(i2, basket_temp))\n",
    "    x1.start()\n",
    "    x2.start()'''\n",
    "    \n",
    "    \n"
   ]
  },
  {
   "cell_type": "code",
   "execution_count": 75,
   "metadata": {},
   "outputs": [],
   "source": [
    "brands_users = sales.select(\"brand\", \"user_id\").filter(sales.brand.isNotNull())\n",
    "df_user_brand = brands_users.dropDuplicates()"
   ]
  },
  {
   "cell_type": "code",
   "execution_count": 116,
   "metadata": {},
   "outputs": [
    {
     "data": {
      "text/plain": [
       "[['hyundai', 'magnetta'], ['hyundai', 'leo'], ['magnetta', 'leo']]"
      ]
     },
     "execution_count": 116,
     "metadata": {},
     "output_type": "execute_result"
    }
   ],
   "source": [
    "#cenas = apriori(df_user_brand, \"brand\", \"user_id\", 150)\n",
    "[list(i) for i in combinations([\"hyundai\", \"magnetta\", \"leo\"], 2 )]"
   ]
  },
  {
   "cell_type": "code",
   "execution_count": 125,
   "metadata": {},
   "outputs": [
    {
     "name": "stdout",
     "output_type": "stream",
     "text": [
      "+---------+------------------------------------------------------------------+--------------------------------------------------------------------------------------------------------------------------------------------------------------------------------------------------------------------------------------------------------------------------------------------------------------------------------------------------------------------------------------------------------------------------------------------------------------------------------------------------------------------------------------+\n",
      "|user_id  |basket                                                            |subsets                                                                                                                                                                                                                                                                                                                                                                                                                                                                                                                               |\n",
      "+---------+------------------------------------------------------------------+--------------------------------------------------------------------------------------------------------------------------------------------------------------------------------------------------------------------------------------------------------------------------------------------------------------------------------------------------------------------------------------------------------------------------------------------------------------------------------------------------------------------------------------+\n",
      "|545837356|[hyundai, magnetta, leo]                                          |[[hyundai, magnetta], [hyundai, leo], [magnetta, leo]]                                                                                                                                                                                                                                                                                                                                                                                                                                                                                |\n",
      "|552062618|[delonghi, beko, vitek, smeg, elenberg, kitfort, krups]           |[[delonghi, beko], [delonghi, vitek], [delonghi, smeg], [delonghi, elenberg], [delonghi, kitfort], [delonghi, krups], [beko, vitek], [beko, smeg], [beko, elenberg], [beko, kitfort], [beko, krups], [vitek, smeg], [vitek, elenberg], [vitek, kitfort], [vitek, krups], [smeg, elenberg], [smeg, kitfort], [smeg, krups], [elenberg, kitfort], [elenberg, krups], [kitfort, krups]]                                                                                                                                                  |\n",
      "|555474035|[scarlett, kitfort, gorenje, tefal]                               |[[scarlett, kitfort], [scarlett, gorenje], [scarlett, tefal], [kitfort, gorenje], [kitfort, tefal], [gorenje, tefal]]                                                                                                                                                                                                                                                                                                                                                                                                                 |\n",
      "|555479609|[steelflex, uno, gf, hubert]                                      |[[steelflex, uno], [steelflex, gf], [steelflex, hubert], [uno, gf], [uno, hubert], [gf, hubert]]                                                                                                                                                                                                                                                                                                                                                                                                                                      |\n",
      "|512552482|[matrix, bosch, aeroforce, marshal, stels, kolner]                |[[matrix, bosch], [matrix, aeroforce], [matrix, marshal], [matrix, stels], [matrix, kolner], [bosch, aeroforce], [bosch, marshal], [bosch, stels], [bosch, kolner], [aeroforce, marshal], [aeroforce, stels], [aeroforce, kolner], [marshal, stels], [marshal, kolner], [stels, kolner]]                                                                                                                                                                                                                                              |\n",
      "|518093424|[huawei, xiaomi]                                                  |[[huawei, xiaomi]]                                                                                                                                                                                                                                                                                                                                                                                                                                                                                                                    |\n",
      "|529847028|[huawei, apple]                                                   |[[huawei, apple]]                                                                                                                                                                                                                                                                                                                                                                                                                                                                                                                     |\n",
      "|555447570|[respect, triangle, samsung, strobbs, asics, fila, nexpero]       |[[respect, triangle], [respect, samsung], [respect, strobbs], [respect, asics], [respect, fila], [respect, nexpero], [triangle, samsung], [triangle, strobbs], [triangle, asics], [triangle, fila], [triangle, nexpero], [samsung, strobbs], [samsung, asics], [samsung, fila], [samsung, nexpero], [strobbs, asics], [strobbs, fila], [strobbs, nexpero], [asics, fila], [asics, nexpero], [fila, nexpero]]                                                                                                                          |\n",
      "|517450831|[xiaomi, huawei, samsung]                                         |[[xiaomi, huawei], [xiaomi, samsung], [huawei, samsung]]                                                                                                                                                                                                                                                                                                                                                                                                                                                                              |\n",
      "|555464935|[sony, xiaomi]                                                    |[[sony, xiaomi]]                                                                                                                                                                                                                                                                                                                                                                                                                                                                                                                      |\n",
      "|517597867|[lg, dauscher, willmark, panasonic, ava, midea, elenberg, samsung]|[[lg, dauscher], [lg, willmark], [lg, panasonic], [lg, ava], [lg, midea], [lg, elenberg], [lg, samsung], [dauscher, willmark], [dauscher, panasonic], [dauscher, ava], [dauscher, midea], [dauscher, elenberg], [dauscher, samsung], [willmark, panasonic], [willmark, ava], [willmark, midea], [willmark, elenberg], [willmark, samsung], [panasonic, ava], [panasonic, midea], [panasonic, elenberg], [panasonic, samsung], [ava, midea], [ava, elenberg], [ava, samsung], [midea, elenberg], [midea, samsung], [elenberg, samsung]]|\n",
      "|554539497|[samsung, candy]                                                  |[[samsung, candy]]                                                                                                                                                                                                                                                                                                                                                                                                                                                                                                                    |\n",
      "|513247621|[lider, pasabahce]                                                |[[lider, pasabahce]]                                                                                                                                                                                                                                                                                                                                                                                                                                                                                                                  |\n",
      "|527933664|[centurion, starline]                                             |[[centurion, starline]]                                                                                                                                                                                                                                                                                                                                                                                                                                                                                                               |\n",
      "|534133224|[samsung, huawei]                                                 |[[samsung, huawei]]                                                                                                                                                                                                                                                                                                                                                                                                                                                                                                                   |\n",
      "|519034533|[timberk, electrolux, ballu]                                      |[[timberk, electrolux], [timberk, ballu], [electrolux, ballu]]                                                                                                                                                                                                                                                                                                                                                                                                                                                                        |\n",
      "|555478582|[apple, samsung, huawei]                                          |[[apple, samsung], [apple, huawei], [samsung, huawei]]                                                                                                                                                                                                                                                                                                                                                                                                                                                                                |\n",
      "|513136911|[maxwell, xiaomi, panasonic, vitek, braun, elenberg]              |[[maxwell, xiaomi], [maxwell, panasonic], [maxwell, vitek], [maxwell, braun], [maxwell, elenberg], [xiaomi, panasonic], [xiaomi, vitek], [xiaomi, braun], [xiaomi, elenberg], [panasonic, vitek], [panasonic, braun], [panasonic, elenberg], [vitek, braun], [vitek, elenberg], [braun, elenberg]]                                                                                                                                                                                                                                    |\n",
      "|512513760|[baden, jbl]                                                      |[[baden, jbl]]                                                                                                                                                                                                                                                                                                                                                                                                                                                                                                                        |\n",
      "|515445555|[autoprofi, laston]                                               |[[autoprofi, laston]]                                                                                                                                                                                                                                                                                                                                                                                                                                                                                                                 |\n",
      "+---------+------------------------------------------------------------------+--------------------------------------------------------------------------------------------------------------------------------------------------------------------------------------------------------------------------------------------------------------------------------------------------------------------------------------------------------------------------------------------------------------------------------------------------------------------------------------------------------------------------------------+\n",
      "only showing top 20 rows\n",
      "\n"
     ]
    }
   ],
   "source": [
    "basket= df_user_brand.groupBy(\"user_id\").agg(collect_list(\"brand\").alias('basket'))\n",
    "\n",
    "basket.where(filter_len(col(\"basket\"), lit(2))).withColumn(\"subsets\",subset(col(\"basket\"), lit(2))).show(truncate=False)"
   ]
  },
  {
   "cell_type": "code",
   "execution_count": null,
   "metadata": {},
   "outputs": [],
   "source": [
    "from pyspark.sql.functions import udf\n",
    "from pyspark.sql.types import StructType, StructField, IntegerType, FloatType, StringType, BooleanType\n",
    "\n",
    "a=[]\n",
    "for b in items_pairs:\n",
    "    def contains_all(x):\n",
    "        if x is not None:\n",
    "            return set(b).issubset(set(x))\n",
    "\n",
    "    cols = udf(contains_all, BooleanType())\n",
    "\n",
    "    a.append([b,basket_temp.select(\"*\").where(cols(col(\"basket\"))).count()])"
   ]
  },
  {
   "cell_type": "code",
   "execution_count": null,
   "metadata": {},
   "outputs": [],
   "source": [
    "schema = StructType([\n",
    "    StructField('frequent_item', StringType(), True),\n",
    "    StructField('Count', IntegerType(), True)\n",
    "])\n",
    "rdd = spark.sparkContext.parallelize(data)\n",
    "df = spark.createDataFrame(rdd,schema)\n",
    "print(df.schema)\n",
    "df.show()"
   ]
  },
  {
   "cell_type": "markdown",
   "metadata": {},
   "source": [
    "1. Como validar o output dos algoritmos?\n",
    "    nao avaliar, justificar bem e descrever regras associação\n",
    "2. FPgrowth vs apriori\n",
    "    fpgrowth\n",
    "3. exploraçao de dados\n",
    "    analisar parametros do modelo\n",
    "4. split dos dados validar output?\n",
    "    nao resposta na 1\n",
    "    \n",
    "http://rasbt.github.io/mlxtend/user_guide/frequent_patterns/fpgrowth/#example-2-apriori-versus-fpgrowth"
   ]
  }
 ],
 "metadata": {
  "kernelspec": {
   "display_name": "Python 3.6.9 64-bit",
   "language": "python",
   "name": "python36964bit5e956226e03147d4b18a7eb1c295f7a6"
  },
  "language_info": {
   "codemirror_mode": {
    "name": "ipython",
    "version": 3
   },
   "file_extension": ".py",
   "mimetype": "text/x-python",
   "name": "python",
   "nbconvert_exporter": "python",
   "pygments_lexer": "ipython3",
   "version": "3.6.9"
  }
 },
 "nbformat": 4,
 "nbformat_minor": 2
}

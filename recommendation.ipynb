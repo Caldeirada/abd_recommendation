{
 "cells": [
  {
   "cell_type": "markdown",
   "metadata": {},
   "source": [
    "# Initial Setup"
   ]
  },
  {
   "cell_type": "code",
   "execution_count": 1,
   "metadata": {},
   "outputs": [],
   "source": [
    "# basic imports \n",
    "\n",
    "import os # OS e.g directory structure\n",
    "import sys\n",
    "import numpy as np # linear algebra\n",
    "import scipy as sc  # scientific computing\n",
    "import pandas as pd # data processing, file I/O\n",
    "import seaborn as sns  # visualization\n",
    "import matplotlib.pyplot as plt # visualization\n",
    "import warnings\n",
    "warnings.filterwarnings(\"ignore\")"
   ]
  },
  {
   "cell_type": "code",
   "execution_count": 2,
   "metadata": {},
   "outputs": [],
   "source": [
    "# Spark related imports\n",
    "\n",
    "from pyspark.sql import SparkSession, Row\n",
    "from pyspark.sql.functions import *\n",
    "from pyspark.sql.types import *\n",
    "\n",
    "from pyspark.ml.feature import StringIndexer\n",
    "from pyspark.ml.recommendation import ALS\n",
    "from pyspark.ml.evaluation import RegressionEvaluator"
   ]
  },
  {
   "cell_type": "markdown",
   "metadata": {},
   "source": [
    "\n",
    "# Data Exploration"
   ]
  },
  {
   "cell_type": "code",
   "execution_count": null,
   "metadata": {},
   "outputs": [],
   "source": [
    "! echo \"Oct-2019\"\n",
    "! head -n 5 dataset/2019-Oct.csv\n",
    "! tail -n 5 dataset/2019-Oct.csv\n",
    "! echo \"Nov-2019\"\n",
    "! head -n 5 dataset/2019-Nov.csv\n",
    "! tail -n 5 dataset/2019-Nov.csv"
   ]
  },
  {
   "cell_type": "code",
   "execution_count": 3,
   "metadata": {},
   "outputs": [],
   "source": [
    "from pyspark.sql import SparkSession\n",
    "\n",
    "spark = SparkSession.builder.appName(\"abd_classification\").getOrCreate()"
   ]
  },
  {
   "cell_type": "code",
   "execution_count": 28,
   "metadata": {},
   "outputs": [],
   "source": [
    "sales = spark.read.csv(\"dataset/2019-*-small.csv\", header=\"true\", inferSchema=\"true\", sep=\",\")\n",
    "#sales_nov = spark.read.csv(\"dataset/2019-Nov-small.csv\", header=\"true\", inferSchema=\"true\", sep=\",\")"
   ]
  },
  {
   "cell_type": "code",
   "execution_count": 29,
   "metadata": {},
   "outputs": [
    {
     "name": "stdout",
     "output_type": "stream",
     "text": [
      "root\n",
      " |-- event_time: string (nullable = true)\n",
      " |-- event_type: string (nullable = true)\n",
      " |-- product_id: integer (nullable = true)\n",
      " |-- category_id: long (nullable = true)\n",
      " |-- category_code: string (nullable = true)\n",
      " |-- brand: string (nullable = true)\n",
      " |-- price: double (nullable = true)\n",
      " |-- user_id: integer (nullable = true)\n",
      " |-- user_session: string (nullable = true)\n",
      "\n"
     ]
    },
    {
     "data": {
      "text/plain": [
       "199998"
      ]
     },
     "execution_count": 29,
     "metadata": {},
     "output_type": "execute_result"
    }
   ],
   "source": [
    "#sales_oct.printSchema()\n",
    "#so = sales_oct.count()\n",
    "\n",
    "#sales_nov.printSchema()\n",
    "#sv = sales_nov.count()\n",
    "\n",
    "sales.printSchema()\n",
    "sales.count()"
   ]
  },
  {
   "cell_type": "code",
   "execution_count": 30,
   "metadata": {},
   "outputs": [
    {
     "name": "stdout",
     "output_type": "stream",
     "text": [
      "+----------+------+\n",
      "|event_type|count |\n",
      "+----------+------+\n",
      "|purchase  |3077  |\n",
      "|view      |194617|\n",
      "|cart      |2304  |\n",
      "+----------+------+\n",
      "\n"
     ]
    }
   ],
   "source": [
    "sales.groupBy('event_type').count().show(truncate=False)"
   ]
  },
  {
   "cell_type": "code",
   "execution_count": 31,
   "metadata": {},
   "outputs": [
    {
     "name": "stdout",
     "output_type": "stream",
     "text": [
      "+----------+----------+----------+-----------+-------------+-----+-----+-------+------------+\n",
      "|event_time|event_type|product_id|category_id|category_code|brand|price|user_id|user_session|\n",
      "+----------+----------+----------+-----------+-------------+-----+-----+-------+------------+\n",
      "|         0|         0|         0|          0|        66427|30168|    0|      0|           0|\n",
      "+----------+----------+----------+-----------+-------------+-----+-----+-------+------------+\n",
      "\n"
     ]
    }
   ],
   "source": [
    "# https://stackoverflow.com/questions/40163106/cannot-find-col-function-in-pyspark\n",
    "\n",
    "sales.select([count(when(isnan(c) | col(c).isNull(), c)).alias(c) for c in sales.columns]).show()"
   ]
  },
  {
   "cell_type": "code",
   "execution_count": 32,
   "metadata": {},
   "outputs": [
    {
     "name": "stdout",
     "output_type": "stream",
     "text": [
      "+-------+-----------------+\n",
      "|summary|            price|\n",
      "+-------+-----------------+\n",
      "|  count|           199998|\n",
      "|   mean|284.1862630626338|\n",
      "| stddev|351.4834010830769|\n",
      "|    min|              0.0|\n",
      "|    max|          2574.07|\n",
      "+-------+-----------------+\n",
      "\n"
     ]
    }
   ],
   "source": [
    "sales.describe(\"price\").show()"
   ]
  },
  {
   "cell_type": "code",
   "execution_count": 33,
   "metadata": {},
   "outputs": [
    {
     "name": "stdout",
     "output_type": "stream",
     "text": [
      "+--------------------+----------+----------+-------------------+--------------------+-----+-----+---------+--------------------+\n",
      "|          event_time|event_type|product_id|        category_id|       category_code|brand|price|  user_id|        user_session|\n",
      "+--------------------+----------+----------+-------------------+--------------------+-----+-----+---------+--------------------+\n",
      "|2019-10-01 02:21:...|      view|  53000001|2146660886926852416|                null| null|  0.0|512450748|03267357-d0e5-483...|\n",
      "|2019-10-01 02:21:...|      view|  53000001|2146660886926852416|                null| null|  0.0|512450748|03267357-d0e5-483...|\n",
      "|2019-10-01 02:22:...|      view|   7000684|2053013560346280633|       kids.carriage| null|  0.0|555462472|c378efe2-75b4-48f...|\n",
      "|2019-10-01 02:24:...|      view|   4100157|2053013561218695907|                null| null|  0.0|531057348|6b9c87ab-f991-45c...|\n",
      "|2019-10-01 02:28:...|      view|  23301316|2053013561956893455|                null| null|  0.0|521311516|f3a2fd03-13eb-423...|\n",
      "|2019-10-01 02:28:...|      view|  13105134|2053013553526341921|                null| null|  0.0|542208580|28f1c782-c8a4-411...|\n",
      "|2019-10-01 02:29:...|      view|  31200824|2053013558098133555|                null| null|  0.0|513025724|85eb9f41-fc42-44d...|\n",
      "|2019-10-01 02:30:...|      view|  23301316|2053013561956893455|                null| null|  0.0|521311516|f3a2fd03-13eb-423...|\n",
      "|2019-10-01 02:30:...|      view|  31200824|2053013558098133555|                null| null|  0.0|513025724|85eb9f41-fc42-44d...|\n",
      "|2019-10-01 02:36:...|      view|  32403740|2053013566562238479|                null| null|  0.0|546652849|4ebb4cd0-26ba-443...|\n",
      "|2019-10-01 02:37:...|      view|   1003507|2053013555631882655|electronics.smart...| null|  0.0|532323530|af0b8bbc-5792-4f8...|\n",
      "|2019-10-01 02:42:...|      view|  36200062|2071489994601529806|                null| null|  0.0|520837900|2c114f73-5a72-4e9...|\n",
      "|2019-10-01 02:42:...|      view|  10200661|2053013553224352013|          kids.dolls| null|  0.0|548417642|bbd7b93c-2d5e-406...|\n",
      "|2019-10-01 02:42:...|      view|  36200062|2071489994601529806|                null| null|  0.0|520837900|2c114f73-5a72-4e9...|\n",
      "|2019-10-01 02:43:...|      view|  35900050|2070747673358500784|                null| null|  0.0|543945962|316a6cbc-27a1-417...|\n",
      "|2019-10-01 02:44:...|      view|  23900253|2053013561814287111|                null| null|  0.0|518925085|9b53a253-3040-4bb...|\n",
      "|2019-10-01 02:44:...|      view|  35900054|2070747673358500784|                null| null|  0.0|543945962|316a6cbc-27a1-417...|\n",
      "|2019-10-01 02:45:...|      view|   4100157|2053013561218695907|                null| null|  0.0|548210293|7891b39f-74eb-471...|\n",
      "|2019-10-01 02:45:...|      view|  23900266|2053013561814287111|                null| null|  0.0|518925085|9b53a253-3040-4bb...|\n",
      "|2019-10-01 02:53:...|      view|  12202735|2116907525176557699|       sport.bicycle| null|  0.0|539443846|a47853d8-71cf-4ea...|\n",
      "+--------------------+----------+----------+-------------------+--------------------+-----+-----+---------+--------------------+\n",
      "only showing top 20 rows\n",
      "\n"
     ]
    },
    {
     "data": {
      "text/plain": [
       "182"
      ]
     },
     "execution_count": 33,
     "metadata": {},
     "output_type": "execute_result"
    }
   ],
   "source": [
    "no_price = sales.select('*').where(col('price')==0)\n",
    "no_price.show()\n",
    "no_price.count()"
   ]
  },
  {
   "cell_type": "markdown",
   "metadata": {},
   "source": [
    "Groupby user session using market basket since we have not user valuation"
   ]
  },
  {
   "cell_type": "code",
   "execution_count": 41,
   "metadata": {},
   "outputs": [
    {
     "name": "stdout",
     "output_type": "stream",
     "text": [
      "+----------+------------------------------------+------------------------------------+\n",
      "|event_type|user_session                        |products                            |\n",
      "+----------+------------------------------------+------------------------------------+\n",
      "|cart      |07bf934b-baf2-40e1-9b06-2bb8aa5ecaee|[12300396]                          |\n",
      "|cart      |20cd729b-6e4b-42d7-a3f5-c5b73a96f0e4|[8901769]                           |\n",
      "|cart      |7724414e-3350-48cd-82a5-7cb8aad08f60|[1004856, 1004856]                  |\n",
      "|cart      |89e5eee1-2925-456d-be16-1a33ff952918|[1002544]                           |\n",
      "|cart      |b38a813c-1266-4922-a599-6abadef85fb6|[1004856]                           |\n",
      "|cart      |ff1c1e4a-7cfb-467b-ae0a-490a4186e870|[1004833, 1004833, 1004833, 1004833]|\n",
      "|purchase  |05d1d427-5e88-40eb-beba-5b1cbd15b557|[1004838]                           |\n",
      "|purchase  |06053f76-9379-4b26-b370-c6b39701c635|[1004833]                           |\n",
      "|purchase  |1041423c-30c4-4c68-ad8b-d4e34ce158ee|[1004739]                           |\n",
      "|purchase  |1313f39b-f25d-48f2-96a1-70285cdd6882|[12709541]                          |\n",
      "|purchase  |14a25e1f-e239-4bd9-bffc-44dd1f00010c|[1005238]                           |\n",
      "|purchase  |2fa2f74e-b8ed-4820-b0e5-b815c8c2309b|[4804295]                           |\n",
      "|purchase  |585119f4-7f24-4a9a-89ab-c74e0f9a1b4c|[3601522]                           |\n",
      "|purchase  |8dc6d9ad-9248-4644-82f6-f3b3558c1dfb|[1004873]                           |\n",
      "|purchase  |91283eb6-b9d7-4239-a8bb-0bd37d01a3a1|[1004767]                           |\n",
      "|purchase  |b51a3c5a-84e5-49e6-8cd3-941974276e3c|[5100577]                           |\n",
      "|purchase  |ec15ba27-c615-4613-9504-7dd632d74895|[1004873]                           |\n",
      "|purchase  |fb79a3ce-7937-43ba-ae84-05ab5fe33538|[1004893]                           |\n",
      "|view      |00700c78-b0cb-4d65-98d6-ead65bcf36b9|[2300100]                           |\n",
      "|view      |01606a67-9fca-4bc2-a899-1525f5d2a019|[1004856, 1004833, 1004833]         |\n",
      "+----------+------------------------------------+------------------------------------+\n",
      "only showing top 20 rows\n",
      "\n"
     ]
    }
   ],
   "source": [
    "# https://stackoverflow.com/questions/48406304/groupby-and-concat-array-columns-pyspark\n",
    "sales.groupBy(\"event_type\",'user_session').agg(collect_list('product_id').alias('products')).show(20, truncate=False)"
   ]
  },
  {
   "cell_type": "code",
   "execution_count": 35,
   "metadata": {},
   "outputs": [
    {
     "name": "stdout",
     "output_type": "stream",
     "text": [
      "+----------+\n",
      "|event_type|\n",
      "+----------+\n",
      "|purchase  |\n",
      "|view      |\n",
      "|cart      |\n",
      "+----------+\n",
      "\n"
     ]
    }
   ],
   "source": [
    "sales.select(\"event_type\").distinct().show(truncate=False)"
   ]
  },
  {
   "cell_type": "code",
   "execution_count": null,
   "metadata": {},
   "outputs": [],
   "source": []
  }
 ],
 "metadata": {
  "kernelspec": {
   "display_name": "Python 3.6.9 64-bit",
   "language": "python",
   "name": "python36964bit5e956226e03147d4b18a7eb1c295f7a6"
  },
  "language_info": {
   "codemirror_mode": {
    "name": "ipython",
    "version": 3
   },
   "file_extension": ".py",
   "mimetype": "text/x-python",
   "name": "python",
   "nbconvert_exporter": "python",
   "pygments_lexer": "ipython3",
   "version": "3.6.9"
  }
 },
 "nbformat": 4,
 "nbformat_minor": 2
}

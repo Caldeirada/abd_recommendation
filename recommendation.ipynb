{
 "cells": [
  {
   "cell_type": "markdown",
   "metadata": {},
   "source": [
    "# Initial Setup"
   ]
  },
  {
   "cell_type": "code",
   "execution_count": 1,
   "metadata": {},
   "outputs": [],
   "source": [
    "# basic imports \n",
    "\n",
    "import os # OS e.g directory structure\n",
    "import sys\n",
    "import numpy as np # linear algebra\n",
    "import scipy as sc  # scientific computing\n",
    "import pandas as pd # data processing, file I/O\n",
    "import seaborn as sns  # visualization\n",
    "import matplotlib.pyplot as plt # visualization\n",
    "import warnings\n",
    "warnings.filterwarnings(\"ignore\")"
   ]
  },
  {
   "cell_type": "code",
   "execution_count": 2,
   "metadata": {},
   "outputs": [],
   "source": [
    "# Spark related imports\n",
    "\n",
    "from pyspark.sql import SparkSession, Row\n",
    "from pyspark.sql.functions import *\n",
    "from pyspark.sql.types import *\n",
    "\n",
    "from pyspark.ml.feature import StringIndexer\n",
    "from pyspark.ml.recommendation import ALS\n",
    "from pyspark.ml.evaluation import RegressionEvaluator"
   ]
  },
  {
   "cell_type": "markdown",
   "metadata": {},
   "source": [
    "\n",
    "# Data Exploration"
   ]
  },
  {
   "cell_type": "code",
   "execution_count": null,
   "metadata": {},
   "outputs": [],
   "source": [
    "! echo \"Oct-2019\"\n",
    "! head -n 5 dataset/2019-Oct.csv\n",
    "! tail -n 5 dataset/2019-Oct.csv\n",
    "! echo \"Nov-2019\"\n",
    "! head -n 5 dataset/2019-Nov.csv\n",
    "! tail -n 5 dataset/2019-Nov.csv"
   ]
  },
  {
   "cell_type": "code",
   "execution_count": 3,
   "metadata": {},
   "outputs": [],
   "source": [
    "from pyspark.sql import SparkSession\n",
    "\n",
    "spark = SparkSession.builder.appName(\"abd_classification\").getOrCreate()"
   ]
  },
  {
   "cell_type": "code",
   "execution_count": 4,
   "metadata": {},
   "outputs": [],
   "source": [
    "sales_oct = spark.read.csv(\"dataset/2019-Oct-small.csv\", header=\"true\", inferSchema=\"true\", sep=\",\")\n",
    "sales_nov = spark.read.csv(\"dataset/2019-Nov-small.csv\", header=\"true\", inferSchema=\"true\", sep=\",\")"
   ]
  },
  {
   "cell_type": "code",
   "execution_count": null,
   "metadata": {},
   "outputs": [],
   "source": [
    "sales_oct_small, _ = sales_oct.randomSplit([0.005, 0.995], 42)\n",
    "sales_nov_small, _ = sales_nov.randomSplit([0.005, 0.995], 42)"
   ]
  },
  {
   "cell_type": "code",
   "execution_count": 5,
   "metadata": {},
   "outputs": [
    {
     "name": "stdout",
     "output_type": "stream",
     "text": [
      "root\n",
      " |-- event_time: string (nullable = true)\n",
      " |-- event_type: string (nullable = true)\n",
      " |-- product_id: integer (nullable = true)\n",
      " |-- category_id: long (nullable = true)\n",
      " |-- category_code: string (nullable = true)\n",
      " |-- brand: string (nullable = true)\n",
      " |-- price: double (nullable = true)\n",
      " |-- user_id: integer (nullable = true)\n",
      " |-- user_session: string (nullable = true)\n",
      "\n",
      "root\n",
      " |-- event_time: string (nullable = true)\n",
      " |-- event_type: string (nullable = true)\n",
      " |-- product_id: integer (nullable = true)\n",
      " |-- category_id: long (nullable = true)\n",
      " |-- category_code: string (nullable = true)\n",
      " |-- brand: string (nullable = true)\n",
      " |-- price: double (nullable = true)\n",
      " |-- user_id: integer (nullable = true)\n",
      " |-- user_session: string (nullable = true)\n",
      "\n"
     ]
    }
   ],
   "source": [
    "sales_oct.printSchema()\n",
    "so = sales_oct.count()\n",
    "\n",
    "sales_nov.printSchema()\n",
    "sv = sales_nov.count()"
   ]
  },
  {
   "cell_type": "code",
   "execution_count": 18,
   "metadata": {},
   "outputs": [
    {
     "name": "stdout",
     "output_type": "stream",
     "text": [
      "99999\n",
      "99999\n"
     ]
    }
   ],
   "source": [
    "print(so)\n",
    "print(sv)"
   ]
  },
  {
   "cell_type": "code",
   "execution_count": 19,
   "metadata": {},
   "outputs": [
    {
     "name": "stdout",
     "output_type": "stream",
     "text": [
      "+-----------------------+----------+----------+-------------------+-------------------------+--------+-------+---------+------------------------------------+\n",
      "|event_time             |event_type|product_id|category_id        |category_code            |brand   |price  |user_id  |user_session                        |\n",
      "+-----------------------+----------+----------+-------------------+-------------------------+--------+-------+---------+------------------------------------+\n",
      "|2019-10-01 02:34:59 UTC|cart      |1004893   |2053013555631882655|electronics.smartphone   |nokia   |89.72  |549265000|fb79a3ce-7937-43ba-ae84-05ab5fe33538|\n",
      "|2019-10-01 02:45:05 UTC|cart      |5100816   |2053013553375346967|null                     |xiaomi  |29.51  |513684529|6c1f137a-67c2-48ed-bdb0-4c859f8ff327|\n",
      "|2019-10-01 03:32:53 UTC|cart      |1004767   |2053013555631882655|electronics.smartphone   |samsung |254.76 |545218213|0fc7e58e-250a-47df-98c9-a054e00c0f59|\n",
      "|2019-10-01 03:39:00 UTC|cart      |12709709  |2053013553559896355|null                     |cordiant|38.35  |544809757|afa5e14f-078a-470a-85fe-42d49bc3438a|\n",
      "|2019-10-01 03:54:00 UTC|cart      |1004856   |2053013555631882655|electronics.smartphone   |samsung |130.76 |541179345|ecbddf76-d384-4d97-b569-5df42df69528|\n",
      "|2019-10-01 04:05:53 UTC|cart      |1004227   |2053013555631882655|electronics.smartphone   |apple   |1012.19|513836587|e858403f-1959-4bf1-9d74-a9f22525aced|\n",
      "|2019-10-01 04:24:13 UTC|cart      |5100572   |2053013553341792533|electronics.clocks       |apple   |419.6  |518326640|7f6a984b-39b6-4926-b807-f6dc635542e1|\n",
      "|2019-10-01 04:24:18 UTC|cart      |1004856   |2053013555631882655|electronics.smartphone   |samsung |130.76 |512840324|57f99924-25d5-4d5b-bbdb-ebc568fa6491|\n",
      "|2019-10-01 02:27:00 UTC|cart      |1004833   |2053013555631882655|electronics.smartphone   |samsung |174.76 |536229871|e2674777-f9e9-4839-8a96-49a137cb176e|\n",
      "|2019-10-01 03:07:24 UTC|cart      |1004838   |2053013555631882655|electronics.smartphone   |oppo    |179.36 |527975305|9f89acd6-6ede-478f-9bf5-bfcab9dadda0|\n",
      "|2019-10-01 03:09:20 UTC|cart      |1004857   |2053013555631882655|electronics.smartphone   |samsung |130.73 |551719803|26b31b4c-b7be-4074-9dec-95b3f73584cf|\n",
      "|2019-10-01 03:16:24 UTC|cart      |1004870   |2053013555631882655|electronics.smartphone   |samsung |286.86 |551343044|a1ba2d90-c129-40d4-bf0d-eba7f3f9e321|\n",
      "|2019-10-01 03:19:17 UTC|cart      |3601522   |2053013563810775923|appliances.kitchen.washer|lg      |285.69 |521316598|f265bf1c-8b3c-4ae7-aba9-7e4333959c53|\n",
      "|2019-10-01 03:49:34 UTC|cart      |5100564   |2053013553341792533|electronics.clocks       |samsung |259.98 |513126548|767eff81-d941-4520-832d-0d449d3a0d5b|\n",
      "|2019-10-01 03:53:01 UTC|cart      |1801766   |2053013554415534427|electronics.video.tv     |artel   |150.7  |532133413|4ec8adaa-06e3-4319-ac3e-920190e58d5a|\n",
      "|2019-10-01 02:48:27 UTC|cart      |1002544   |2053013555631882655|electronics.smartphone   |apple   |464.13 |518494067|521e7934-57af-49c6-a96f-b1b4676b7d39|\n",
      "|2019-10-01 03:12:03 UTC|cart      |1004875   |2053013555631882655|electronics.smartphone   |samsung |388.68 |547760828|8abf2ba3-a3dd-405c-925e-082c268a4bc6|\n",
      "|2019-10-01 03:57:14 UTC|cart      |1004767   |2053013555631882655|electronics.smartphone   |samsung |254.76 |553713678|c816991e-43a1-47e5-a33b-4539ee9f54f3|\n",
      "|2019-10-01 04:04:14 UTC|cart      |1004766   |2053013555631882655|electronics.smartphone   |samsung |253.33 |555478618|e75af272-7c00-4bb0-a8d0-0cf688e1a9f6|\n",
      "|2019-10-01 04:10:02 UTC|cart      |1004767   |2053013555631882655|electronics.smartphone   |samsung |254.76 |555480040|4fedfe31-c1e9-4756-8f59-8dc1c9acc03f|\n",
      "+-----------------------+----------+----------+-------------------+-------------------------+--------+-------+---------+------------------------------------+\n",
      "only showing top 20 rows\n",
      "\n"
     ]
    }
   ],
   "source": [
    "sales_oct.select('*').where(col('event_type')==\"cart\").distinct().show(truncate=False)"
   ]
  },
  {
   "cell_type": "markdown",
   "metadata": {},
   "source": [
    "Available event types"
   ]
  },
  {
   "cell_type": "code",
   "execution_count": 17,
   "metadata": {},
   "outputs": [
    {
     "name": "stdout",
     "output_type": "stream",
     "text": [
      "+----------+\n",
      "|event_type|\n",
      "+----------+\n",
      "|purchase  |\n",
      "|view      |\n",
      "|cart      |\n",
      "+----------+\n",
      "\n"
     ]
    }
   ],
   "source": [
    "sales_oct.select(\"event_type\").distinct().show(truncate=False)"
   ]
  },
  {
   "cell_type": "code",
   "execution_count": null,
   "metadata": {},
   "outputs": [],
   "source": [
    "sales_oct.select(\"user_id\").show(truncate=False)"
   ]
  },
  {
   "cell_type": "code",
   "execution_count": null,
   "metadata": {},
   "outputs": [],
   "source": [
    "sales_nov.show(20, truncate=False)"
   ]
  },
  {
   "cell_type": "code",
   "execution_count": 7,
   "metadata": {},
   "outputs": [
    {
     "data": {
      "text/plain": [
       "DataFrame[summary: string, event_time: string, event_type: string, product_id: string, category_id: string, category_code: string, brand: string, price: string, user_id: string, user_session: string]"
      ]
     },
     "execution_count": 7,
     "metadata": {},
     "output_type": "execute_result"
    }
   ],
   "source": [
    "sales_oct.describe()"
   ]
  },
  {
   "cell_type": "code",
   "execution_count": 8,
   "metadata": {},
   "outputs": [
    {
     "name": "stdout",
     "output_type": "stream",
     "text": [
      "+----------+----------+----------+-----------+-------------+-----+-----+-------+------------+\n",
      "|event_time|event_type|product_id|category_id|category_code|brand|price|user_id|user_session|\n",
      "+----------+----------+----------+-----------+-------------+-----+-----+-------+------------+\n",
      "|         0|         0|         0|          0|        33840|15776|    0|      0|           0|\n",
      "+----------+----------+----------+-----------+-------------+-----+-----+-------+------------+\n",
      "\n",
      "+----------+----------+----------+-----------+-------------+-----+-----+-------+------------+\n",
      "|event_time|event_type|product_id|category_id|category_code|brand|price|user_id|user_session|\n",
      "+----------+----------+----------+-----------+-------------+-----+-----+-------+------------+\n",
      "|         0|         0|         0|          0|        32587|14392|    0|      0|           0|\n",
      "+----------+----------+----------+-----------+-------------+-----+-----+-------+------------+\n",
      "\n"
     ]
    }
   ],
   "source": [
    "# df_users.select(col(\"Age\")).where(col(\"Age\") == \"NULL\").count()\n",
    "# https://stackoverflow.com/questions/40163106/cannot-find-col-function-in-pyspark\n",
    "#sales_oct.select(\"brand\").where(F.col(\"brand\") == \"null\").count()\n",
    "#for column in sales_oct.columns:\n",
    "#    value = sales_oct.select(F.col(column)).where(F.col(column) == \"NULL\").count()\n",
    "#    print(\"Null number \"+str(column)+ \"=\" +str(value))\n",
    "sales_nov.select([count(when(isnan(c) | col(c).isNull(), c)).alias(c) for c in sales_nov.columns]\n",
    "   ).show()\n",
    "sales_oct.select([count(when(isnan(c) | col(c).isNull(), c)).alias(c) for c in sales_oct.columns]\n",
    "   ).show()"
   ]
  },
  {
   "cell_type": "code",
   "execution_count": null,
   "metadata": {},
   "outputs": [],
   "source": [
    "sales_oct.describe(\"price\").show()"
   ]
  },
  {
   "cell_type": "code",
   "execution_count": 10,
   "metadata": {},
   "outputs": [
    {
     "name": "stdout",
     "output_type": "stream",
     "text": [
      "+--------------------+----------+----------+-------------------+--------------------+-----+-----+---------+--------------------+\n",
      "|          event_time|event_type|product_id|        category_id|       category_code|brand|price|  user_id|        user_session|\n",
      "+--------------------+----------+----------+-------------------+--------------------+-----+-----+---------+--------------------+\n",
      "|2019-10-01 02:21:...|      view|  53000001|2146660886926852416|                null| null|  0.0|512450748|03267357-d0e5-483...|\n",
      "|2019-10-01 02:21:...|      view|  53000001|2146660886926852416|                null| null|  0.0|512450748|03267357-d0e5-483...|\n",
      "|2019-10-01 02:22:...|      view|   7000684|2053013560346280633|       kids.carriage| null|  0.0|555462472|c378efe2-75b4-48f...|\n",
      "|2019-10-01 02:24:...|      view|   4100157|2053013561218695907|                null| null|  0.0|531057348|6b9c87ab-f991-45c...|\n",
      "|2019-10-01 02:28:...|      view|  23301316|2053013561956893455|                null| null|  0.0|521311516|f3a2fd03-13eb-423...|\n",
      "|2019-10-01 02:28:...|      view|  13105134|2053013553526341921|                null| null|  0.0|542208580|28f1c782-c8a4-411...|\n",
      "|2019-10-01 02:29:...|      view|  31200824|2053013558098133555|                null| null|  0.0|513025724|85eb9f41-fc42-44d...|\n",
      "|2019-10-01 02:30:...|      view|  23301316|2053013561956893455|                null| null|  0.0|521311516|f3a2fd03-13eb-423...|\n",
      "|2019-10-01 02:30:...|      view|  31200824|2053013558098133555|                null| null|  0.0|513025724|85eb9f41-fc42-44d...|\n",
      "|2019-10-01 02:36:...|      view|  32403740|2053013566562238479|                null| null|  0.0|546652849|4ebb4cd0-26ba-443...|\n",
      "|2019-10-01 02:37:...|      view|   1003507|2053013555631882655|electronics.smart...| null|  0.0|532323530|af0b8bbc-5792-4f8...|\n",
      "|2019-10-01 02:42:...|      view|  36200062|2071489994601529806|                null| null|  0.0|520837900|2c114f73-5a72-4e9...|\n",
      "|2019-10-01 02:42:...|      view|  10200661|2053013553224352013|          kids.dolls| null|  0.0|548417642|bbd7b93c-2d5e-406...|\n",
      "|2019-10-01 02:42:...|      view|  36200062|2071489994601529806|                null| null|  0.0|520837900|2c114f73-5a72-4e9...|\n",
      "|2019-10-01 02:43:...|      view|  35900050|2070747673358500784|                null| null|  0.0|543945962|316a6cbc-27a1-417...|\n",
      "|2019-10-01 02:44:...|      view|  23900253|2053013561814287111|                null| null|  0.0|518925085|9b53a253-3040-4bb...|\n",
      "|2019-10-01 02:44:...|      view|  35900054|2070747673358500784|                null| null|  0.0|543945962|316a6cbc-27a1-417...|\n",
      "|2019-10-01 02:45:...|      view|   4100157|2053013561218695907|                null| null|  0.0|548210293|7891b39f-74eb-471...|\n",
      "|2019-10-01 02:45:...|      view|  23900266|2053013561814287111|                null| null|  0.0|518925085|9b53a253-3040-4bb...|\n",
      "|2019-10-01 02:53:...|      view|  12202735|2116907525176557699|       sport.bicycle| null|  0.0|539443846|a47853d8-71cf-4ea...|\n",
      "+--------------------+----------+----------+-------------------+--------------------+-----+-----+---------+--------------------+\n",
      "only showing top 20 rows\n",
      "\n"
     ]
    },
    {
     "data": {
      "text/plain": [
       "119"
      ]
     },
     "execution_count": 10,
     "metadata": {},
     "output_type": "execute_result"
    }
   ],
   "source": [
    "no_price = sales_oct.select('*').where(col('price')==0)\n",
    "no_price.show()\n",
    "no_price.count()"
   ]
  },
  {
   "cell_type": "markdown",
   "metadata": {},
   "source": [
    "Groupby user session using market basket since we have not user valuation"
   ]
  },
  {
   "cell_type": "code",
   "execution_count": 11,
   "metadata": {},
   "outputs": [
    {
     "name": "stdout",
     "output_type": "stream",
     "text": [
      "+------------------------------------+------------------------------------------------------------------------------------------------------------------------+\n",
      "|user_session                        |products                                                                                                                |\n",
      "+------------------------------------+------------------------------------------------------------------------------------------------------------------------+\n",
      "|0043d905-2c15-49e8-bd54-cb3db0de78ca|[1004665, 8902408]                                                                                                      |\n",
      "|051fa0c1-a1c1-4276-8d57-fc0f3f5e2933|[3600661, 3600666, 3601537]                                                                                             |\n",
      "|06d381f2-b696-4870-8a03-9d0aab539f72|[2200937]                                                                                                               |\n",
      "|0fce1f10-24c6-44ef-a07a-dde9b18403dd|[1005157, 1005157, 1005160, 1005157, 5100551, 5100846, 5100551, 5100551, 5100328, 5100328, 5100328, 5100328]            |\n",
      "|1218cd22-94b3-4890-ad1a-bcee5b5bf460|[26200134]                                                                                                              |\n",
      "|15f425fb-9d08-4b2e-9c34-b5d81051b1a8|[26400672, 26401613]                                                                                                    |\n",
      "|1c11741c-8209-46ed-8ef8-303fa87269ca|[1201231]                                                                                                               |\n",
      "|1c26241b-0e08-4c41-a29e-87aee24b063f|[4100348, 4100348, 4100348, 4100306, 1307004]                                                                           |\n",
      "|27dadd78-0e67-461b-929c-1eef0e458dca|[5701128, 5701000, 5701149, 5701134, 5701134, 5700619, 12711088]                                                        |\n",
      "|284660cd-c391-4f44-ba00-893abc57bcef|[26201559]                                                                                                              |\n",
      "|2a48d2f1-6c41-4485-a038-c074b7c4fed8|[1005115, 1005115]                                                                                                      |\n",
      "|2aaec0d5-f446-483f-b090-a32e579c68f0|[1801900, 1801881, 1801881, 1801929, 1801929]                                                                           |\n",
      "|2af9b570-0942-4dcd-8f25-4d84fba82553|[4804055, 4804055, 4804055]                                                                                             |\n",
      "|32c3a1c8-7c9e-4c7b-97d6-0691989769c2|[31500053, 37900123, 23300020, 3100074]                                                                                 |\n",
      "|3415a6bc-0834-4439-8283-8d7d3c13cd06|[14700204]                                                                                                              |\n",
      "|3a8a2e45-3c9b-4d1a-868f-9fb732f91bab|[1306186, 1306186]                                                                                                      |\n",
      "|3db5f39e-f361-4dcb-b1b4-441e872d4f0e|[1004433]                                                                                                               |\n",
      "|43113b0d-e056-4b12-8d0d-804ae1a3851a|[28716534, 28716532, 28716532, 28716534, 28713631, 28714158, 28711568, 28711567, 28711567, 28711567, 28711568, 28711619]|\n",
      "|4972c8b3-de76-4c81-a6e2-543f4dcbfc41|[1801766, 1801766]                                                                                                      |\n",
      "|505e3686-5506-4fa2-8cd2-852c56dcce0e|[9600120, 9600073, 9600012, 9600012, 9600125, 9600125]                                                                  |\n",
      "+------------------------------------+------------------------------------------------------------------------------------------------------------------------+\n",
      "only showing top 20 rows\n",
      "\n"
     ]
    }
   ],
   "source": [
    "# https://stackoverflow.com/questions/48406304/groupby-and-concat-array-columns-pyspark\n",
    "sales_oct.groupBy('user_session').agg(collect_list('product_id').alias('products')).show(20, truncate=False)"
   ]
  },
  {
   "cell_type": "code",
   "execution_count": 12,
   "metadata": {},
   "outputs": [
    {
     "name": "stdout",
     "output_type": "stream",
     "text": [
      "+------------------------------------+------------------------------------------------------------------------------------------------+\n",
      "|user_session                        |brand                                                                                           |\n",
      "+------------------------------------+------------------------------------------------------------------------------------------------+\n",
      "|0043d905-2c15-49e8-bd54-cb3db0de78ca|[samsung, chicco]                                                                               |\n",
      "|051fa0c1-a1c1-4276-8d57-fc0f3f5e2933|[samsung, samsung, samsung]                                                                     |\n",
      "|06d381f2-b696-4870-8a03-9d0aab539f72|[canon]                                                                                         |\n",
      "|0fce1f10-24c6-44ef-a07a-dde9b18403dd|[xiaomi, xiaomi, xiaomi, xiaomi, xiaomi, xiaomi, xiaomi, xiaomi, xiaomi, xiaomi, xiaomi, xiaomi]|\n",
      "|1218cd22-94b3-4890-ad1a-bcee5b5bf460|[]                                                                                              |\n",
      "|15f425fb-9d08-4b2e-9c34-b5d81051b1a8|[lucente]                                                                                       |\n",
      "|1c11741c-8209-46ed-8ef8-303fa87269ca|[huawei]                                                                                        |\n",
      "|1c26241b-0e08-4c41-a29e-87aee24b063f|[sega, sega, sega, sony, lenovo]                                                                |\n",
      "|27dadd78-0e67-461b-929c-1eef0e458dca|[pioneer, pioneer, pioneer, jvc, tunga]                                                         |\n",
      "|284660cd-c391-4f44-ba00-893abc57bcef|[teosa]                                                                                         |\n",
      "|2a48d2f1-6c41-4485-a038-c074b7c4fed8|[apple, apple]                                                                                  |\n",
      "|2aaec0d5-f446-483f-b090-a32e579c68f0|[samsung, samsung, samsung, samsung, samsung]                                                   |\n",
      "|2af9b570-0942-4dcd-8f25-4d84fba82553|[apple, apple, apple]                                                                           |\n",
      "|32c3a1c8-7c9e-4c7b-97d6-0691989769c2|[luminarc, vega, perina, braun]                                                                 |\n",
      "|3415a6bc-0834-4439-8283-8d7d3c13cd06|[]                                                                                              |\n",
      "|3a8a2e45-3c9b-4d1a-868f-9fb732f91bab|[acer, acer]                                                                                    |\n",
      "|3db5f39e-f361-4dcb-b1b4-441e872d4f0e|[samsung]                                                                                       |\n",
      "|43113b0d-e056-4b12-8d0d-804ae1a3851a|[destra, caprice, ara, ara, ara, ara, ara, ara]                                                 |\n",
      "|4972c8b3-de76-4c81-a6e2-543f4dcbfc41|[artel, artel]                                                                                  |\n",
      "|505e3686-5506-4fa2-8cd2-852c56dcce0e|[dji, fly, dji, dji, dji, dji]                                                                  |\n",
      "|55a499a7-8c38-4d7c-8599-e59a875bccc0|[xiaomi, xiaomi, xiaomi, xiaomi, xiaomi]                                                        |\n",
      "|5cdf0645-c1f8-4601-95c9-aa7d28edd82a|[elenberg]                                                                                      |\n",
      "|5d6cbd04-1aa9-4704-a871-380ecaaae960|[dunlop, dunlop]                                                                                |\n",
      "|62a3b59a-de32-450e-828f-281eac9c02d1|[samsung, samsung, samsung, samsung, samsung]                                                   |\n",
      "|64b4a403-1d0a-49a1-b653-e8640616e06f|[samsung, samsung, samsung, samsung, samsung]                                                   |\n",
      "|6a05aff5-d0d3-4800-9f08-26bb1018697e|[apple]                                                                                         |\n",
      "|6de1fead-ab10-47eb-a5ec-74d9a8cc0127|[apple, apple, apple]                                                                           |\n",
      "|6f704c72-b09b-456a-82ba-40aedabb7288|[samsung, samsung]                                                                              |\n",
      "|73641920-7de0-4a1b-89dd-75fb7a13d084|[janome]                                                                                        |\n",
      "|7426b758-fd6a-47e3-a4bd-fe144135c45f|[lg, samsung, indesit, indesit, atlant, indesit, indesit, atlant]                               |\n",
      "+------------------------------------+------------------------------------------------------------------------------------------------+\n",
      "only showing top 30 rows\n",
      "\n"
     ]
    }
   ],
   "source": [
    "sales_oct.groupBy('user_session').agg(collect_list('brand').alias('brand')).show(30, truncate=False)"
   ]
  },
  {
   "cell_type": "code",
   "execution_count": 16,
   "metadata": {},
   "outputs": [
    {
     "name": "stdout",
     "output_type": "stream",
     "text": [
      "+----------+\n",
      "|event_type|\n",
      "+----------+\n",
      "|purchase  |\n",
      "|view      |\n",
      "|cart      |\n",
      "+----------+\n",
      "\n"
     ]
    }
   ],
   "source": [
    "sales_oct.select(\"event_type\").distinct().show(truncate=False)"
   ]
  },
  {
   "cell_type": "code",
   "execution_count": null,
   "metadata": {},
   "outputs": [],
   "source": []
  }
 ],
 "metadata": {
  "kernelspec": {
   "display_name": "Python 3.6.9 64-bit",
   "language": "python",
   "name": "python36964bit5e956226e03147d4b18a7eb1c295f7a6"
  },
  "language_info": {
   "codemirror_mode": {
    "name": "ipython",
    "version": 3
   },
   "file_extension": ".py",
   "mimetype": "text/x-python",
   "name": "python",
   "nbconvert_exporter": "python",
   "pygments_lexer": "ipython3",
   "version": "3.6.9"
  }
 },
 "nbformat": 4,
 "nbformat_minor": 2
}

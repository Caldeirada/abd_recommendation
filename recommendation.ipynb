{
 "cells": [
  {
   "cell_type": "markdown",
   "metadata": {},
   "source": [
    "# Initial Setup"
   ]
  },
  {
   "cell_type": "code",
   "execution_count": 1,
   "metadata": {},
   "outputs": [],
   "source": [
    "# basic imports \n",
    "\n",
    "import os # OS e.g directory structure\n",
    "import sys\n",
    "import numpy as np # linear algebra\n",
    "import scipy as sc  # scientific computing\n",
    "import pandas as pd # data processing, file I/O\n",
    "import seaborn as sns  # visualization\n",
    "import matplotlib.pyplot as plt # visualization\n",
    "import warnings\n",
    "warnings.filterwarnings(\"ignore\")"
   ]
  },
  {
   "cell_type": "code",
   "execution_count": 2,
   "metadata": {},
   "outputs": [],
   "source": [
    "# Spark related imports\n",
    "\n",
    "from pyspark.sql import SparkSession, Row\n",
    "from pyspark.sql.functions import *\n",
    "from pyspark.sql.types import *\n",
    "\n",
    "from pyspark.ml.feature import StringIndexer\n",
    "from pyspark.ml.fpm import FPGrowth\n",
    "from pyspark.ml.fpm import PrefixSpan\n",
    "from pyspark.ml.evaluation import RegressionEvaluator"
   ]
  },
  {
   "cell_type": "markdown",
   "metadata": {},
   "source": [
    "\n",
    "# Data Exploration"
   ]
  },
  {
   "cell_type": "code",
   "execution_count": 3,
   "metadata": {},
   "outputs": [
    {
     "name": "stdout",
     "output_type": "stream",
     "text": [
      "Oct-2019\n",
      "event_time,event_type,product_id,category_id,category_code,brand,price,user_id,user_session\n",
      "2019-10-01 00:00:00 UTC,view,44600062,2103807459595387724,,shiseido,35.79,541312140,72d76fde-8bb3-4e00-8c23-a032dfed738c\n",
      "2019-10-01 00:00:00 UTC,view,3900821,2053013552326770905,appliances.environment.water_heater,aqua,33.20,554748717,9333dfbd-b87a-4708-9857-6336556b0fcc\n",
      "2019-10-01 00:00:01 UTC,view,17200506,2053013559792632471,furniture.living_room.sofa,,543.10,519107250,566511c2-e2e3-422b-b695-cf8e6e792ca8\n",
      "2019-10-01 00:00:01 UTC,view,1307067,2053013558920217191,computers.notebook,lenovo,251.74,550050854,7c90fc70-0e80-4590-96f3-13c02c18c713\n",
      "2019-10-31 23:59:58 UTC,view,2300275,2053013560530830019,electronics.camera.video,gopro,527.40,537931532,22c57267-da98-4f28-9a9c-18bb5b385193\n",
      "2019-10-31 23:59:58 UTC,view,10800172,2053013554994348409,,redmond,61.75,527322328,5054190a-46cb-4211-a8f1-16fc1a060ed8\n",
      "2019-10-31 23:59:58 UTC,view,5701038,2053013553970938175,auto.accessories.player,kenwood,128.70,566280422,05b6c62b-992f-4e8e-91f7-961bcb4719cd\n",
      "2019-10-31 23:59:59 UTC,view,21407424,2053013561579406073,electronics.clocks,tissot,689.85,513118352,4c14bf2a-2820-4504-929d-046356a5a204\n",
      "2019-10-31 23:59:59 UTC,view,13300120,2053013557166998015,,swisshome,155.73,525266378,6e57d2d7-6022-46e6-81d6-fa77f14cefd8\n",
      "Nov-2019\n",
      "event_time,event_type,product_id,category_id,category_code,brand,price,user_id,user_session\n",
      "2019-11-01 00:00:00 UTC,view,1003461,2053013555631882655,electronics.smartphone,xiaomi,489.07,520088904,4d3b30da-a5e4-49df-b1a8-ba5943f1dd33\n",
      "2019-11-01 00:00:00 UTC,view,5000088,2053013566100866035,appliances.sewing_machine,janome,293.65,530496790,8e5f4f83-366c-4f70-860e-ca7417414283\n",
      "2019-11-01 00:00:01 UTC,view,17302664,2053013553853497655,,creed,28.31,561587266,755422e7-9040-477b-9bd2-6a6e8fd97387\n",
      "2019-11-01 00:00:01 UTC,view,3601530,2053013563810775923,appliances.kitchen.washer,lg,712.87,518085591,3bfb58cd-7892-48cc-8020-2f17e6de6e7f\n",
      "2019-11-30 23:59:58 UTC,view,15700137,2053013559733912211,,,277.74,532714000,02b4131c-0112-4231-aafa-ceaa08e77c1b\n",
      "2019-11-30 23:59:58 UTC,view,28719425,2053013565639492569,apparel.shoes,baden,62.81,545223467,734c5eef-0742-4f8b-9d22-48f75b0bc359\n",
      "2019-11-30 23:59:59 UTC,view,1004833,2053013555631882655,electronics.smartphone,samsung,167.03,557794415,6fecf566-ebb0-4e70-a243-cdc13ce044cb\n",
      "2019-11-30 23:59:59 UTC,view,2701706,2053013563911439225,appliances.kitchen.refrigerators,samsung,566.27,531607492,368ddc8b-5db9-40fb-b7ff-b6582a1192c0\n",
      "2019-11-30 23:59:59 UTC,view,1004233,2053013555631882655,electronics.smartphone,apple,1312.52,579969851,90aca71c-ed8a-4670-866a-761ebacb732d\n"
     ]
    }
   ],
   "source": [
    "! echo \"Oct-2019\"\n",
    "! head -n 5 dataset/2019-Oct.csv\n",
    "! tail -n 5 dataset/2019-Oct.csv\n",
    "! echo \"Nov-2019\"\n",
    "! head -n 5 dataset/2019-Nov.csv\n",
    "! tail -n 5 dataset/2019-Nov.csv"
   ]
  },
  {
   "cell_type": "code",
   "execution_count": 4,
   "metadata": {},
   "outputs": [],
   "source": [
    "from pyspark.sql import SparkSession\n",
    "\n",
    "spark = SparkSession.builder.appName(\"abd_classification\").getOrCreate()"
   ]
  },
  {
   "cell_type": "code",
   "execution_count": 5,
   "metadata": {},
   "outputs": [],
   "source": [
    "sales = spark.read.csv(\"dataset/2019-*-small.csv\", header=\"true\", inferSchema=\"true\", sep=\",\")\n",
    "#sales_nov = spark.read.csv(\"dataset/2019-Nov-small.csv\", header=\"true\", inferSchema=\"true\", sep=\",\")"
   ]
  },
  {
   "cell_type": "code",
   "execution_count": 6,
   "metadata": {},
   "outputs": [
    {
     "name": "stdout",
     "output_type": "stream",
     "text": [
      "root\n",
      " |-- event_time: string (nullable = true)\n",
      " |-- event_type: string (nullable = true)\n",
      " |-- product_id: integer (nullable = true)\n",
      " |-- category_id: long (nullable = true)\n",
      " |-- category_code: string (nullable = true)\n",
      " |-- brand: string (nullable = true)\n",
      " |-- price: double (nullable = true)\n",
      " |-- user_id: integer (nullable = true)\n",
      " |-- user_session: string (nullable = true)\n",
      "\n"
     ]
    },
    {
     "data": {
      "text/plain": [
       "199998"
      ]
     },
     "execution_count": 6,
     "metadata": {},
     "output_type": "execute_result"
    }
   ],
   "source": [
    "#sales_oct.printSchema()\n",
    "#so = sales_oct.count()\n",
    "\n",
    "#sales_nov.printSchema()\n",
    "#sv = sales_nov.count()\n",
    "\n",
    "sales.printSchema()\n",
    "sales.count()"
   ]
  },
  {
   "cell_type": "code",
   "execution_count": 7,
   "metadata": {},
   "outputs": [
    {
     "name": "stdout",
     "output_type": "stream",
     "text": [
      "+----------+------+\n",
      "|event_type|count |\n",
      "+----------+------+\n",
      "|purchase  |3077  |\n",
      "|view      |194617|\n",
      "|cart      |2304  |\n",
      "+----------+------+\n",
      "\n"
     ]
    }
   ],
   "source": [
    "sales.groupBy('event_type').count().show(truncate=False)"
   ]
  },
  {
   "cell_type": "code",
   "execution_count": 8,
   "metadata": {},
   "outputs": [
    {
     "name": "stdout",
     "output_type": "stream",
     "text": [
      "+----------+----------+----------+-----------+-------------+-----+-----+-------+------------+\n",
      "|event_time|event_type|product_id|category_id|category_code|brand|price|user_id|user_session|\n",
      "+----------+----------+----------+-----------+-------------+-----+-----+-------+------------+\n",
      "|         0|         0|         0|          0|        66427|30168|    0|      0|           0|\n",
      "+----------+----------+----------+-----------+-------------+-----+-----+-------+------------+\n",
      "\n"
     ]
    }
   ],
   "source": [
    "# https://stackoverflow.com/questions/40163106/cannot-find-col-function-in-pyspark\n",
    "\n",
    "sales.select([count(when(isnan(c) | col(c).isNull(), c)).alias(c) for c in sales.columns]).show()"
   ]
  },
  {
   "cell_type": "code",
   "execution_count": 9,
   "metadata": {},
   "outputs": [
    {
     "name": "stdout",
     "output_type": "stream",
     "text": [
      "+-------+-----------------+\n",
      "|summary|            price|\n",
      "+-------+-----------------+\n",
      "|  count|           199998|\n",
      "|   mean|284.1862630626338|\n",
      "| stddev|351.4834010830769|\n",
      "|    min|              0.0|\n",
      "|    max|          2574.07|\n",
      "+-------+-----------------+\n",
      "\n"
     ]
    }
   ],
   "source": [
    "sales.describe(\"price\").show()"
   ]
  },
  {
   "cell_type": "code",
   "execution_count": 10,
   "metadata": {},
   "outputs": [
    {
     "name": "stdout",
     "output_type": "stream",
     "text": [
      "+--------------------+----------+----------+-------------------+--------------------+-----+-----+---------+--------------------+\n",
      "|          event_time|event_type|product_id|        category_id|       category_code|brand|price|  user_id|        user_session|\n",
      "+--------------------+----------+----------+-------------------+--------------------+-----+-----+---------+--------------------+\n",
      "|2019-10-01 02:21:...|      view|  53000001|2146660886926852416|                null| null|  0.0|512450748|03267357-d0e5-483...|\n",
      "|2019-10-01 02:21:...|      view|  53000001|2146660886926852416|                null| null|  0.0|512450748|03267357-d0e5-483...|\n",
      "|2019-10-01 02:22:...|      view|   7000684|2053013560346280633|       kids.carriage| null|  0.0|555462472|c378efe2-75b4-48f...|\n",
      "|2019-10-01 02:24:...|      view|   4100157|2053013561218695907|                null| null|  0.0|531057348|6b9c87ab-f991-45c...|\n",
      "|2019-10-01 02:28:...|      view|  23301316|2053013561956893455|                null| null|  0.0|521311516|f3a2fd03-13eb-423...|\n",
      "|2019-10-01 02:28:...|      view|  13105134|2053013553526341921|                null| null|  0.0|542208580|28f1c782-c8a4-411...|\n",
      "|2019-10-01 02:29:...|      view|  31200824|2053013558098133555|                null| null|  0.0|513025724|85eb9f41-fc42-44d...|\n",
      "|2019-10-01 02:30:...|      view|  23301316|2053013561956893455|                null| null|  0.0|521311516|f3a2fd03-13eb-423...|\n",
      "|2019-10-01 02:30:...|      view|  31200824|2053013558098133555|                null| null|  0.0|513025724|85eb9f41-fc42-44d...|\n",
      "|2019-10-01 02:36:...|      view|  32403740|2053013566562238479|                null| null|  0.0|546652849|4ebb4cd0-26ba-443...|\n",
      "|2019-10-01 02:37:...|      view|   1003507|2053013555631882655|electronics.smart...| null|  0.0|532323530|af0b8bbc-5792-4f8...|\n",
      "|2019-10-01 02:42:...|      view|  36200062|2071489994601529806|                null| null|  0.0|520837900|2c114f73-5a72-4e9...|\n",
      "|2019-10-01 02:42:...|      view|  10200661|2053013553224352013|          kids.dolls| null|  0.0|548417642|bbd7b93c-2d5e-406...|\n",
      "|2019-10-01 02:42:...|      view|  36200062|2071489994601529806|                null| null|  0.0|520837900|2c114f73-5a72-4e9...|\n",
      "|2019-10-01 02:43:...|      view|  35900050|2070747673358500784|                null| null|  0.0|543945962|316a6cbc-27a1-417...|\n",
      "|2019-10-01 02:44:...|      view|  23900253|2053013561814287111|                null| null|  0.0|518925085|9b53a253-3040-4bb...|\n",
      "|2019-10-01 02:44:...|      view|  35900054|2070747673358500784|                null| null|  0.0|543945962|316a6cbc-27a1-417...|\n",
      "|2019-10-01 02:45:...|      view|   4100157|2053013561218695907|                null| null|  0.0|548210293|7891b39f-74eb-471...|\n",
      "|2019-10-01 02:45:...|      view|  23900266|2053013561814287111|                null| null|  0.0|518925085|9b53a253-3040-4bb...|\n",
      "|2019-10-01 02:53:...|      view|  12202735|2116907525176557699|       sport.bicycle| null|  0.0|539443846|a47853d8-71cf-4ea...|\n",
      "+--------------------+----------+----------+-------------------+--------------------+-----+-----+---------+--------------------+\n",
      "only showing top 20 rows\n",
      "\n"
     ]
    },
    {
     "data": {
      "text/plain": [
       "182"
      ]
     },
     "execution_count": 10,
     "metadata": {},
     "output_type": "execute_result"
    }
   ],
   "source": [
    "no_price = sales.select('*').where(col('price')==0)\n",
    "no_price.show()\n",
    "no_price.count()"
   ]
  },
  {
   "cell_type": "markdown",
   "metadata": {},
   "source": [
    "Groupby user session using market basket since we have not user valuation"
   ]
  },
  {
   "cell_type": "code",
   "execution_count": 11,
   "metadata": {},
   "outputs": [
    {
     "name": "stdout",
     "output_type": "stream",
     "text": [
      "+----------+------------------------------------+------------------------------------+\n",
      "|event_type|user_session                        |products                            |\n",
      "+----------+------------------------------------+------------------------------------+\n",
      "|cart      |07bf934b-baf2-40e1-9b06-2bb8aa5ecaee|[12300396]                          |\n",
      "|cart      |20cd729b-6e4b-42d7-a3f5-c5b73a96f0e4|[8901769]                           |\n",
      "|cart      |7724414e-3350-48cd-82a5-7cb8aad08f60|[1004856, 1004856]                  |\n",
      "|cart      |89e5eee1-2925-456d-be16-1a33ff952918|[1002544]                           |\n",
      "|cart      |b38a813c-1266-4922-a599-6abadef85fb6|[1004856]                           |\n",
      "|cart      |ff1c1e4a-7cfb-467b-ae0a-490a4186e870|[1004833, 1004833, 1004833, 1004833]|\n",
      "|purchase  |05d1d427-5e88-40eb-beba-5b1cbd15b557|[1004838]                           |\n",
      "|purchase  |06053f76-9379-4b26-b370-c6b39701c635|[1004833]                           |\n",
      "|purchase  |1041423c-30c4-4c68-ad8b-d4e34ce158ee|[1004739]                           |\n",
      "|purchase  |1313f39b-f25d-48f2-96a1-70285cdd6882|[12709541]                          |\n",
      "|purchase  |14a25e1f-e239-4bd9-bffc-44dd1f00010c|[1005238]                           |\n",
      "|purchase  |2fa2f74e-b8ed-4820-b0e5-b815c8c2309b|[4804295]                           |\n",
      "|purchase  |585119f4-7f24-4a9a-89ab-c74e0f9a1b4c|[3601522]                           |\n",
      "|purchase  |8dc6d9ad-9248-4644-82f6-f3b3558c1dfb|[1004873]                           |\n",
      "|purchase  |91283eb6-b9d7-4239-a8bb-0bd37d01a3a1|[1004767]                           |\n",
      "|purchase  |b51a3c5a-84e5-49e6-8cd3-941974276e3c|[5100577]                           |\n",
      "|purchase  |ec15ba27-c615-4613-9504-7dd632d74895|[1004873]                           |\n",
      "|purchase  |fb79a3ce-7937-43ba-ae84-05ab5fe33538|[1004893]                           |\n",
      "|view      |00700c78-b0cb-4d65-98d6-ead65bcf36b9|[2300100]                           |\n",
      "|view      |01606a67-9fca-4bc2-a899-1525f5d2a019|[1004856, 1004833, 1004833]         |\n",
      "+----------+------------------------------------+------------------------------------+\n",
      "only showing top 20 rows\n",
      "\n"
     ]
    }
   ],
   "source": [
    "# https://stackoverflow.com/questions/48406304/groupby-and-concat-array-columns-pyspark\n",
    "sales.groupBy(\"event_type\",'user_session').agg(collect_list('product_id').alias('products')).show(20, truncate=False)"
   ]
  },
  {
   "cell_type": "code",
   "execution_count": 12,
   "metadata": {},
   "outputs": [
    {
     "name": "stdout",
     "output_type": "stream",
     "text": [
      "+----------+\n",
      "|event_type|\n",
      "+----------+\n",
      "|purchase  |\n",
      "|view      |\n",
      "|cart      |\n",
      "+----------+\n",
      "\n"
     ]
    }
   ],
   "source": [
    "sales.select(\"event_type\").distinct().show(truncate=False)"
   ]
  },
  {
   "cell_type": "code",
   "execution_count": 13,
   "metadata": {
    "scrolled": false
   },
   "outputs": [
    {
     "name": "stdout",
     "output_type": "stream",
     "text": [
      "+--------------------+\n",
      "|       category_code|\n",
      "+--------------------+\n",
      "|apparel.shoes.sli...|\n",
      "|    computers.ebooks|\n",
      "|computers.periphe...|\n",
      "|electronics.video...|\n",
      "|appliances.kitche...|\n",
      "|     sport.snowboard|\n",
      "|electronics.camer...|\n",
      "|       apparel.shirt|\n",
      "|electronics.audio...|\n",
      "|appliances.kitche...|\n",
      "|appliances.kitche...|\n",
      "|  electronics.tablet|\n",
      "|appliances.kitche...|\n",
      "|auto.accessories....|\n",
      "|apparel.shoes.moc...|\n",
      "|       apparel.jeans|\n",
      "|computers.periphe...|\n",
      "|furniture.living_...|\n",
      "| stationery.cartrige|\n",
      "|furniture.kitchen...|\n",
      "+--------------------+\n",
      "only showing top 20 rows\n",
      "\n"
     ]
    }
   ],
   "source": [
    "sales.select(\"category_code\").distinct().show()"
   ]
  },
  {
   "cell_type": "markdown",
   "metadata": {},
   "source": [
    "Drop column event_time, price and category_code"
   ]
  },
  {
   "cell_type": "code",
   "execution_count": 14,
   "metadata": {},
   "outputs": [],
   "source": [
    "sales_short = sales.drop(\"price\", \"event_time\", \"category_code\")"
   ]
  },
  {
   "cell_type": "code",
   "execution_count": 15,
   "metadata": {},
   "outputs": [
    {
     "name": "stdout",
     "output_type": "stream",
     "text": [
      "root\n",
      " |-- event_type: string (nullable = true)\n",
      " |-- product_id: integer (nullable = true)\n",
      " |-- category_id: long (nullable = true)\n",
      " |-- brand: string (nullable = true)\n",
      " |-- user_id: integer (nullable = true)\n",
      " |-- user_session: string (nullable = true)\n",
      "\n"
     ]
    }
   ],
   "source": [
    "sales_short.printSchema()"
   ]
  },
  {
   "cell_type": "code",
   "execution_count": 16,
   "metadata": {},
   "outputs": [
    {
     "name": "stdout",
     "output_type": "stream",
     "text": [
      "duplicate rows = 120652\n"
     ]
    }
   ],
   "source": [
    "df_user_brand = sales_short.select('user_id','brand')\n",
    "print(f'duplicate rows = {df_user_brand.count()-df_user_brand.dropDuplicates().count()}')\n",
    "df_user_brand = df_user_brand.dropDuplicates()\n",
    "\n",
    "#indexer = StringIndexer(inputCol=\"category_id\", outputCol=\"category_id-Index\")\n",
    "#df_user_cat_id_indexed = indexer.fit(df_user_cat_id).transform(df_user_cat_id)"
   ]
  },
  {
   "cell_type": "markdown",
   "metadata": {},
   "source": [
    "recomendation based on brand, product viewd and purchased"
   ]
  },
  {
   "cell_type": "code",
   "execution_count": 17,
   "metadata": {},
   "outputs": [
    {
     "name": "stdout",
     "output_type": "stream",
     "text": [
      "root\n",
      " |-- user_session: string (nullable = true)\n",
      " |-- products: array (nullable = true)\n",
      " |    |-- element: integer (containsNull = false)\n",
      "\n"
     ]
    }
   ],
   "source": [
    "df_session_basket = sales_short.groupBy('user_session').agg(collect_list('product_id').alias('products'))\n",
    "df_session_basket.printSchema()"
   ]
  },
  {
   "cell_type": "code",
   "execution_count": 18,
   "metadata": {},
   "outputs": [
    {
     "name": "stdout",
     "output_type": "stream",
     "text": [
      "+--------------------+--------------------+\n",
      "|        user_session|            products|\n",
      "+--------------------+--------------------+\n",
      "|0043d905-2c15-49e...|  [1004665, 8902408]|\n",
      "|03ae6182-46fb-4ce...|[1200617, 1201505...|\n",
      "|04934e84-18dc-491...|  [1004838, 1005205]|\n",
      "|051fa0c1-a1c1-427...|[3600661, 3600666...|\n",
      "|06d381f2-b696-487...|           [2200937]|\n",
      "|081bb131-ed56-4b5...|          [11500476]|\n",
      "|0b9c0af2-0c06-423...|  [1004741, 1005160]|\n",
      "|0c19ae22-a419-482...|[18300429, 183004...|\n",
      "|0cb766a0-ff39-413...|[12700936, 127009...|\n",
      "|0fce1f10-24c6-44e...|[1005157, 1005157...|\n",
      "|1099e1cc-9303-41c...|          [26500614]|\n",
      "|1218cd22-94b3-489...|          [26200134]|\n",
      "|141db30c-0704-4bf...|[28101059, 281009...|\n",
      "|15f425fb-9d08-4b2...|[26400672, 26401613]|\n",
      "|178c2117-c55e-475...|[1004659, 1004659...|\n",
      "|17d470d3-7df3-476...|           [1004505]|\n",
      "|18870398-f6ed-4f6...|           [1801882]|\n",
      "|194fc2ad-6a50-4dc...|[1004856, 1004856...|\n",
      "|19797cab-6179-489...|          [45700023]|\n",
      "|197e3f0d-7282-486...|           [1004873]|\n",
      "+--------------------+--------------------+\n",
      "only showing top 20 rows\n",
      "\n"
     ]
    }
   ],
   "source": [
    "df_session_basket.show()"
   ]
  },
  {
   "cell_type": "code",
   "execution_count": 19,
   "metadata": {},
   "outputs": [
    {
     "name": "stdout",
     "output_type": "stream",
     "text": [
      "root\n",
      " |-- user_id: integer (nullable = true)\n",
      " |-- products: array (nullable = true)\n",
      " |    |-- element: string (containsNull = false)\n",
      "\n"
     ]
    }
   ],
   "source": [
    "df_user_basket = df_user_brand.groupBy('user_id').agg(collect_list('brand').alias('products'))\n",
    "df_user_basket.printSchema()"
   ]
  },
  {
   "cell_type": "code",
   "execution_count": 20,
   "metadata": {},
   "outputs": [
    {
     "name": "stdout",
     "output_type": "stream",
     "text": [
      "+---------+--------------------+\n",
      "|  user_id|            products|\n",
      "+---------+--------------------+\n",
      "|445162060|    [flama, shivaki]|\n",
      "|509481306|          [moulinex]|\n",
      "|512366675|[anytek, incar, i...|\n",
      "|512513760|        [jbl, baden]|\n",
      "|512552482|[bosch, marshal, ...|\n",
      "|512697003|[lanvin, versace,...|\n",
      "|512818893|                  []|\n",
      "|512907846|              [zinc]|\n",
      "|512975815|           [tarkett]|\n",
      "|513101609|     [trebl, denzel]|\n",
      "|513136911|[braun, xiaomi, v...|\n",
      "|513161211|           [higashi]|\n",
      "|513165061|                  []|\n",
      "|513168011|   [huawei, samsung]|\n",
      "|513172205|         [microsoft]|\n",
      "|513216657|             [apple]|\n",
      "|513247621|  [lider, pasabahce]|\n",
      "|513266555|[makita, dewalt, ...|\n",
      "|513291250|             [bosch]|\n",
      "|513360681|  [bts, samsung, sv]|\n",
      "+---------+--------------------+\n",
      "only showing top 20 rows\n",
      "\n"
     ]
    }
   ],
   "source": [
    "df_user_basket.show()"
   ]
  },
  {
   "cell_type": "code",
   "execution_count": 21,
   "metadata": {},
   "outputs": [],
   "source": [
    "dftrain, dftest = df_user_basket.randomSplit([0.8, 0.2], 42)\n",
    "\n",
    "# caching data ... but just the train\n",
    "dftrain.cache()\n",
    "\n",
    "fpGrowth = FPGrowth(itemsCol=\"products\", minSupport=0.001, minConfidence=0.0)\n",
    "model = fpGrowth.fit(dftrain)"
   ]
  },
  {
   "cell_type": "code",
   "execution_count": 22,
   "metadata": {},
   "outputs": [
    {
     "name": "stdout",
     "output_type": "stream",
     "text": [
      "+---------+-------------------------------------------------+------------------------------------------------------------------------------------------------------------------------------------------------------------------------------------------------------------------------------------------------------+\n",
      "|user_id  |products                                         |prediction                                                                                                                                                                                                                                            |\n",
      "+---------+-------------------------------------------------+------------------------------------------------------------------------------------------------------------------------------------------------------------------------------------------------------------------------------------------------------+\n",
      "|512366675|[anytek, incar, intego]                          |[]                                                                                                                                                                                                                                                    |\n",
      "|512818893|[]                                               |[]                                                                                                                                                                                                                                                    |\n",
      "|512975815|[tarkett]                                        |[]                                                                                                                                                                                                                                                    |\n",
      "|513168011|[huawei, samsung]                                |[apple, xiaomi, lucente, bosch, lg, sony, oppo, acer, artel, dauscher, sv, elenberg, hp, lenovo, philips, redmond, vitek, polaris, indesit, beko, nokia, tefal, meizu, haier, midea, jbl, vivo, elari, honor, oneplus, kivi]                          |\n",
      "|513360681|[bts, samsung, sv]                               |[apple, xiaomi, huawei, lucente, bosch, lg, sony, oppo, acer, artel, dauscher, elenberg, hp, lenovo, philips, redmond, vitek, polaris, indesit, beko, nokia, tefal, meizu, haier, midea, jbl, vivo, elari, honor, oneplus, kivi, brw, lider, imperial]|\n",
      "|513595928|[apple]                                          |[samsung, xiaomi, huawei, lg, sony, oppo, acer, hp, lenovo, asus, nokia, meizu, jbl]                                                                                                                                                                  |\n",
      "|513992906|[versace]                                        |[]                                                                                                                                                                                                                                                    |\n",
      "|514569249|[apple]                                          |[samsung, xiaomi, huawei, lg, sony, oppo, acer, hp, lenovo, asus, nokia, meizu, jbl]                                                                                                                                                                  |\n",
      "|515445555|[laston, autoprofi]                              |[]                                                                                                                                                                                                                                                    |\n",
      "|515580257|[xiaomi]                                         |[apple, samsung, huawei, bosch, lg, sony, oppo, acer, hp, lenovo, philips, asus, nokia, meizu, jbl, vivo, elari, honor, oneplus, harper]                                                                                                              |\n",
      "|515604999|[pioneer, samsung]                               |[apple, xiaomi, huawei, lucente, bosch, lg, sony, oppo, acer, artel, dauscher, sv, elenberg, hp, lenovo, philips, redmond, vitek, polaris, indesit, beko, nokia, tefal, meizu, haier, midea, jbl, vivo, elari, honor, oneplus, kivi, jvc]             |\n",
      "|515687124|[haier, atlant, beko, indesit, dauscher, samsung]|[lg, apple, xiaomi, huawei, lucente, bosch, sony, oppo, acer, artel, sv, elenberg, hp, lenovo, philips, redmond, vitek, polaris, nokia, tefal, meizu, midea, jbl, vivo, elari, honor, oneplus, kivi, scarlett]                                        |\n",
      "|515772044|[respect]                                        |[baden, nike, rieker, nexpero, salamander, strobbs, fassen, greyder, burgerschuhe]                                                                                                                                                                    |\n",
      "|516400912|[lider, sv]                                      |[bts, samsung, brw, imperial]                                                                                                                                                                                                                         |\n",
      "|517461687|[respect]                                        |[baden, nike, rieker, nexpero, salamander, strobbs, fassen, greyder, burgerschuhe]                                                                                                                                                                    |\n",
      "|518413677|[apple, samsung]                                 |[xiaomi, huawei, lucente, bosch, lg, sony, oppo, acer, artel, dauscher, sv, elenberg, hp, lenovo, philips, redmond, vitek, polaris, indesit, beko, nokia, tefal, meizu, haier, midea, jbl, vivo, elari, honor, oneplus, kivi, asus]                   |\n",
      "|519214953|[sv, bts, brw, vladi, pituso]                    |[lider, imperial, samsung]                                                                                                                                                                                                                            |\n",
      "|529079049|[apple]                                          |[samsung, xiaomi, huawei, lg, sony, oppo, acer, hp, lenovo, asus, nokia, meizu, jbl]                                                                                                                                                                  |\n",
      "|534133224|[huawei, samsung]                                |[apple, xiaomi, lucente, bosch, lg, sony, oppo, acer, artel, dauscher, sv, elenberg, hp, lenovo, philips, redmond, vitek, polaris, indesit, beko, nokia, tefal, meizu, haier, midea, jbl, vivo, elari, honor, oneplus, kivi]                          |\n",
      "|537535545|[brw]                                            |[bts, sv]                                                                                                                                                                                                                                             |\n",
      "+---------+-------------------------------------------------+------------------------------------------------------------------------------------------------------------------------------------------------------------------------------------------------------------------------------------------------------+\n",
      "only showing top 20 rows\n",
      "\n",
      "+--------------------+----+\n",
      "|               items|freq|\n",
      "+--------------------+----+\n",
      "|            [askona]|  42|\n",
      "|           [samsung]|6121|\n",
      "|             [apple]|5325|\n",
      "|    [apple, samsung]| 808|\n",
      "|              [etor]|  42|\n",
      "|            [xiaomi]|3381|\n",
      "|     [xiaomi, apple]| 423|\n",
      "|[xiaomi, apple, s...| 206|\n",
      "|   [xiaomi, samsung]| 813|\n",
      "|              [kicx]|  42|\n",
      "|            [huawei]|1404|\n",
      "|    [huawei, xiaomi]| 379|\n",
      "|[huawei, xiaomi, ...|  86|\n",
      "|[huawei, xiaomi, ...|  68|\n",
      "|[huawei, xiaomi, ...| 226|\n",
      "|     [huawei, apple]| 228|\n",
      "|[huawei, apple, s...| 135|\n",
      "|   [huawei, samsung]| 501|\n",
      "|           [kukmara]|  42|\n",
      "|           [lucente]| 904|\n",
      "+--------------------+----+\n",
      "only showing top 20 rows\n",
      "\n",
      "+--------------------+-------------+-------------------+------------------+\n",
      "|          antecedent|   consequent|         confidence|              lift|\n",
      "+--------------------+-------------+-------------------+------------------+\n",
      "|[huawei, xiaomi, ...|      [apple]| 0.3008849557522124|  1.84141592920354|\n",
      "|[huawei, xiaomi, ...|       [oppo]| 0.3230088495575221|17.963370986740767|\n",
      "|[huawei, xiaomi, ...|      [meizu]|0.16371681415929204|21.513577647730518|\n",
      "|       [indesit, lg]|    [samsung]|0.49333333333333335|2.6265708217611503|\n",
      "|          [michelin]|     [nokian]| 0.3620689655172414|31.465241379310346|\n",
      "|             [oasis]|   [elenberg]| 0.2892561983471074| 20.99458852546522|\n",
      "|               [brw]|        [bts]|  0.212707182320442| 18.00497237569061|\n",
      "|               [brw]|         [sv]| 0.2430939226519337|16.963999668744897|\n",
      "|      [sony, huawei]|     [xiaomi]|  0.603448275862069| 5.816556007710431|\n",
      "|      [sony, huawei]|    [samsung]| 0.6551724137931034| 3.488223132348219|\n",
      "|[meizu, xiaomi, s...|     [huawei]| 0.5441176470588235|12.629807692307692|\n",
      "|          [yokohama]|     [nokian]| 0.2813852813852814|24.453506493506495|\n",
      "|          [yokohama]|   [triangle]|0.24675324675324675|17.557732660352748|\n",
      "|          [yokohama]|   [cordiant]| 0.2077922077922078| 9.431393119415404|\n",
      "|          [yokohama]|[bridgestone]| 0.1471861471861472|46.569411171352925|\n",
      "|             [stels]|      [bosch]|0.15151515151515152| 6.627821842586943|\n",
      "|             [stels]|      [force]|  0.367003367003367| 47.08768790264853|\n",
      "|             [stels]|  [aeroforce]|0.13131313131313133|57.829238329238336|\n",
      "|             [meizu]|     [xiaomi]|0.45564516129032256| 4.391901851904858|\n",
      "|             [meizu]|      [apple]|0.14516129032258066|0.8883870967741936|\n",
      "+--------------------+-------------+-------------------+------------------+\n",
      "only showing top 20 rows\n",
      "\n"
     ]
    },
    {
     "name": "stdout",
     "output_type": "stream",
     "text": [
      "+---------+--------------------+--------------------+\n",
      "|  user_id|            products|          prediction|\n",
      "+---------+--------------------+--------------------+\n",
      "|445162060|    [flama, shivaki]|                  []|\n",
      "|509481306|          [moulinex]|                  []|\n",
      "|512366675|[anytek, incar, i...|                  []|\n",
      "|512513760|        [jbl, baden]|[respect, rieker,...|\n",
      "|512552482|[bosch, marshal, ...|[force, xiaomi, s...|\n",
      "|512697003|[lanvin, versace,...|                  []|\n",
      "|512818893|                  []|                  []|\n",
      "|512907846|              [zinc]|                  []|\n",
      "|512975815|           [tarkett]|                  []|\n",
      "|513101609|     [trebl, denzel]|                  []|\n",
      "|513136911|[braun, xiaomi, v...|[apple, samsung, ...|\n",
      "|513161211|           [higashi]|                  []|\n",
      "|513165061|                  []|                  []|\n",
      "|513168011|   [huawei, samsung]|[apple, xiaomi, l...|\n",
      "|513172205|         [microsoft]|                  []|\n",
      "|513216657|             [apple]|[samsung, xiaomi,...|\n",
      "|513247621|  [lider, pasabahce]|               [bts]|\n",
      "|513266555|[makita, dewalt, ...|             [bosch]|\n",
      "|513291250|             [bosch]|[xiaomi, samsung,...|\n",
      "|513360681|  [bts, samsung, sv]|[apple, xiaomi, h...|\n",
      "+---------+--------------------+--------------------+\n",
      "only showing top 20 rows\n",
      "\n"
     ]
    }
   ],
   "source": [
    "# session vs product? sessions vs brand?\n",
    "\n",
    "predictions = model.transform(dftest)\n",
    "predictions.show(truncate=False)\n",
    "\n",
    "# Display frequent itemsets.\n",
    "model.freqItemsets.show()\n",
    "\n",
    "# Display generated association rules.\n",
    "model.associationRules.show()\n",
    "\n",
    "# transform examines the input items against all the association rules and summarize the\n",
    "# consequents as prediction\n",
    "model.transform(df_user_basket).show()"
   ]
  },
  {
   "cell_type": "code",
   "execution_count": null,
   "metadata": {},
   "outputs": [],
   "source": []
  }
 ],
 "metadata": {
  "kernelspec": {
   "display_name": "Python 3.6.9 64-bit",
   "language": "python",
   "name": "python36964bit5e956226e03147d4b18a7eb1c295f7a6"
  },
  "language_info": {
   "codemirror_mode": {
    "name": "ipython",
    "version": 3
   },
   "file_extension": ".py",
   "mimetype": "text/x-python",
   "name": "python",
   "nbconvert_exporter": "python",
   "pygments_lexer": "ipython3",
   "version": "3.6.9"
  }
 },
 "nbformat": 4,
 "nbformat_minor": 2
}

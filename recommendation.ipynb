{
 "cells": [
  {
   "cell_type": "markdown",
   "metadata": {},
   "source": [
    "# Initial Setup"
   ]
  },
  {
   "cell_type": "code",
   "execution_count": 1,
   "metadata": {},
   "outputs": [],
   "source": [
    "# basic imports \n",
    "\n",
    "import os # OS e.g directory structure\n",
    "import sys\n",
    "import numpy as np # linear algebra\n",
    "import scipy as sc  # scientific computing\n",
    "import pandas as pd # data processing, file I/O\n",
    "import seaborn as sns  # visualization\n",
    "import matplotlib.pyplot as plt # visualization\n",
    "import warnings\n",
    "warnings.filterwarnings(\"ignore\")"
   ]
  },
  {
   "cell_type": "code",
   "execution_count": 27,
   "metadata": {},
   "outputs": [],
   "source": [
    "# Spark related imports\n",
    "\n",
    "from pyspark.sql import SparkSession, Row\n",
    "from pyspark.sql.functions import *\n",
    "from pyspark.sql.types import *\n",
    "\n",
    "from pyspark.ml.feature import StringIndexer\n",
    "from pyspark.ml.recommendation import ALS\n",
    "from pyspark.ml.evaluation import RegressionEvaluator"
   ]
  },
  {
   "cell_type": "markdown",
   "metadata": {},
   "source": [
    "\n",
    "# Data Exploration"
   ]
  },
  {
   "cell_type": "code",
   "execution_count": 3,
   "metadata": {},
   "outputs": [
    {
     "name": "stdout",
     "output_type": "stream",
     "text": [
      "Oct-2019\n",
      "event_time,event_type,product_id,category_id,category_code,brand,price,user_id,user_session\n",
      "2019-10-01 00:00:00 UTC,view,44600062,2103807459595387724,,shiseido,35.79,541312140,72d76fde-8bb3-4e00-8c23-a032dfed738c\n",
      "2019-10-01 00:00:00 UTC,view,3900821,2053013552326770905,appliances.environment.water_heater,aqua,33.20,554748717,9333dfbd-b87a-4708-9857-6336556b0fcc\n",
      "2019-10-01 00:00:01 UTC,view,17200506,2053013559792632471,furniture.living_room.sofa,,543.10,519107250,566511c2-e2e3-422b-b695-cf8e6e792ca8\n",
      "2019-10-01 00:00:01 UTC,view,1307067,2053013558920217191,computers.notebook,lenovo,251.74,550050854,7c90fc70-0e80-4590-96f3-13c02c18c713\n",
      "2019-10-31 23:59:58 UTC,view,2300275,2053013560530830019,electronics.camera.video,gopro,527.40,537931532,22c57267-da98-4f28-9a9c-18bb5b385193\n",
      "2019-10-31 23:59:58 UTC,view,10800172,2053013554994348409,,redmond,61.75,527322328,5054190a-46cb-4211-a8f1-16fc1a060ed8\n",
      "2019-10-31 23:59:58 UTC,view,5701038,2053013553970938175,auto.accessories.player,kenwood,128.70,566280422,05b6c62b-992f-4e8e-91f7-961bcb4719cd\n",
      "2019-10-31 23:59:59 UTC,view,21407424,2053013561579406073,electronics.clocks,tissot,689.85,513118352,4c14bf2a-2820-4504-929d-046356a5a204\n",
      "2019-10-31 23:59:59 UTC,view,13300120,2053013557166998015,,swisshome,155.73,525266378,6e57d2d7-6022-46e6-81d6-fa77f14cefd8\n",
      "Nov-2019\n",
      "event_time,event_type,product_id,category_id,category_code,brand,price,user_id,user_session\n",
      "2019-11-01 00:00:00 UTC,view,1003461,2053013555631882655,electronics.smartphone,xiaomi,489.07,520088904,4d3b30da-a5e4-49df-b1a8-ba5943f1dd33\n",
      "2019-11-01 00:00:00 UTC,view,5000088,2053013566100866035,appliances.sewing_machine,janome,293.65,530496790,8e5f4f83-366c-4f70-860e-ca7417414283\n",
      "2019-11-01 00:00:01 UTC,view,17302664,2053013553853497655,,creed,28.31,561587266,755422e7-9040-477b-9bd2-6a6e8fd97387\n",
      "2019-11-01 00:00:01 UTC,view,3601530,2053013563810775923,appliances.kitchen.washer,lg,712.87,518085591,3bfb58cd-7892-48cc-8020-2f17e6de6e7f\n",
      "2019-11-30 23:59:58 UTC,view,15700137,2053013559733912211,,,277.74,532714000,02b4131c-0112-4231-aafa-ceaa08e77c1b\n",
      "2019-11-30 23:59:58 UTC,view,28719425,2053013565639492569,apparel.shoes,baden,62.81,545223467,734c5eef-0742-4f8b-9d22-48f75b0bc359\n",
      "2019-11-30 23:59:59 UTC,view,1004833,2053013555631882655,electronics.smartphone,samsung,167.03,557794415,6fecf566-ebb0-4e70-a243-cdc13ce044cb\n",
      "2019-11-30 23:59:59 UTC,view,2701706,2053013563911439225,appliances.kitchen.refrigerators,samsung,566.27,531607492,368ddc8b-5db9-40fb-b7ff-b6582a1192c0\n",
      "2019-11-30 23:59:59 UTC,view,1004233,2053013555631882655,electronics.smartphone,apple,1312.52,579969851,90aca71c-ed8a-4670-866a-761ebacb732d\n"
     ]
    }
   ],
   "source": [
    "! echo \"Oct-2019\"\n",
    "! head -n 5 dataset/2019-Oct.csv\n",
    "! tail -n 5 dataset/2019-Oct.csv\n",
    "! echo \"Nov-2019\"\n",
    "! head -n 5 dataset/2019-Nov.csv\n",
    "! tail -n 5 dataset/2019-Nov.csv"
   ]
  },
  {
   "cell_type": "code",
   "execution_count": 4,
   "metadata": {},
   "outputs": [],
   "source": [
    "from pyspark.sql import SparkSession\n",
    "\n",
    "spark = SparkSession.builder.appName(\"abd_classification\").getOrCreate()"
   ]
  },
  {
   "cell_type": "code",
   "execution_count": 22,
   "metadata": {},
   "outputs": [],
   "source": [
    "sales_oct = spark.read.csv(\"dataset/2019-Oct-small.csv\", header=\"true\", inferSchema=\"true\", sep=\",\")\n",
    "sales_nov = spark.read.csv(\"dataset/2019-Nov-small.csv\", header=\"true\", inferSchema=\"true\", sep=\",\")"
   ]
  },
  {
   "cell_type": "code",
   "execution_count": 19,
   "metadata": {},
   "outputs": [],
   "source": [
    "sales_oct_small, _ = sales_oct.randomSplit([0.005, 0.995], 42)\n",
    "sales_nov_small, _ = sales_nov.randomSplit([0.005, 0.995], 42)"
   ]
  },
  {
   "cell_type": "code",
   "execution_count": 24,
   "metadata": {},
   "outputs": [
    {
     "name": "stdout",
     "output_type": "stream",
     "text": [
      "root\n",
      " |-- event_time: string (nullable = true)\n",
      " |-- event_type: string (nullable = true)\n",
      " |-- product_id: integer (nullable = true)\n",
      " |-- category_id: long (nullable = true)\n",
      " |-- category_code: string (nullable = true)\n",
      " |-- brand: string (nullable = true)\n",
      " |-- price: double (nullable = true)\n",
      " |-- user_id: integer (nullable = true)\n",
      " |-- user_session: string (nullable = true)\n",
      "\n",
      "root\n",
      " |-- event_time: string (nullable = true)\n",
      " |-- event_type: string (nullable = true)\n",
      " |-- product_id: integer (nullable = true)\n",
      " |-- category_id: long (nullable = true)\n",
      " |-- category_code: string (nullable = true)\n",
      " |-- brand: string (nullable = true)\n",
      " |-- price: double (nullable = true)\n",
      " |-- user_id: integer (nullable = true)\n",
      " |-- user_session: string (nullable = true)\n",
      "\n"
     ]
    }
   ],
   "source": [
    "sales_oct.printSchema()\n",
    "so = sales_oct.count()\n",
    "\n",
    "sales_nov.printSchema()\n",
    "sv = sales_nov.count()"
   ]
  },
  {
   "cell_type": "code",
   "execution_count": 25,
   "metadata": {},
   "outputs": [
    {
     "name": "stdout",
     "output_type": "stream",
     "text": [
      "9999\n",
      "9999\n"
     ]
    }
   ],
   "source": [
    "print(so)\n",
    "print(sv)"
   ]
  },
  {
   "cell_type": "code",
   "execution_count": 32,
   "metadata": {},
   "outputs": [
    {
     "name": "stdout",
     "output_type": "stream",
     "text": [
      "+---------+\n",
      "|user_id  |\n",
      "+---------+\n",
      "|541312140|\n",
      "|554748717|\n",
      "|519107250|\n",
      "|550050854|\n",
      "|535871217|\n",
      "|512742880|\n",
      "|555447699|\n",
      "|550978835|\n",
      "|520571932|\n",
      "|537918940|\n",
      "|555158050|\n",
      "|530282093|\n",
      "|555444559|\n",
      "|541312140|\n",
      "|555446365|\n",
      "|513642368|\n",
      "|537192226|\n",
      "|519528062|\n",
      "|550050854|\n",
      "|535871217|\n",
      "+---------+\n",
      "only showing top 20 rows\n",
      "\n"
     ]
    }
   ],
   "source": [
    "sales_oct.select(\"user_id\").show(truncate=False)"
   ]
  },
  {
   "cell_type": "code",
   "execution_count": 33,
   "metadata": {},
   "outputs": [
    {
     "name": "stdout",
     "output_type": "stream",
     "text": [
      "+-----------------------+----------+----------+-------------------+--------------------------------+--------+------+---------+------------------------------------+\n",
      "|event_time             |event_type|product_id|category_id        |category_code                   |brand   |price |user_id  |user_session                        |\n",
      "+-----------------------+----------+----------+-------------------+--------------------------------+--------+------+---------+------------------------------------+\n",
      "|2019-11-01 00:00:00 UTC|view      |1003461   |2053013555631882655|electronics.smartphone          |xiaomi  |489.07|520088904|4d3b30da-a5e4-49df-b1a8-ba5943f1dd33|\n",
      "|2019-11-01 00:00:00 UTC|view      |5000088   |2053013566100866035|appliances.sewing_machine       |janome  |293.65|530496790|8e5f4f83-366c-4f70-860e-ca7417414283|\n",
      "|2019-11-01 00:00:01 UTC|view      |17302664  |2053013553853497655|null                            |creed   |28.31 |561587266|755422e7-9040-477b-9bd2-6a6e8fd97387|\n",
      "|2019-11-01 00:00:01 UTC|view      |3601530   |2053013563810775923|appliances.kitchen.washer       |lg      |712.87|518085591|3bfb58cd-7892-48cc-8020-2f17e6de6e7f|\n",
      "|2019-11-01 00:00:01 UTC|view      |1004775   |2053013555631882655|electronics.smartphone          |xiaomi  |183.27|558856683|313628f1-68b8-460d-84f6-cec7a8796ef2|\n",
      "|2019-11-01 00:00:01 UTC|view      |1306894   |2053013558920217191|computers.notebook              |hp      |360.09|520772685|816a59f3-f5ae-4ccd-9b23-82aa8c23d33c|\n",
      "|2019-11-01 00:00:01 UTC|view      |1306421   |2053013558920217191|computers.notebook              |hp      |514.56|514028527|df8184cc-3694-4549-8c8c-6b5171877376|\n",
      "|2019-11-01 00:00:02 UTC|view      |15900065  |2053013558190408249|null                            |rondell |30.86 |518574284|5e6ef132-4d7c-4730-8c7f-85aa4082588f|\n",
      "|2019-11-01 00:00:02 UTC|view      |12708937  |2053013553559896355|null                            |michelin|72.72 |532364121|0a899268-31eb-46de-898d-09b2da950b24|\n",
      "|2019-11-01 00:00:02 UTC|view      |1004258   |2053013555631882655|electronics.smartphone          |apple   |732.07|532647354|d2d3d2c6-631d-489e-9fb5-06f340b85be0|\n",
      "|2019-11-01 00:00:03 UTC|view      |17200570  |2053013559792632471|furniture.living_room.sofa      |null    |437.33|518780843|aa806835-b14c-45af-9538-cd4d1849be3e|\n",
      "|2019-11-01 00:00:03 UTC|view      |2701517   |2053013563911439225|appliances.kitchen.refrigerators|null    |155.11|518427361|c89b0d96-247f-4044-9c91-bb5f38c6af9b|\n",
      "|2019-11-01 00:00:03 UTC|view      |16700260  |2053013559901684381|furniture.kitchen.chair         |null    |31.64 |566255262|173d7b72-1db7-4638-8207-be8148bf3c9f|\n",
      "|2019-11-01 00:00:04 UTC|view      |34600011  |2060981320581906480|null                            |null    |20.54 |512416379|4dfe2c67-e537-4dc2-ae69-0b65263db091|\n",
      "|2019-11-01 00:00:05 UTC|view      |4600658   |2053013563944993659|appliances.kitchen.dishwasher   |samsung |411.83|526595547|aab33a9a-29c3-4d50-84c1-8a2bc9256104|\n",
      "|2019-11-01 00:00:06 UTC|view      |24900193  |2053013562183385881|null                            |null    |1.09  |512651494|f603c815-f51a-46fe-9404-cb586e35edaf|\n",
      "|2019-11-01 00:00:07 UTC|view      |27400066  |2053013563391345499|null                            |null    |8.55  |551061950|3f6112f1-5695-4e88-bb0a-49f9e36658ff|\n",
      "|2019-11-01 00:00:07 UTC|view      |5100503   |2053013553375346967|null                            |xiaomi  |22.68 |520037415|f54fa96a-f3f2-43ac-99a4-fcb2a449dd36|\n",
      "|2019-11-01 00:00:07 UTC|view      |1004566   |2053013555631882655|electronics.smartphone          |huawei  |164.84|566265908|52c2c76c-b79e-4794-86ff-badc76d35f5a|\n",
      "|2019-11-01 00:00:08 UTC|view      |1307115   |2053013558920217191|computers.notebook              |hp      |411.59|514028527|df8184cc-3694-4549-8c8c-6b5171877376|\n",
      "+-----------------------+----------+----------+-------------------+--------------------------------+--------+------+---------+------------------------------------+\n",
      "only showing top 20 rows\n",
      "\n"
     ]
    }
   ],
   "source": [
    "sales_nov.show(20, truncate=False)"
   ]
  },
  {
   "cell_type": "code",
   "execution_count": 28,
   "metadata": {},
   "outputs": [
    {
     "data": {
      "text/plain": [
       "DataFrame[summary: string, event_time: string, event_type: string, product_id: string, category_id: string, category_code: string, brand: string, price: string, user_id: string, user_session: string]"
      ]
     },
     "execution_count": 28,
     "metadata": {},
     "output_type": "execute_result"
    }
   ],
   "source": [
    "sales_oct.describe()"
   ]
  },
  {
   "cell_type": "code",
   "execution_count": 43,
   "metadata": {},
   "outputs": [
    {
     "name": "stdout",
     "output_type": "stream",
     "text": [
      "3741\n",
      "+----------+----------+----------+-----------+-------------+-----+-----+-------+------------+\n",
      "|event_time|event_type|product_id|category_id|category_code|brand|price|user_id|user_session|\n",
      "+----------+----------+----------+-----------+-------------+-----+-----+-------+------------+\n",
      "|         0|         0|         0|          0|         3741| 1805|    0|      0|           0|\n",
      "+----------+----------+----------+-----------+-------------+-----+-----+-------+------------+\n",
      "\n",
      "+----------+----------+----------+-----------+-------------+-----+-----+-------+------------+\n",
      "|event_time|event_type|product_id|category_id|category_code|brand|price|user_id|user_session|\n",
      "+----------+----------+----------+-----------+-------------+-----+-----+-------+------------+\n",
      "|         0|         0|         0|          0|         3277| 1442|    0|      0|           0|\n",
      "+----------+----------+----------+-----------+-------------+-----+-----+-------+------------+\n",
      "\n"
     ]
    }
   ],
   "source": [
    "# df_users.select(col(\"Age\")).where(col(\"Age\") == \"NULL\").count()\n",
    "# https://stackoverflow.com/questions/40163106/cannot-find-col-function-in-pyspark\n",
    "#sales_oct.select(\"brand\").where(F.col(\"brand\") == \"null\").count()\n",
    "#for column in sales_oct.columns:\n",
    "#    value = sales_oct.select(F.col(column)).where(F.col(column) == \"NULL\").count()\n",
    "#    print(\"Null number \"+str(column)+ \"=\" +str(value))\n",
    "sales_nov.select([count(when(isnan(c) | col(c).isNull(), c)).alias(c) for c in sales_nov.columns]\n",
    "   ).show()\n",
    "sales_oct.select([count(when(isnan(c) | col(c).isNull(), c)).alias(c) for c in sales_oct.columns]\n",
    "   ).show()"
   ]
  },
  {
   "cell_type": "code",
   "execution_count": 38,
   "metadata": {},
   "outputs": [
    {
     "name": "stdout",
     "output_type": "stream",
     "text": [
      "+-------+-----------------+\n",
      "|summary|            price|\n",
      "+-------+-----------------+\n",
      "|  count|             9999|\n",
      "|   mean|294.0986068606829|\n",
      "| stddev|365.5235340279953|\n",
      "|    min|              0.0|\n",
      "|    max|          2574.07|\n",
      "+-------+-----------------+\n",
      "\n"
     ]
    }
   ],
   "source": [
    "sales_oct.describe(\"price\").show()"
   ]
  },
  {
   "cell_type": "code",
   "execution_count": 41,
   "metadata": {},
   "outputs": [
    {
     "name": "stdout",
     "output_type": "stream",
     "text": [
      "+-------+--------------------+--------------------+-----+-----+\n",
      "|summary|          product_id|         category_id|brand|price|\n",
      "+-------+--------------------+--------------------+-----+-----+\n",
      "|  count|                  11|                  11|    0|   11|\n",
      "|   mean|2.4783409454545453E7|2.070040346477199...| null|  0.0|\n",
      "| stddev|1.7841158231601987E7|3.788220907754455...| null|  0.0|\n",
      "|    min|             1003507| 2053013553526341921| null|  0.0|\n",
      "|    max|            53000001| 2146660886926852416| null|  0.0|\n",
      "+-------+--------------------+--------------------+-----+-----+\n",
      "\n"
     ]
    }
   ],
   "source": [
    "sales_oct.select('product_id', 'category_id', 'brand', 'price').where(col('price')==0).show()"
   ]
  },
  {
   "cell_type": "markdown",
   "metadata": {},
   "source": [
    "Groupby user session using market basket since we have not user valuation"
   ]
  },
  {
   "cell_type": "code",
   "execution_count": 50,
   "metadata": {},
   "outputs": [
    {
     "name": "stdout",
     "output_type": "stream",
     "text": [
      "+------------------------------------+------------------------------------------------------------------------------------------------------------------------------------------------------+\n",
      "|user_session                        |products                                                                                                                                              |\n",
      "+------------------------------------+------------------------------------------------------------------------------------------------------------------------------------------------------+\n",
      "|051fa0c1-a1c1-4276-8d57-fc0f3f5e2933|[3600661, 3600666, 3601537]                                                                                                                           |\n",
      "|2af9b570-0942-4dcd-8f25-4d84fba82553|[4804055, 4804055, 4804055]                                                                                                                           |\n",
      "|75f3f39e-cc56-4564-8b1b-5db49ca95314|[12707153, 15200946]                                                                                                                                  |\n",
      "|78c0b329-af93-44fa-966d-08d7c69a37b1|[16900023]                                                                                                                                            |\n",
      "|85881243-7b33-4098-8418-a2fc9a3c2e05|[7002254, 7004492, 7002254]                                                                                                                           |\n",
      "|898ff23f-fc70-4239-879d-4ef9226cd6db|[12701400, 23000104, 23000081]                                                                                                                        |\n",
      "|90551c19-3a04-45bb-9f8b-2f06f793a95c|[1004978]                                                                                                                                             |\n",
      "|a6b41834-75dd-4cd5-ace6-cbe1a4fe54df|[7202317, 7203226, 7203227, 7203226, 7202317]                                                                                                         |\n",
      "|b36c1441-930a-4a6f-8222-b59d1faf3554|[2702013]                                                                                                                                             |\n",
      "|b6773cc5-61cc-4a15-9bd0-3ad79d55ed35|[14701074, 14700100, 14700205, 14700100, 14701074, 14700100, 14700205, 14700205, 14700205, 14701074, 14700205, 14701074, 14700101, 14700205, 14701074]|\n",
      "|c3012f56-70f3-4198-960d-5f14467c0a53|[1005115]                                                                                                                                             |\n",
      "|c7e588c7-78a9-4033-9326-562f7ad76eda|[1005073, 1005014]                                                                                                                                    |\n",
      "|ce054142-5e1d-4ed7-9c99-5ef5627b424a|[5701166, 5701149]                                                                                                                                    |\n",
      "|fa1df743-4ef7-4273-b3e3-50a6c7c6671c|[28000012, 28000020]                                                                                                                                  |\n",
      "|115a5a7b-f995-48e5-8f81-f816f8ebe5d7|[1201472]                                                                                                                                             |\n",
      "|1d17fc91-aaa9-4238-b45f-abf77502f9f5|[17200535]                                                                                                                                            |\n",
      "|3214d4da-3e88-4136-bea1-4150190b19aa|[22700096, 22700175]                                                                                                                                  |\n",
      "|3c0d23ef-065b-418a-b724-7e289b537d68|[1480711]                                                                                                                                             |\n",
      "|47641f8a-3aba-471a-8d07-014deccec567|[2501614]                                                                                                                                             |\n",
      "|6418cd53-6d57-4a88-9ba9-696deeb56786|[17301555]                                                                                                                                            |\n",
      "+------------------------------------+------------------------------------------------------------------------------------------------------------------------------------------------------+\n",
      "only showing top 20 rows\n",
      "\n"
     ]
    }
   ],
   "source": [
    "# https://stackoverflow.com/questions/48406304/groupby-and-concat-array-columns-pyspark\n",
    "sales_oct.groupBy('user_session').agg(collect_list('product_id').alias('products')).show(20, truncate=False)"
   ]
  },
  {
   "cell_type": "code",
   "execution_count": 49,
   "metadata": {},
   "outputs": [
    {
     "name": "stdout",
     "output_type": "stream",
     "text": [
      "+------------------------------------+--------------------------------------------------------+\n",
      "|user_session                        |brand                                                   |\n",
      "+------------------------------------+--------------------------------------------------------+\n",
      "|051fa0c1-a1c1-4276-8d57-fc0f3f5e2933|[samsung, samsung, samsung]                             |\n",
      "|2af9b570-0942-4dcd-8f25-4d84fba82553|[apple, apple, apple]                                   |\n",
      "|75f3f39e-cc56-4564-8b1b-5db49ca95314|[bars]                                                  |\n",
      "|78c0b329-af93-44fa-966d-08d7c69a37b1|[brw]                                                   |\n",
      "|85881243-7b33-4098-8418-a2fc9a3c2e05|[wingoffly, belecoo, wingoffly]                         |\n",
      "|898ff23f-fc70-4239-879d-4ef9226cd6db|[yokohama]                                              |\n",
      "|90551c19-3a04-45bb-9f8b-2f06f793a95c|[samsung]                                               |\n",
      "|a6b41834-75dd-4cd5-ace6-cbe1a4fe54df|[lego, lego, lego, lego, lego]                          |\n",
      "|b36c1441-930a-4a6f-8222-b59d1faf3554|[]                                                      |\n",
      "|b6773cc5-61cc-4a15-9bd0-3ad79d55ed35|[sv, sv, sv, sv, sv, sv, sv, sv, sv, sv]                |\n",
      "|c3012f56-70f3-4198-960d-5f14467c0a53|[apple]                                                 |\n",
      "|c7e588c7-78a9-4033-9326-562f7ad76eda|[samsung, samsung]                                      |\n",
      "|ce054142-5e1d-4ed7-9c99-5ef5627b424a|[]                                                      |\n",
      "|fa1df743-4ef7-4273-b3e3-50a6c7c6671c|[]                                                      |\n",
      "|115a5a7b-f995-48e5-8f81-f816f8ebe5d7|[samsung]                                               |\n",
      "|1d17fc91-aaa9-4238-b45f-abf77502f9f5|[]                                                      |\n",
      "|3214d4da-3e88-4136-bea1-4150190b19aa|[stels]                                                 |\n",
      "|3c0d23ef-065b-418a-b724-7e289b537d68|[pulser]                                                |\n",
      "|47641f8a-3aba-471a-8d07-014deccec567|[redmond]                                               |\n",
      "|6418cd53-6d57-4a88-9ba9-696deeb56786|[]                                                      |\n",
      "|67f020ab-0207-4539-a3b2-bbf9e279ad26|[huawei]                                                |\n",
      "|6ef23467-5292-4125-80da-5d12fdd4ad88|[samsung]                                               |\n",
      "|70d5010f-64ff-403c-99e4-e32345f2f84f|[tissot]                                                |\n",
      "|9f599100-5fe0-49c5-9b12-36bc68dd42c1|[wacom, wacom, wacom]                                   |\n",
      "|b683773b-b6b8-4dce-aca8-4ad8a77a7533|[xiaomi]                                                |\n",
      "|db74d2e9-e113-418f-a072-2b9394713e4a|[apple, apple]                                          |\n",
      "|e0bfc13a-139f-4738-be75-172b9375a1e7|[honor, honor, honor, honor, xiaomi, withings, withings]|\n",
      "|e1c7368b-6047-4bf7-b588-8f867d926b51|[huawei]                                                |\n",
      "|e60dd287-a9da-4407-9960-532606b24e00|[nokia]                                                 |\n",
      "|1e8ccc77-4d75-4f95-a7be-ce057e801381|[sv, sv]                                                |\n",
      "+------------------------------------+--------------------------------------------------------+\n",
      "only showing top 30 rows\n",
      "\n"
     ]
    }
   ],
   "source": [
    "sales_oct.groupBy('user_session').agg(collect_list('brand').alias('brand')).show(30, truncate=False)"
   ]
  },
  {
   "cell_type": "code",
   "execution_count": null,
   "metadata": {},
   "outputs": [],
   "source": []
  }
 ],
 "metadata": {
  "kernelspec": {
   "display_name": "Python 3.6.9 64-bit",
   "language": "python",
   "name": "python36964bit5e956226e03147d4b18a7eb1c295f7a6"
  },
  "language_info": {
   "codemirror_mode": {
    "name": "ipython",
    "version": 3
   },
   "file_extension": ".py",
   "mimetype": "text/x-python",
   "name": "python",
   "nbconvert_exporter": "python",
   "pygments_lexer": "ipython3",
   "version": "3.6.9"
  }
 },
 "nbformat": 4,
 "nbformat_minor": 2
}

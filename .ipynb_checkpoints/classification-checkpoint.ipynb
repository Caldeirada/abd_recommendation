{
 "cells": [
  {
   "cell_type": "markdown",
   "metadata": {},
   "source": [
    "# Initial Setup"
   ]
  },
  {
   "cell_type": "code",
   "execution_count": null,
   "metadata": {},
   "outputs": [],
   "source": [
    "# basic imports \n",
    "\n",
    "import os # OS e.g directory structure\n",
    "import sys\n",
    "import numpy as np # linear algebra\n",
    "import scipy as sc  # scientific computing\n",
    "import pandas as pd # data processing, file I/O\n",
    "import seaborn as sns  # visualization\n",
    "import matplotlib.pyplot as plt # visualization\n",
    "import warnings\n",
    "warnings.filterwarnings(\"ignore\")"
   ]
  },
  {
   "cell_type": "code",
   "execution_count": null,
   "metadata": {},
   "outputs": [],
   "source": [
    "# Spark related imports\n",
    "\n",
    "from pyspark.sql import SparkSession, Row\n",
    "from pyspark.sql.functions import *\n",
    "from pyspark.sql.types import *\n",
    "\n",
    "from pyspark.ml.feature import StringIndexer\n",
    "from pyspark.ml.recommendation import ALS\n",
    "from pyspark.ml.evaluation import RegressionEvaluator"
   ]
  },
  {
   "cell_type": "markdown",
   "metadata": {},
   "source": [
    "\n",
    "# Data Exploration"
   ]
  },
  {
   "cell_type": "code",
   "execution_count": 7,
   "metadata": {},
   "outputs": [
    {
     "name": "stdout",
     "output_type": "stream",
     "text": [
      "Oct-2019\n",
      "event_time,event_type,product_id,category_id,category_code,brand,price,user_id,user_session\n",
      "2019-10-01 00:00:00 UTC,view,44600062,2103807459595387724,,shiseido,35.79,541312140,72d76fde-8bb3-4e00-8c23-a032dfed738c\n",
      "2019-10-01 00:00:00 UTC,view,3900821,2053013552326770905,appliances.environment.water_heater,aqua,33.20,554748717,9333dfbd-b87a-4708-9857-6336556b0fcc\n",
      "2019-10-01 00:00:01 UTC,view,17200506,2053013559792632471,furniture.living_room.sofa,,543.10,519107250,566511c2-e2e3-422b-b695-cf8e6e792ca8\n",
      "2019-10-01 00:00:01 UTC,view,1307067,2053013558920217191,computers.notebook,lenovo,251.74,550050854,7c90fc70-0e80-4590-96f3-13c02c18c713\n",
      "2019-10-31 23:59:58 UTC,view,2300275,2053013560530830019,electronics.camera.video,gopro,527.40,537931532,22c57267-da98-4f28-9a9c-18bb5b385193\n",
      "2019-10-31 23:59:58 UTC,view,10800172,2053013554994348409,,redmond,61.75,527322328,5054190a-46cb-4211-a8f1-16fc1a060ed8\n",
      "2019-10-31 23:59:58 UTC,view,5701038,2053013553970938175,auto.accessories.player,kenwood,128.70,566280422,05b6c62b-992f-4e8e-91f7-961bcb4719cd\n",
      "2019-10-31 23:59:59 UTC,view,21407424,2053013561579406073,electronics.clocks,tissot,689.85,513118352,4c14bf2a-2820-4504-929d-046356a5a204\n",
      "2019-10-31 23:59:59 UTC,view,13300120,2053013557166998015,,swisshome,155.73,525266378,6e57d2d7-6022-46e6-81d6-fa77f14cefd8\n",
      "Nov-2019\n",
      "event_time,event_type,product_id,category_id,category_code,brand,price,user_id,user_session\n",
      "2019-11-01 00:00:00 UTC,view,1003461,2053013555631882655,electronics.smartphone,xiaomi,489.07,520088904,4d3b30da-a5e4-49df-b1a8-ba5943f1dd33\n",
      "2019-11-01 00:00:00 UTC,view,5000088,2053013566100866035,appliances.sewing_machine,janome,293.65,530496790,8e5f4f83-366c-4f70-860e-ca7417414283\n",
      "2019-11-01 00:00:01 UTC,view,17302664,2053013553853497655,,creed,28.31,561587266,755422e7-9040-477b-9bd2-6a6e8fd97387\n",
      "2019-11-01 00:00:01 UTC,view,3601530,2053013563810775923,appliances.kitchen.washer,lg,712.87,518085591,3bfb58cd-7892-48cc-8020-2f17e6de6e7f\n",
      "2019-11-30 23:59:58 UTC,view,15700137,2053013559733912211,,,277.74,532714000,02b4131c-0112-4231-aafa-ceaa08e77c1b\n",
      "2019-11-30 23:59:58 UTC,view,28719425,2053013565639492569,apparel.shoes,baden,62.81,545223467,734c5eef-0742-4f8b-9d22-48f75b0bc359\n",
      "2019-11-30 23:59:59 UTC,view,1004833,2053013555631882655,electronics.smartphone,samsung,167.03,557794415,6fecf566-ebb0-4e70-a243-cdc13ce044cb\n",
      "2019-11-30 23:59:59 UTC,view,2701706,2053013563911439225,appliances.kitchen.refrigerators,samsung,566.27,531607492,368ddc8b-5db9-40fb-b7ff-b6582a1192c0\n",
      "2019-11-30 23:59:59 UTC,view,1004233,2053013555631882655,electronics.smartphone,apple,1312.52,579969851,90aca71c-ed8a-4670-866a-761ebacb732d\n"
     ]
    }
   ],
   "source": [
    "! echo \"Oct-2019\"\n",
    "! head -n 5 dataset/2019-Oct.csv\n",
    "! tail -n 5 dataset/2019-Oct.csv\n",
    "! echo \"Nov-2019\"\n",
    "! head -n 5 dataset/2019-Nov.csv\n",
    "! tail -n 5 dataset/2019-Nov.csv"
   ]
  },
  {
   "cell_type": "code",
   "execution_count": 8,
   "metadata": {},
   "outputs": [],
   "source": [
    "from pyspark.sql import SparkSession\n",
    "\n",
    "spark = SparkSession.builder.appName(\"abd_classification\").getOrCreate()"
   ]
  },
  {
   "cell_type": "code",
   "execution_count": 9,
   "metadata": {},
   "outputs": [],
   "source": [
    "sales_oct = spark.read.csv(\"dataset/2019-Oct.csv\", header=\"true\", inferSchema=\"true\", sep=\",\")\n",
    "sales_nov = spark.read.csv(\"dataset/2019-Oct.csv\", header=\"true\", inferSchema=\"true\", sep=\",\")"
   ]
  },
  {
   "cell_type": "code",
   "execution_count": 10,
   "metadata": {},
   "outputs": [
    {
     "name": "stdout",
     "output_type": "stream",
     "text": [
      "root\n",
      " |-- event_time: string (nullable = true)\n",
      " |-- event_type: string (nullable = true)\n",
      " |-- product_id: integer (nullable = true)\n",
      " |-- category_id: long (nullable = true)\n",
      " |-- category_code: string (nullable = true)\n",
      " |-- brand: string (nullable = true)\n",
      " |-- price: double (nullable = true)\n",
      " |-- user_id: integer (nullable = true)\n",
      " |-- user_session: string (nullable = true)\n",
      "\n",
      "root\n",
      " |-- event_time: string (nullable = true)\n",
      " |-- event_type: string (nullable = true)\n",
      " |-- product_id: integer (nullable = true)\n",
      " |-- category_id: long (nullable = true)\n",
      " |-- category_code: string (nullable = true)\n",
      " |-- brand: string (nullable = true)\n",
      " |-- price: double (nullable = true)\n",
      " |-- user_id: integer (nullable = true)\n",
      " |-- user_session: string (nullable = true)\n",
      "\n"
     ]
    },
    {
     "data": {
      "text/plain": [
       "42448764"
      ]
     },
     "execution_count": 10,
     "metadata": {},
     "output_type": "execute_result"
    }
   ],
   "source": [
    "sales_oct.printSchema()\n",
    "sales_oct.count()\n",
    "\n",
    "sales_nov.printSchema()\n",
    "sales_nov.count()"
   ]
  },
  {
   "cell_type": "code",
   "execution_count": 12,
   "metadata": {},
   "outputs": [
    {
     "name": "stdout",
     "output_type": "stream",
     "text": [
      "+-----------------------+----------+----------+-------------------+-----------------------------------+--------+-------+---------+------------------------------------+\n",
      "|event_time             |event_type|product_id|category_id        |category_code                      |brand   |price  |user_id  |user_session                        |\n",
      "+-----------------------+----------+----------+-------------------+-----------------------------------+--------+-------+---------+------------------------------------+\n",
      "|2019-10-01 00:00:00 UTC|view      |44600062  |2103807459595387724|null                               |shiseido|35.79  |541312140|72d76fde-8bb3-4e00-8c23-a032dfed738c|\n",
      "|2019-10-01 00:00:00 UTC|view      |3900821   |2053013552326770905|appliances.environment.water_heater|aqua    |33.2   |554748717|9333dfbd-b87a-4708-9857-6336556b0fcc|\n",
      "|2019-10-01 00:00:01 UTC|view      |17200506  |2053013559792632471|furniture.living_room.sofa         |null    |543.1  |519107250|566511c2-e2e3-422b-b695-cf8e6e792ca8|\n",
      "|2019-10-01 00:00:01 UTC|view      |1307067   |2053013558920217191|computers.notebook                 |lenovo  |251.74 |550050854|7c90fc70-0e80-4590-96f3-13c02c18c713|\n",
      "|2019-10-01 00:00:04 UTC|view      |1004237   |2053013555631882655|electronics.smartphone             |apple   |1081.98|535871217|c6bd7419-2748-4c56-95b4-8cec9ff8b80d|\n",
      "|2019-10-01 00:00:05 UTC|view      |1480613   |2053013561092866779|computers.desktop                  |pulser  |908.62 |512742880|0d0d91c2-c9c2-4e81-90a5-86594dec0db9|\n",
      "|2019-10-01 00:00:08 UTC|view      |17300353  |2053013553853497655|null                               |creed   |380.96 |555447699|4fe811e9-91de-46da-90c3-bbd87ed3a65d|\n",
      "|2019-10-01 00:00:08 UTC|view      |31500053  |2053013558031024687|null                               |luminarc|41.16  |550978835|6280d577-25c8-4147-99a7-abc6048498d6|\n",
      "|2019-10-01 00:00:10 UTC|view      |28719074  |2053013565480109009|apparel.shoes.keds                 |baden   |102.71 |520571932|ac1cd4e5-a3ce-4224-a2d7-ff660a105880|\n",
      "|2019-10-01 00:00:11 UTC|view      |1004545   |2053013555631882655|electronics.smartphone             |huawei  |566.01 |537918940|406c46ed-90a4-4787-a43b-59a410c1a5fb|\n",
      "|2019-10-01 00:00:11 UTC|view      |2900536   |2053013554776244595|appliances.kitchen.microwave       |elenberg|51.46  |555158050|b5bdd0b3-4ca2-4c55-939e-9ce44bb50abd|\n",
      "|2019-10-01 00:00:11 UTC|view      |1005011   |2053013555631882655|electronics.smartphone             |samsung |900.64 |530282093|50a293fb-5940-41b2-baf3-17af0e812101|\n",
      "|2019-10-01 00:00:13 UTC|view      |3900746   |2053013552326770905|appliances.environment.water_heater|haier   |102.38 |555444559|98b88fa0-d8fa-4b9d-8a71-3dd403afab85|\n",
      "|2019-10-01 00:00:15 UTC|view      |44600062  |2103807459595387724|null                               |shiseido|35.79  |541312140|72d76fde-8bb3-4e00-8c23-a032dfed738c|\n",
      "|2019-10-01 00:00:16 UTC|view      |13500240  |2053013557099889147|furniture.bedroom.bed              |brw     |93.18  |555446365|7f0062d8-ead0-4e0a-96f6-43a0b79a2fc4|\n",
      "|2019-10-01 00:00:17 UTC|view      |23100006  |2053013561638126333|null                               |null    |357.79 |513642368|17566c27-0a8f-4506-9f30-c6a2ccbf583b|\n",
      "|2019-10-01 00:00:18 UTC|view      |1801995   |2053013554415534427|electronics.video.tv               |haier   |193.03 |537192226|e3151795-c355-4efa-acf6-e1fe1bebeee5|\n",
      "|2019-10-01 00:00:18 UTC|view      |10900029  |2053013555069845885|appliances.kitchen.mixer           |bosch   |58.95  |519528062|901b9e3c-3f8f-4147-a442-c25d5c5ed332|\n",
      "|2019-10-01 00:00:19 UTC|view      |1306631   |2053013558920217191|computers.notebook                 |hp      |580.89 |550050854|7c90fc70-0e80-4590-96f3-13c02c18c713|\n",
      "|2019-10-01 00:00:19 UTC|view      |1005135   |2053013555631882655|electronics.smartphone             |apple   |1747.79|535871217|c6bd7419-2748-4c56-95b4-8cec9ff8b80d|\n",
      "+-----------------------+----------+----------+-------------------+-----------------------------------+--------+-------+---------+------------------------------------+\n",
      "only showing top 20 rows\n",
      "\n"
     ]
    }
   ],
   "source": [
    "sales_oct.show(20, truncate=False)"
   ]
  },
  {
   "cell_type": "code",
   "execution_count": 13,
   "metadata": {},
   "outputs": [
    {
     "name": "stdout",
     "output_type": "stream",
     "text": [
      "+-----------------------+----------+----------+-------------------+-----------------------------------+--------+-------+---------+------------------------------------+\n",
      "|event_time             |event_type|product_id|category_id        |category_code                      |brand   |price  |user_id  |user_session                        |\n",
      "+-----------------------+----------+----------+-------------------+-----------------------------------+--------+-------+---------+------------------------------------+\n",
      "|2019-10-01 00:00:00 UTC|view      |44600062  |2103807459595387724|null                               |shiseido|35.79  |541312140|72d76fde-8bb3-4e00-8c23-a032dfed738c|\n",
      "|2019-10-01 00:00:00 UTC|view      |3900821   |2053013552326770905|appliances.environment.water_heater|aqua    |33.2   |554748717|9333dfbd-b87a-4708-9857-6336556b0fcc|\n",
      "|2019-10-01 00:00:01 UTC|view      |17200506  |2053013559792632471|furniture.living_room.sofa         |null    |543.1  |519107250|566511c2-e2e3-422b-b695-cf8e6e792ca8|\n",
      "|2019-10-01 00:00:01 UTC|view      |1307067   |2053013558920217191|computers.notebook                 |lenovo  |251.74 |550050854|7c90fc70-0e80-4590-96f3-13c02c18c713|\n",
      "|2019-10-01 00:00:04 UTC|view      |1004237   |2053013555631882655|electronics.smartphone             |apple   |1081.98|535871217|c6bd7419-2748-4c56-95b4-8cec9ff8b80d|\n",
      "|2019-10-01 00:00:05 UTC|view      |1480613   |2053013561092866779|computers.desktop                  |pulser  |908.62 |512742880|0d0d91c2-c9c2-4e81-90a5-86594dec0db9|\n",
      "|2019-10-01 00:00:08 UTC|view      |17300353  |2053013553853497655|null                               |creed   |380.96 |555447699|4fe811e9-91de-46da-90c3-bbd87ed3a65d|\n",
      "|2019-10-01 00:00:08 UTC|view      |31500053  |2053013558031024687|null                               |luminarc|41.16  |550978835|6280d577-25c8-4147-99a7-abc6048498d6|\n",
      "|2019-10-01 00:00:10 UTC|view      |28719074  |2053013565480109009|apparel.shoes.keds                 |baden   |102.71 |520571932|ac1cd4e5-a3ce-4224-a2d7-ff660a105880|\n",
      "|2019-10-01 00:00:11 UTC|view      |1004545   |2053013555631882655|electronics.smartphone             |huawei  |566.01 |537918940|406c46ed-90a4-4787-a43b-59a410c1a5fb|\n",
      "|2019-10-01 00:00:11 UTC|view      |2900536   |2053013554776244595|appliances.kitchen.microwave       |elenberg|51.46  |555158050|b5bdd0b3-4ca2-4c55-939e-9ce44bb50abd|\n",
      "|2019-10-01 00:00:11 UTC|view      |1005011   |2053013555631882655|electronics.smartphone             |samsung |900.64 |530282093|50a293fb-5940-41b2-baf3-17af0e812101|\n",
      "|2019-10-01 00:00:13 UTC|view      |3900746   |2053013552326770905|appliances.environment.water_heater|haier   |102.38 |555444559|98b88fa0-d8fa-4b9d-8a71-3dd403afab85|\n",
      "|2019-10-01 00:00:15 UTC|view      |44600062  |2103807459595387724|null                               |shiseido|35.79  |541312140|72d76fde-8bb3-4e00-8c23-a032dfed738c|\n",
      "|2019-10-01 00:00:16 UTC|view      |13500240  |2053013557099889147|furniture.bedroom.bed              |brw     |93.18  |555446365|7f0062d8-ead0-4e0a-96f6-43a0b79a2fc4|\n",
      "|2019-10-01 00:00:17 UTC|view      |23100006  |2053013561638126333|null                               |null    |357.79 |513642368|17566c27-0a8f-4506-9f30-c6a2ccbf583b|\n",
      "|2019-10-01 00:00:18 UTC|view      |1801995   |2053013554415534427|electronics.video.tv               |haier   |193.03 |537192226|e3151795-c355-4efa-acf6-e1fe1bebeee5|\n",
      "|2019-10-01 00:00:18 UTC|view      |10900029  |2053013555069845885|appliances.kitchen.mixer           |bosch   |58.95  |519528062|901b9e3c-3f8f-4147-a442-c25d5c5ed332|\n",
      "|2019-10-01 00:00:19 UTC|view      |1306631   |2053013558920217191|computers.notebook                 |hp      |580.89 |550050854|7c90fc70-0e80-4590-96f3-13c02c18c713|\n",
      "|2019-10-01 00:00:19 UTC|view      |1005135   |2053013555631882655|electronics.smartphone             |apple   |1747.79|535871217|c6bd7419-2748-4c56-95b4-8cec9ff8b80d|\n",
      "+-----------------------+----------+----------+-------------------+-----------------------------------+--------+-------+---------+------------------------------------+\n",
      "only showing top 20 rows\n",
      "\n"
     ]
    }
   ],
   "source": [
    "sales_nov.show(20, truncate=False)"
   ]
  },
  {
   "cell_type": "code",
   "execution_count": null,
   "metadata": {},
   "outputs": [],
   "source": []
  },
  {
   "cell_type": "code",
   "execution_count": 21,
   "metadata": {},
   "outputs": [
    {
     "ename": "SyntaxError",
     "evalue": "invalid syntax (<ipython-input-21-2939eb5ba326>, line 5)",
     "output_type": "error",
     "traceback": [
      "\u001b[0;36m  File \u001b[0;32m\"<ipython-input-21-2939eb5ba326>\"\u001b[0;36m, line \u001b[0;32m5\u001b[0m\n\u001b[0;31m    print(f\"Null number {col} = {sales_oct.select(col(col)).where(col(col) == \"null\").count()}\"\"\u001b[0m\n\u001b[0m                                                                                  ^\u001b[0m\n\u001b[0;31mSyntaxError\u001b[0m\u001b[0;31m:\u001b[0m invalid syntax\n"
     ]
    }
   ],
   "source": [
    "# df_users.select(col(\"Age\")).where(col(\"Age\") == \"NULL\").count()\n",
    "\n",
    "sales_oct.select(col(\"brand\")).where(col(\"brand\") == \"null\").count()\n",
    "for col in sales_oct.columns:\n",
    "    print(f\"Null number {col} = {sales_oct.select(col(col)).where(col(col) == \"null\").count()}\"\""
   ]
  },
  {
   "cell_type": "code",
   "execution_count": 19,
   "metadata": {},
   "outputs": [
    {
     "data": {
      "text/plain": [
       "['event_time',\n",
       " 'event_type',\n",
       " 'product_id',\n",
       " 'category_id',\n",
       " 'category_code',\n",
       " 'brand',\n",
       " 'price',\n",
       " 'user_id',\n",
       " 'user_session']"
      ]
     },
     "execution_count": 19,
     "metadata": {},
     "output_type": "execute_result"
    }
   ],
   "source": [
    "sales_oct.columns"
   ]
  },
  {
   "cell_type": "code",
   "execution_count": null,
   "metadata": {},
   "outputs": [],
   "source": []
  }
 ],
 "metadata": {
  "kernelspec": {
   "display_name": "Python 3.6.9 64-bit",
   "language": "python",
   "name": "python36964bit5e956226e03147d4b18a7eb1c295f7a6"
  },
  "language_info": {
   "codemirror_mode": {
    "name": "ipython",
    "version": 3
   },
   "file_extension": ".py",
   "mimetype": "text/x-python",
   "name": "python",
   "nbconvert_exporter": "python",
   "pygments_lexer": "ipython3",
   "version": "3.6.9"
  }
 },
 "nbformat": 4,
 "nbformat_minor": 2
}

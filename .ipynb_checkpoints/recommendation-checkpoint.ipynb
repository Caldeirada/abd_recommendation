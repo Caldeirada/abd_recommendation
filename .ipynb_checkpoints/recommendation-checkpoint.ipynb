{
 "cells": [
  {
   "cell_type": "markdown",
   "metadata": {},
   "source": [
    "# Initial Setup"
   ]
  },
  {
   "cell_type": "code",
   "execution_count": 1,
   "metadata": {},
   "outputs": [],
   "source": [
    "# basic imports \n",
    "\n",
    "import os # OS e.g directory structure\n",
    "import sys\n",
    "import numpy as np # linear algebra\n",
    "import scipy as sc  # scientific computing\n",
    "import pandas as pd # data processing, file I/O\n",
    "import seaborn as sns  # visualization\n",
    "import matplotlib.pyplot as plt # visualization\n",
    "import warnings\n",
    "warnings.filterwarnings(\"ignore\")"
   ]
  },
  {
   "cell_type": "code",
   "execution_count": 2,
   "metadata": {},
   "outputs": [],
   "source": [
    "# Spark related imports\n",
    "\n",
    "from pyspark.sql import SparkSession, Row\n",
    "from pyspark.sql.functions import *\n",
    "from pyspark.sql.types import *\n",
    "\n",
    "from pyspark.ml.feature import StringIndexer\n",
    "from pyspark.ml.recommendation import ALS\n",
    "from pyspark.ml.evaluation import RegressionEvaluator"
   ]
  },
  {
   "cell_type": "markdown",
   "metadata": {},
   "source": [
    "\n",
    "# Data Exploration"
   ]
  },
  {
   "cell_type": "code",
   "execution_count": null,
   "metadata": {},
   "outputs": [],
   "source": [
    "! echo \"Oct-2019\"\n",
    "! head -n 5 dataset/2019-Oct.csv\n",
    "! tail -n 5 dataset/2019-Oct.csv\n",
    "! echo \"Nov-2019\"\n",
    "! head -n 5 dataset/2019-Nov.csv\n",
    "! tail -n 5 dataset/2019-Nov.csv"
   ]
  },
  {
   "cell_type": "code",
   "execution_count": 3,
   "metadata": {},
   "outputs": [],
   "source": [
    "from pyspark.sql import SparkSession\n",
    "\n",
    "spark = SparkSession.builder.appName(\"abd_classification\").getOrCreate()"
   ]
  },
  {
   "cell_type": "code",
   "execution_count": 4,
   "metadata": {},
   "outputs": [],
   "source": [
    "sales_oct = spark.read.csv(\"dataset/2019-Oct-small.csv\", header=\"true\", inferSchema=\"true\", sep=\",\")\n",
    "sales_nov = spark.read.csv(\"dataset/2019-Nov-small.csv\", header=\"true\", inferSchema=\"true\", sep=\",\")"
   ]
  },
  {
   "cell_type": "code",
   "execution_count": null,
   "metadata": {},
   "outputs": [],
   "source": [
    "sales_oct_small, _ = sales_oct.randomSplit([0.005, 0.995], 42)\n",
    "sales_nov_small, _ = sales_nov.randomSplit([0.005, 0.995], 42)"
   ]
  },
  {
   "cell_type": "code",
   "execution_count": 5,
   "metadata": {},
   "outputs": [
    {
     "name": "stdout",
     "output_type": "stream",
     "text": [
      "root\n",
      " |-- event_time: string (nullable = true)\n",
      " |-- event_type: string (nullable = true)\n",
      " |-- product_id: integer (nullable = true)\n",
      " |-- category_id: long (nullable = true)\n",
      " |-- category_code: string (nullable = true)\n",
      " |-- brand: string (nullable = true)\n",
      " |-- price: double (nullable = true)\n",
      " |-- user_id: integer (nullable = true)\n",
      " |-- user_session: string (nullable = true)\n",
      "\n",
      "root\n",
      " |-- event_time: string (nullable = true)\n",
      " |-- event_type: string (nullable = true)\n",
      " |-- product_id: integer (nullable = true)\n",
      " |-- category_id: long (nullable = true)\n",
      " |-- category_code: string (nullable = true)\n",
      " |-- brand: string (nullable = true)\n",
      " |-- price: double (nullable = true)\n",
      " |-- user_id: integer (nullable = true)\n",
      " |-- user_session: string (nullable = true)\n",
      "\n"
     ]
    }
   ],
   "source": [
    "sales_oct.printSchema()\n",
    "so = sales_oct.count()\n",
    "\n",
    "sales_nov.printSchema()\n",
    "sv = sales_nov.count()"
   ]
  },
  {
   "cell_type": "code",
   "execution_count": 18,
   "metadata": {},
   "outputs": [
    {
     "name": "stdout",
     "output_type": "stream",
     "text": [
      "99999\n",
      "99999\n"
     ]
    }
   ],
   "source": [
    "print(so)\n",
    "print(sv)"
   ]
  },
  {
   "cell_type": "code",
   "execution_count": 26,
   "metadata": {},
   "outputs": [
    {
     "name": "stdout",
     "output_type": "stream",
     "text": [
      "+----------+-----+\n",
      "|event_type|count|\n",
      "+----------+-----+\n",
      "|purchase  |1655 |\n",
      "|view      |97129|\n",
      "|cart      |1215 |\n",
      "+----------+-----+\n",
      "\n"
     ]
    }
   ],
   "source": [
    "sales_oct.groupBy('event_type').count().show(truncate=False)"
   ]
  },
  {
   "cell_type": "markdown",
   "metadata": {},
   "source": [
    "Available event types"
   ]
  },
  {
   "cell_type": "code",
   "execution_count": null,
   "metadata": {},
   "outputs": [],
   "source": [
    "sales_oct.select(\"user_id\").show(truncate=False)"
   ]
  },
  {
   "cell_type": "code",
   "execution_count": null,
   "metadata": {},
   "outputs": [],
   "source": [
    "sales_nov.show(20, truncate=False)"
   ]
  },
  {
   "cell_type": "code",
   "execution_count": 7,
   "metadata": {},
   "outputs": [
    {
     "data": {
      "text/plain": [
       "DataFrame[summary: string, event_time: string, event_type: string, product_id: string, category_id: string, category_code: string, brand: string, price: string, user_id: string, user_session: string]"
      ]
     },
     "execution_count": 7,
     "metadata": {},
     "output_type": "execute_result"
    }
   ],
   "source": [
    "sales_oct.describe()"
   ]
  },
  {
   "cell_type": "code",
   "execution_count": 8,
   "metadata": {},
   "outputs": [
    {
     "name": "stdout",
     "output_type": "stream",
     "text": [
      "+----------+----------+----------+-----------+-------------+-----+-----+-------+------------+\n",
      "|event_time|event_type|product_id|category_id|category_code|brand|price|user_id|user_session|\n",
      "+----------+----------+----------+-----------+-------------+-----+-----+-------+------------+\n",
      "|         0|         0|         0|          0|        33840|15776|    0|      0|           0|\n",
      "+----------+----------+----------+-----------+-------------+-----+-----+-------+------------+\n",
      "\n",
      "+----------+----------+----------+-----------+-------------+-----+-----+-------+------------+\n",
      "|event_time|event_type|product_id|category_id|category_code|brand|price|user_id|user_session|\n",
      "+----------+----------+----------+-----------+-------------+-----+-----+-------+------------+\n",
      "|         0|         0|         0|          0|        32587|14392|    0|      0|           0|\n",
      "+----------+----------+----------+-----------+-------------+-----+-----+-------+------------+\n",
      "\n"
     ]
    }
   ],
   "source": [
    "# https://stackoverflow.com/questions/40163106/cannot-find-col-function-in-pyspark\n",
    "\n",
    "sales_nov.select([count(when(isnan(c) | col(c).isNull(), c)).alias(c) for c in sales_nov.columns]).show()\n",
    "sales_oct.select([count(when(isnan(c) | col(c).isNull(), c)).alias(c) for c in sales_oct.columns]).show()"
   ]
  },
  {
   "cell_type": "code",
   "execution_count": null,
   "metadata": {},
   "outputs": [],
   "source": [
    "sales_oct.describe(\"price\").show()"
   ]
  },
  {
   "cell_type": "code",
   "execution_count": 10,
   "metadata": {},
   "outputs": [
    {
     "name": "stdout",
     "output_type": "stream",
     "text": [
      "+--------------------+----------+----------+-------------------+--------------------+-----+-----+---------+--------------------+\n",
      "|          event_time|event_type|product_id|        category_id|       category_code|brand|price|  user_id|        user_session|\n",
      "+--------------------+----------+----------+-------------------+--------------------+-----+-----+---------+--------------------+\n",
      "|2019-10-01 02:21:...|      view|  53000001|2146660886926852416|                null| null|  0.0|512450748|03267357-d0e5-483...|\n",
      "|2019-10-01 02:21:...|      view|  53000001|2146660886926852416|                null| null|  0.0|512450748|03267357-d0e5-483...|\n",
      "|2019-10-01 02:22:...|      view|   7000684|2053013560346280633|       kids.carriage| null|  0.0|555462472|c378efe2-75b4-48f...|\n",
      "|2019-10-01 02:24:...|      view|   4100157|2053013561218695907|                null| null|  0.0|531057348|6b9c87ab-f991-45c...|\n",
      "|2019-10-01 02:28:...|      view|  23301316|2053013561956893455|                null| null|  0.0|521311516|f3a2fd03-13eb-423...|\n",
      "|2019-10-01 02:28:...|      view|  13105134|2053013553526341921|                null| null|  0.0|542208580|28f1c782-c8a4-411...|\n",
      "|2019-10-01 02:29:...|      view|  31200824|2053013558098133555|                null| null|  0.0|513025724|85eb9f41-fc42-44d...|\n",
      "|2019-10-01 02:30:...|      view|  23301316|2053013561956893455|                null| null|  0.0|521311516|f3a2fd03-13eb-423...|\n",
      "|2019-10-01 02:30:...|      view|  31200824|2053013558098133555|                null| null|  0.0|513025724|85eb9f41-fc42-44d...|\n",
      "|2019-10-01 02:36:...|      view|  32403740|2053013566562238479|                null| null|  0.0|546652849|4ebb4cd0-26ba-443...|\n",
      "|2019-10-01 02:37:...|      view|   1003507|2053013555631882655|electronics.smart...| null|  0.0|532323530|af0b8bbc-5792-4f8...|\n",
      "|2019-10-01 02:42:...|      view|  36200062|2071489994601529806|                null| null|  0.0|520837900|2c114f73-5a72-4e9...|\n",
      "|2019-10-01 02:42:...|      view|  10200661|2053013553224352013|          kids.dolls| null|  0.0|548417642|bbd7b93c-2d5e-406...|\n",
      "|2019-10-01 02:42:...|      view|  36200062|2071489994601529806|                null| null|  0.0|520837900|2c114f73-5a72-4e9...|\n",
      "|2019-10-01 02:43:...|      view|  35900050|2070747673358500784|                null| null|  0.0|543945962|316a6cbc-27a1-417...|\n",
      "|2019-10-01 02:44:...|      view|  23900253|2053013561814287111|                null| null|  0.0|518925085|9b53a253-3040-4bb...|\n",
      "|2019-10-01 02:44:...|      view|  35900054|2070747673358500784|                null| null|  0.0|543945962|316a6cbc-27a1-417...|\n",
      "|2019-10-01 02:45:...|      view|   4100157|2053013561218695907|                null| null|  0.0|548210293|7891b39f-74eb-471...|\n",
      "|2019-10-01 02:45:...|      view|  23900266|2053013561814287111|                null| null|  0.0|518925085|9b53a253-3040-4bb...|\n",
      "|2019-10-01 02:53:...|      view|  12202735|2116907525176557699|       sport.bicycle| null|  0.0|539443846|a47853d8-71cf-4ea...|\n",
      "+--------------------+----------+----------+-------------------+--------------------+-----+-----+---------+--------------------+\n",
      "only showing top 20 rows\n",
      "\n"
     ]
    },
    {
     "data": {
      "text/plain": [
       "119"
      ]
     },
     "execution_count": 10,
     "metadata": {},
     "output_type": "execute_result"
    }
   ],
   "source": [
    "no_price = sales_oct.select('*').where(col('price')==0)\n",
    "no_price.show()\n",
    "no_price.count()"
   ]
  },
  {
   "cell_type": "markdown",
   "metadata": {},
   "source": [
    "Groupby user session using market basket since we have not user valuation"
   ]
  },
  {
   "cell_type": "code",
   "execution_count": 11,
   "metadata": {},
   "outputs": [
    {
     "name": "stdout",
     "output_type": "stream",
     "text": [
      "+------------------------------------+------------------------------------------------------------------------------------------------------------------------+\n",
      "|user_session                        |products                                                                                                                |\n",
      "+------------------------------------+------------------------------------------------------------------------------------------------------------------------+\n",
      "|0043d905-2c15-49e8-bd54-cb3db0de78ca|[1004665, 8902408]                                                                                                      |\n",
      "|051fa0c1-a1c1-4276-8d57-fc0f3f5e2933|[3600661, 3600666, 3601537]                                                                                             |\n",
      "|06d381f2-b696-4870-8a03-9d0aab539f72|[2200937]                                                                                                               |\n",
      "|0fce1f10-24c6-44ef-a07a-dde9b18403dd|[1005157, 1005157, 1005160, 1005157, 5100551, 5100846, 5100551, 5100551, 5100328, 5100328, 5100328, 5100328]            |\n",
      "|1218cd22-94b3-4890-ad1a-bcee5b5bf460|[26200134]                                                                                                              |\n",
      "|15f425fb-9d08-4b2e-9c34-b5d81051b1a8|[26400672, 26401613]                                                                                                    |\n",
      "|1c11741c-8209-46ed-8ef8-303fa87269ca|[1201231]                                                                                                               |\n",
      "|1c26241b-0e08-4c41-a29e-87aee24b063f|[4100348, 4100348, 4100348, 4100306, 1307004]                                                                           |\n",
      "|27dadd78-0e67-461b-929c-1eef0e458dca|[5701128, 5701000, 5701149, 5701134, 5701134, 5700619, 12711088]                                                        |\n",
      "|284660cd-c391-4f44-ba00-893abc57bcef|[26201559]                                                                                                              |\n",
      "|2a48d2f1-6c41-4485-a038-c074b7c4fed8|[1005115, 1005115]                                                                                                      |\n",
      "|2aaec0d5-f446-483f-b090-a32e579c68f0|[1801900, 1801881, 1801881, 1801929, 1801929]                                                                           |\n",
      "|2af9b570-0942-4dcd-8f25-4d84fba82553|[4804055, 4804055, 4804055]                                                                                             |\n",
      "|32c3a1c8-7c9e-4c7b-97d6-0691989769c2|[31500053, 37900123, 23300020, 3100074]                                                                                 |\n",
      "|3415a6bc-0834-4439-8283-8d7d3c13cd06|[14700204]                                                                                                              |\n",
      "|3a8a2e45-3c9b-4d1a-868f-9fb732f91bab|[1306186, 1306186]                                                                                                      |\n",
      "|3db5f39e-f361-4dcb-b1b4-441e872d4f0e|[1004433]                                                                                                               |\n",
      "|43113b0d-e056-4b12-8d0d-804ae1a3851a|[28716534, 28716532, 28716532, 28716534, 28713631, 28714158, 28711568, 28711567, 28711567, 28711567, 28711568, 28711619]|\n",
      "|4972c8b3-de76-4c81-a6e2-543f4dcbfc41|[1801766, 1801766]                                                                                                      |\n",
      "|505e3686-5506-4fa2-8cd2-852c56dcce0e|[9600120, 9600073, 9600012, 9600012, 9600125, 9600125]                                                                  |\n",
      "+------------------------------------+------------------------------------------------------------------------------------------------------------------------+\n",
      "only showing top 20 rows\n",
      "\n"
     ]
    }
   ],
   "source": [
    "# https://stackoverflow.com/questions/48406304/groupby-and-concat-array-columns-pyspark\n",
    "sales_oct.groupBy('user_session').agg(collect_list('product_id').alias('products')).show(20, truncate=False)"
   ]
  },
  {
   "cell_type": "code",
   "execution_count": 12,
   "metadata": {},
   "outputs": [
    {
     "name": "stdout",
     "output_type": "stream",
     "text": [
      "+------------------------------------+------------------------------------------------------------------------------------------------+\n",
      "|user_session                        |brand                                                                                           |\n",
      "+------------------------------------+------------------------------------------------------------------------------------------------+\n",
      "|0043d905-2c15-49e8-bd54-cb3db0de78ca|[samsung, chicco]                                                                               |\n",
      "|051fa0c1-a1c1-4276-8d57-fc0f3f5e2933|[samsung, samsung, samsung]                                                                     |\n",
      "|06d381f2-b696-4870-8a03-9d0aab539f72|[canon]                                                                                         |\n",
      "|0fce1f10-24c6-44ef-a07a-dde9b18403dd|[xiaomi, xiaomi, xiaomi, xiaomi, xiaomi, xiaomi, xiaomi, xiaomi, xiaomi, xiaomi, xiaomi, xiaomi]|\n",
      "|1218cd22-94b3-4890-ad1a-bcee5b5bf460|[]                                                                                              |\n",
      "|15f425fb-9d08-4b2e-9c34-b5d81051b1a8|[lucente]                                                                                       |\n",
      "|1c11741c-8209-46ed-8ef8-303fa87269ca|[huawei]                                                                                        |\n",
      "|1c26241b-0e08-4c41-a29e-87aee24b063f|[sega, sega, sega, sony, lenovo]                                                                |\n",
      "|27dadd78-0e67-461b-929c-1eef0e458dca|[pioneer, pioneer, pioneer, jvc, tunga]                                                         |\n",
      "|284660cd-c391-4f44-ba00-893abc57bcef|[teosa]                                                                                         |\n",
      "|2a48d2f1-6c41-4485-a038-c074b7c4fed8|[apple, apple]                                                                                  |\n",
      "|2aaec0d5-f446-483f-b090-a32e579c68f0|[samsung, samsung, samsung, samsung, samsung]                                                   |\n",
      "|2af9b570-0942-4dcd-8f25-4d84fba82553|[apple, apple, apple]                                                                           |\n",
      "|32c3a1c8-7c9e-4c7b-97d6-0691989769c2|[luminarc, vega, perina, braun]                                                                 |\n",
      "|3415a6bc-0834-4439-8283-8d7d3c13cd06|[]                                                                                              |\n",
      "|3a8a2e45-3c9b-4d1a-868f-9fb732f91bab|[acer, acer]                                                                                    |\n",
      "|3db5f39e-f361-4dcb-b1b4-441e872d4f0e|[samsung]                                                                                       |\n",
      "|43113b0d-e056-4b12-8d0d-804ae1a3851a|[destra, caprice, ara, ara, ara, ara, ara, ara]                                                 |\n",
      "|4972c8b3-de76-4c81-a6e2-543f4dcbfc41|[artel, artel]                                                                                  |\n",
      "|505e3686-5506-4fa2-8cd2-852c56dcce0e|[dji, fly, dji, dji, dji, dji]                                                                  |\n",
      "|55a499a7-8c38-4d7c-8599-e59a875bccc0|[xiaomi, xiaomi, xiaomi, xiaomi, xiaomi]                                                        |\n",
      "|5cdf0645-c1f8-4601-95c9-aa7d28edd82a|[elenberg]                                                                                      |\n",
      "|5d6cbd04-1aa9-4704-a871-380ecaaae960|[dunlop, dunlop]                                                                                |\n",
      "|62a3b59a-de32-450e-828f-281eac9c02d1|[samsung, samsung, samsung, samsung, samsung]                                                   |\n",
      "|64b4a403-1d0a-49a1-b653-e8640616e06f|[samsung, samsung, samsung, samsung, samsung]                                                   |\n",
      "|6a05aff5-d0d3-4800-9f08-26bb1018697e|[apple]                                                                                         |\n",
      "|6de1fead-ab10-47eb-a5ec-74d9a8cc0127|[apple, apple, apple]                                                                           |\n",
      "|6f704c72-b09b-456a-82ba-40aedabb7288|[samsung, samsung]                                                                              |\n",
      "|73641920-7de0-4a1b-89dd-75fb7a13d084|[janome]                                                                                        |\n",
      "|7426b758-fd6a-47e3-a4bd-fe144135c45f|[lg, samsung, indesit, indesit, atlant, indesit, indesit, atlant]                               |\n",
      "+------------------------------------+------------------------------------------------------------------------------------------------+\n",
      "only showing top 30 rows\n",
      "\n"
     ]
    }
   ],
   "source": [
    "sales_oct.groupBy('user_session').agg(collect_list('brand').alias('brand')).show(30, truncate=False)"
   ]
  },
  {
   "cell_type": "code",
   "execution_count": 16,
   "metadata": {},
   "outputs": [
    {
     "name": "stdout",
     "output_type": "stream",
     "text": [
      "+----------+\n",
      "|event_type|\n",
      "+----------+\n",
      "|purchase  |\n",
      "|view      |\n",
      "|cart      |\n",
      "+----------+\n",
      "\n"
     ]
    }
   ],
   "source": [
    "sales_oct.select(\"event_type\").distinct().show(truncate=False)"
   ]
  },
  {
   "cell_type": "code",
   "execution_count": null,
   "metadata": {},
   "outputs": [],
   "source": []
  }
 ],
 "metadata": {
  "kernelspec": {
   "display_name": "Python 3.6.9 64-bit",
   "language": "python",
   "name": "python36964bit5e956226e03147d4b18a7eb1c295f7a6"
  },
  "language_info": {
   "codemirror_mode": {
    "name": "ipython",
    "version": 3
   },
   "file_extension": ".py",
   "mimetype": "text/x-python",
   "name": "python",
   "nbconvert_exporter": "python",
   "pygments_lexer": "ipython3",
   "version": "3.6.9"
  }
 },
 "nbformat": 4,
 "nbformat_minor": 2
}

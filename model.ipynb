{
 "cells": [
  {
   "cell_type": "code",
   "execution_count": null,
   "metadata": {},
   "outputs": [],
   "source": [
    "# basic imports \n",
    "\n",
    "import os # OS e.g directory structure\n",
    "import sys\n",
    "import numpy as np # linear algebra\n",
    "import scipy as sc  # scientific computing\n",
    "import pandas as pd # data processing, file I/O\n",
    "import seaborn as sns  # visualization\n",
    "import matplotlib.pyplot as plt # visualization\n",
    "import math\n",
    "import warnings\n",
    "warnings.filterwarnings(\"ignore\")"
   ]
  },
  {
   "cell_type": "code",
   "execution_count": null,
   "metadata": {},
   "outputs": [],
   "source": [
    "# Spark related imports\n",
    "\n",
    "from pyspark.sql import SparkSession, Row\n",
    "from pyspark.sql.functions import *\n",
    "from pyspark.sql.types import *\n",
    "\n",
    "from pyspark.ml.feature import StringIndexer\n",
    "from pyspark.ml.fpm import FPGrowth\n",
    "from pyspark.ml.fpm import PrefixSpan\n",
    "from pyspark.ml.evaluation import RegressionEvaluator"
   ]
  },
  {
   "cell_type": "code",
   "execution_count": null,
   "metadata": {},
   "outputs": [],
   "source": [
    "from pyspark.sql import SparkSession\n",
    "\n",
    "spark = SparkSession.builder.appName(\"abd_recommendation\").getOrCreate()"
   ]
  },
  {
   "cell_type": "code",
   "execution_count": null,
   "metadata": {},
   "outputs": [],
   "source": [
    "def fpGrowth(df, minSup, minConf):\n",
    "    fpGrowth = FPGrowth(itemsCol=\"items\", minSupport=minSup, minConfidence=minConf)\n",
    "    return fpGrowth_u_p.fit(df)\n",
    "\n",
    "def modelShow(model, limit = 20):\n",
    "    # Display frequent itemsets.\n",
    "    model.freqItemsets.orderBy(col(\"freq\").desc()).show(truncate=False)\n",
    "    # Display generated association rules.\n",
    "    model.associationRules.orderBy(col(\"confidence\").desc(), col(\"lift\").desc()).show(limit)\n"
   ]
  },
  {
   "cell_type": "markdown",
   "metadata": {},
   "source": [
    "Read parquet from data preparation"
   ]
  },
  {
   "cell_type": "code",
   "execution_count": null,
   "metadata": {},
   "outputs": [],
   "source": [
    "products = spark.read.parquet(\"products\")\n",
    "brands = spark.read.parquet(\"brands\")\n",
    "categories = spark.read.parquet(\"categories\")"
   ]
  },
  {
   "cell_type": "markdown",
   "metadata": {},
   "source": [
    "Creating the market-basktet model for user vs (products, brands, categories) purchased and viewed"
   ]
  },
  {
   "cell_type": "code",
   "execution_count": null,
   "metadata": {},
   "outputs": [],
   "source": [
    "df_user_product = spark.read.parquet(\"user_products\")\n",
    "df_user_brand = spark.read.parquet(\"user_brands\")\n",
    "df_user_category = spark.read.parquet(\"user_categories\")\n",
    "df_user_product_v = spark.read.parquet(\"user_products_v\")\n",
    "df_user_brand_v = spark.read.parquet(\"user_brands_v\")\n",
    "df_user_category_v = spark.read.parquet(\"user_categories_v\")"
   ]
  },
  {
   "cell_type": "code",
   "execution_count": null,
   "metadata": {},
   "outputs": [],
   "source": [
    "# user x product purchase\n",
    "model_u_p = fpGrowth(df_user_product, 0.001, 0.001)\n",
    "modelShow(model_u_p)"
   ]
  },
  {
   "cell_type": "code",
   "execution_count": null,
   "metadata": {},
   "outputs": [],
   "source": [
    "# user x brand purchase\r\n",
    "model_u_b = fpGrowth(df_user_brand, 0.001, 0.001)\r\n",
    "modelShow(model_u_b)"
   ]
  },
  {
   "cell_type": "code",
   "execution_count": null,
   "metadata": {},
   "outputs": [],
   "source": [
    "# user x category purchase\n",
    "model_u_c = fpGrowth(df_user_category, 0.001, 0.001)\n",
    "modelShow(model_u_c)"
   ]
  },
  {
   "cell_type": "code",
   "execution_count": null,
   "metadata": {},
   "outputs": [],
   "source": [
    "# user x product view\n",
    "model_u_p_v = fpGrowth(df_user_product_v, 0.001, 0.001)\n",
    "modelShow(model_u_p_v)"
   ]
  },
  {
   "cell_type": "code",
   "execution_count": null,
   "metadata": {},
   "outputs": [],
   "source": [
    "# user x brand view\n",
    "model_u_b_v = fpGrowth(df_user_brand_v, 0.001, 0.001)\n",
    "modelShow(model_u_b_v)"
   ]
  },
  {
   "cell_type": "code",
   "execution_count": null,
   "metadata": {},
   "outputs": [],
   "source": [
    "# user x category view\n",
    "model_u_c_v = fpGrowth(df_user_category_v, 0.001, 0.001)\n",
    "modelShow(model_u_c_v)"
   ]
  },
  {
   "cell_type": "markdown",
   "metadata": {},
   "source": [
    "Creating the market-basktet model for session vs (products, brands, categories) purchased and viewed"
   ]
  },
  {
   "cell_type": "code",
   "execution_count": null,
   "metadata": {},
   "outputs": [],
   "source": [
    "df_session_product = spark.read.parquet(\"session_products\")\n",
    "df_session_brand = spark.read.parquet(\"session_brands\")\n",
    "df_session_category = spark.read.parquet(\"session_categories\")\n",
    "df_session_product_v = spark.read.parquet(\"session_products_v\")\n",
    "df_session_brand_v = spark.read.parquet(\"session_brands_v\")\n",
    "df_session_category_v = spark.read.parquet(\"session_categories_v\")"
   ]
  },
  {
   "cell_type": "code",
   "execution_count": null,
   "metadata": {},
   "outputs": [],
   "source": [
    "# session x product purchase\n",
    "model_s_p = fpGrowth(df_session_product, 0.001, 0.001)\n",
    "modelShow(model_s_p)"
   ]
  },
  {
   "cell_type": "code",
   "execution_count": null,
   "metadata": {},
   "outputs": [],
   "source": [
    "# session x brand purchase\n",
    "model_s_b = fpGrowth(df_session_brand, 0.001, 0.001)\n",
    "modelShow(model_s_b)"
   ]
  },
  {
   "cell_type": "code",
   "execution_count": null,
   "metadata": {},
   "outputs": [],
   "source": [
    "# session x category purchase\n",
    "model_s_c = fpGrowth(df_session_cateogry, 0.001, 0.001)\n",
    "modelShow(model_s_c)"
   ]
  },
  {
   "cell_type": "code",
   "execution_count": null,
   "metadata": {},
   "outputs": [],
   "source": [
    "# session x product view\n",
    "model_s_p_v = fpGrowth(df_session_product_v, 0.001, 0.001)\n",
    "modelShow(model_s_p_v)"
   ]
  },
  {
   "cell_type": "code",
   "execution_count": null,
   "metadata": {},
   "outputs": [],
   "source": [
    "# session x brand view\n",
    "model_s_b_v = fpGrowth(df_session_brand_v, 0.001, 0.001)\n",
    "modelShow(model_s_b_v)"
   ]
  },
  {
   "cell_type": "code",
   "execution_count": null,
   "metadata": {},
   "outputs": [],
   "source": [
    "# session x category view\n",
    "model_s_c_v = fpGrowth(df_session_category_v, 0.001, 0.001)\n",
    "modelShow(model_s_c_v)"
   ]
  },
  {
   "cell_type": "code",
   "execution_count": null,
   "metadata": {},
   "outputs": [],
   "source": [
    "# models parquets\n",
    "\n",
    "model_u_p.associationRules.write.mode(\"overwrite\").parquet(\"model_user_products\")\n",
    "model_u_b.associationRules.write.mode(\"overwrite\").parquet(\"model_user_brands\")\n",
    "model_u_c.associationRules.write.mode(\"overwrite\").parquet(\"model_user_categories\")\n",
    "\n",
    "model_u_p_v.associationRules.write.mode(\"overwrite\").parquet(\"model_user_products_v\")\n",
    "model_u_b_v.associationRules.write.mode(\"overwrite\").parquet(\"model_user_brands_v\")\n",
    "model_u_c_v.associationRules.write.mode(\"overwrite\").parquet(\"model_user_categories_v\")\n",
    "\n",
    "\n",
    "\n",
    "model_s_p.associationRules.write.mode(\"overwrite\").parquet(\"model_session_products\")\n",
    "model_s_b.associationRules.write.mode(\"overwrite\").parquet(\"model_session_brands\")\n",
    "model_s_c.associationRules.write.mode(\"overwrite\").parquet(\"model_session_categories\")\n",
    "\n",
    "model_s_p_v.associationRules.write.mode(\"overwrite\").parquet(\"model_session_products_v\")\n",
    "model_s_b_v.associationRules.write.mode(\"overwrite\").parquet(\"model_session_brands_v\")\n",
    "model_s_c_v.associationRules.write.mode(\"overwrite\").parquet(\"model_session_categories_v\")"
   ]
  }
 ],
 "metadata": {
  "kernelspec": {
   "name": "python372jvsc74a57bd0a60d46c41efb414509a1056710712d50c905a250c7a687ab2bbbf0aaa8f3a164",
   "display_name": "Python 3.7.2 64-bit"
  },
  "language_info": {
   "codemirror_mode": {
    "name": "ipython",
    "version": 3
   },
   "file_extension": ".py",
   "mimetype": "text/x-python",
   "name": "python",
   "nbconvert_exporter": "python",
   "pygments_lexer": "ipython3",
   "version": "3.7.2"
  }
 },
 "nbformat": 4,
 "nbformat_minor": 2
}